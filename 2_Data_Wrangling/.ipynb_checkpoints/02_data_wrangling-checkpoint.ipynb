{
 "cells": [
  {
   "cell_type": "markdown",
   "metadata": {},
   "source": [
    "# 2. IMDB_Data_Wrangling<a id='2_Data_wrangling'></a>"
   ]
  },
  {
   "cell_type": "markdown",
   "metadata": {},
   "source": [
    "## 2.1 Table of Contents<a id='2.1_Contents'></a>\n",
    "* 2. IMDB_Data_Wrangling\n",
    "  * 2.1 Table of Contents\n",
    "  * 2.2 Introduction\n",
    "  * 2.3 Imports\n",
    "  * 2.4 Retrieve IMDB Movie Data\n",
    "  * 2.5 Target Feature (Movie Genres)\n",
    "  * 2.6 Save data\n",
    "  * 2.7 Summary\n"
   ]
  },
  {
   "cell_type": "markdown",
   "metadata": {},
   "source": [
    "## 2.2 Introduction"
   ]
  },
  {
   "cell_type": "markdown",
   "metadata": {},
   "source": [
    "In the Data Wrangling/Cleaning phase, data needs first be retrieved by the IMDB API Get request and then transformed into pandas dataframe for further manipulation and export to .csv."
   ]
  },
  {
   "cell_type": "markdown",
   "metadata": {},
   "source": [
    "## 2.3 Imports<a id='2.3_Imports'></a>"
   ]
  },
  {
   "cell_type": "markdown",
   "metadata": {},
   "source": [
    "Importing all appropriate packages in order to access requests and organize/clean json data to pandas dataframe."
   ]
  },
  {
   "cell_type": "code",
   "execution_count": 1,
   "metadata": {},
   "outputs": [],
   "source": [
    "#Import requests, json, pandas, numpy, matplotlib.pyplot, and seaborn\n",
    "import requests\n",
    "import json\n",
    "import pandas as pd\n",
    "import numpy as np\n",
    "import matplotlib.pyplot as plt\n",
    "import seaborn as sns\n",
    "import os\n",
    "from ydata_profiling import ProfileReport"
   ]
  },
  {
   "cell_type": "markdown",
   "metadata": {},
   "source": [
    "## 2.4 Retrieve IMDB Movie Data"
   ]
  },
  {
   "cell_type": "markdown",
   "metadata": {},
   "source": [
    "Dataset is retrieved with movie data from 1990 to past year of 2023 with filtered setting of the API Request for G and PG rated movies based on the company's focus on Family Friendly Movies."
   ]
  },
  {
   "cell_type": "code",
   "execution_count": 2,
   "metadata": {},
   "outputs": [],
   "source": [
    "# Intialize start and end datetime for IMDB API Get request\n",
    "start_year = ['1990-01-01', '1991-01-01', '1992-01-01', '1993-01-01', '1994-01-01', '1995-01-01', '1996-01-01', '1997-01-01','1998-01-01', '1999-01-01','2000-01-01', '2001-01-01', '2002-01-01', '2003-01-01', '2004-01-01', '2005-01-01', '2006-01-01', '2007-01-01', '2008-01-01', '2009-01-01', '2010-01-01', '2011-01-01', '2012-01-01', '2013-01-01', '2014-01-01', '2015-01-01', '2016-01-01', '2017-01-01', '2018-01-01', '2019-01-01', '2020-01-01', '2021-01-01', '2022-01-01', '2023-01-01']\n",
    "end_year = ['1990-12-31', '1991-12-31', '1992-12-31', '1993-12-31', '1994-12-31', '1995-12-31', '1996-12-31', '1997-12-31','1998-12-31', '1999-12-31','2000-12-31', '2001-12-31', '2002-12-31', '2003-12-31', '2004-12-31', '2005-12-31', '2006-12-31', '2007-12-31', '2008-12-31', '2009-12-31', '2010-12-31', '2011-12-31', '2012-12-31', '2013-12-31', '2014-12-31', '2015-12-31', '2016-12-31', '2017-12-31', '2018-12-31', '2019-12-31', '2020-12-31', '2021-12-31', '2022-12-31', '2023-12-31']"
   ]
  },
  {
   "cell_type": "code",
   "execution_count": 4,
   "metadata": {},
   "outputs": [],
   "source": [
    "#Created a function in order to generate API requests and convert the request into a Pandas Dataframe based on start and end year\n",
    "#Code for API Get Request found on IMDB Website: https://imdb-api.com/api/#Search-header\n",
    "#Code to convert json data into dict found on https://favtutor.com/blogs/string-to-dict-python\n",
    "#Get keys from python dicts code found in https://tutorialdeep.com/knowhow/get-dictionary-value-key-python/\n",
    "def imdb_data(start_year, end_year):\n",
    "    url = f\"https://imdb-api.com/API/AdvancedSearch/k_8jnkh6yr?title_type=feature&release_date={start_year},{end_year}&certificates=us:G,us:PG&count=250\"\n",
    "    payload = {}\n",
    "    headers = {}\n",
    "    res = requests.request(\"GET\", url, headers=headers, data=payload)\n",
    "    movie_list = res.text.encode('utf8')\n",
    "    movie_list_decode = json.loads(movie_list.decode('utf8'))\n",
    "    movie_list = movie_list_decode['results']\n",
    "    movie_df = pd.DataFrame(movie_list)\n",
    "    return movie_df"
   ]
  },
  {
   "cell_type": "code",
   "execution_count": 6,
   "metadata": {},
   "outputs": [],
   "source": [
    "#Created list of movie dataframes of movies from 1990 to 2023\n",
    "movie_df_concat = []\n",
    "for i in range(len(start_year)):\n",
    "    movie_df_concat.append(imdb_data(start_year[i], end_year[i]))"
   ]
  },
  {
   "cell_type": "code",
   "execution_count": 8,
   "metadata": {},
   "outputs": [
    {
     "data": {
      "text/html": [
       "<div>\n",
       "<style scoped>\n",
       "    .dataframe tbody tr th:only-of-type {\n",
       "        vertical-align: middle;\n",
       "    }\n",
       "\n",
       "    .dataframe tbody tr th {\n",
       "        vertical-align: top;\n",
       "    }\n",
       "\n",
       "    .dataframe thead th {\n",
       "        text-align: right;\n",
       "    }\n",
       "</style>\n",
       "<table border=\"1\" class=\"dataframe\">\n",
       "  <thead>\n",
       "    <tr style=\"text-align: right;\">\n",
       "      <th></th>\n",
       "      <th>id</th>\n",
       "      <th>image</th>\n",
       "      <th>title</th>\n",
       "      <th>description</th>\n",
       "      <th>runtimeStr</th>\n",
       "      <th>genres</th>\n",
       "      <th>genreList</th>\n",
       "      <th>contentRating</th>\n",
       "      <th>imDbRating</th>\n",
       "      <th>imDbRatingVotes</th>\n",
       "      <th>metacriticRating</th>\n",
       "      <th>plot</th>\n",
       "      <th>stars</th>\n",
       "      <th>starList</th>\n",
       "    </tr>\n",
       "  </thead>\n",
       "  <tbody>\n",
       "    <tr>\n",
       "      <th>0</th>\n",
       "      <td>tt0099785</td>\n",
       "      <td>https://m.media-amazon.com/images/M/MV5BMzFkM2...</td>\n",
       "      <td>Home Alone</td>\n",
       "      <td>1990</td>\n",
       "      <td>103 mins</td>\n",
       "      <td>Comedy, Family</td>\n",
       "      <td>[{'key': 'Comedy', 'value': 'Comedy'}, {'key':...</td>\n",
       "      <td>PG</td>\n",
       "      <td>7.7</td>\n",
       "      <td>644183</td>\n",
       "      <td>63</td>\n",
       "      <td>An eight-year-old troublemaker, mistakenly lef...</td>\n",
       "      <td></td>\n",
       "      <td>[]</td>\n",
       "    </tr>\n",
       "    <tr>\n",
       "      <th>1</th>\n",
       "      <td>tt0100944</td>\n",
       "      <td>https://m.media-amazon.com/images/M/MV5BMjI1MD...</td>\n",
       "      <td>The Witches</td>\n",
       "      <td>1990</td>\n",
       "      <td>91 mins</td>\n",
       "      <td>Adventure, Comedy, Family</td>\n",
       "      <td>[{'key': 'Adventure', 'value': 'Adventure'}, {...</td>\n",
       "      <td>PG</td>\n",
       "      <td>6.8</td>\n",
       "      <td>54068</td>\n",
       "      <td>78</td>\n",
       "      <td>A young boy stumbles onto a witch convention a...</td>\n",
       "      <td></td>\n",
       "      <td>[]</td>\n",
       "    </tr>\n",
       "    <tr>\n",
       "      <th>2</th>\n",
       "      <td>tt0099810</td>\n",
       "      <td>https://m.media-amazon.com/images/M/MV5BZDdkOD...</td>\n",
       "      <td>The Hunt for Red October</td>\n",
       "      <td>1990</td>\n",
       "      <td>135 mins</td>\n",
       "      <td>Action, Adventure, Thriller</td>\n",
       "      <td>[{'key': 'Action', 'value': 'Action'}, {'key':...</td>\n",
       "      <td>PG</td>\n",
       "      <td>7.5</td>\n",
       "      <td>211894</td>\n",
       "      <td>58</td>\n",
       "      <td>In November 1984, the Soviet Union's best subm...</td>\n",
       "      <td></td>\n",
       "      <td>[]</td>\n",
       "    </tr>\n",
       "    <tr>\n",
       "      <th>3</th>\n",
       "      <td>tt0099088</td>\n",
       "      <td>https://m.media-amazon.com/images/M/MV5BYjhlMG...</td>\n",
       "      <td>Back to the Future Part III</td>\n",
       "      <td>1990</td>\n",
       "      <td>118 mins</td>\n",
       "      <td>Adventure, Comedy, Sci-Fi</td>\n",
       "      <td>[{'key': 'Adventure', 'value': 'Adventure'}, {...</td>\n",
       "      <td>PG</td>\n",
       "      <td>7.4</td>\n",
       "      <td>474698</td>\n",
       "      <td>55</td>\n",
       "      <td>Stranded in 1955, Marty McFly learns about the...</td>\n",
       "      <td></td>\n",
       "      <td>[]</td>\n",
       "    </tr>\n",
       "    <tr>\n",
       "      <th>4</th>\n",
       "      <td>tt0100419</td>\n",
       "      <td>https://m.media-amazon.com/images/M/MV5BYzk3NG...</td>\n",
       "      <td>Problem Child</td>\n",
       "      <td>1990</td>\n",
       "      <td>81 mins</td>\n",
       "      <td>Comedy, Family</td>\n",
       "      <td>[{'key': 'Comedy', 'value': 'Comedy'}, {'key':...</td>\n",
       "      <td>PG</td>\n",
       "      <td>5.4</td>\n",
       "      <td>32670</td>\n",
       "      <td>27</td>\n",
       "      <td>A young boy just short of a monster is adopted...</td>\n",
       "      <td></td>\n",
       "      <td>[]</td>\n",
       "    </tr>\n",
       "    <tr>\n",
       "      <th>...</th>\n",
       "      <td>...</td>\n",
       "      <td>...</td>\n",
       "      <td>...</td>\n",
       "      <td>...</td>\n",
       "      <td>...</td>\n",
       "      <td>...</td>\n",
       "      <td>...</td>\n",
       "      <td>...</td>\n",
       "      <td>...</td>\n",
       "      <td>...</td>\n",
       "      <td>...</td>\n",
       "      <td>...</td>\n",
       "      <td>...</td>\n",
       "      <td>...</td>\n",
       "    </tr>\n",
       "    <tr>\n",
       "      <th>4053</th>\n",
       "      <td>tt0122511</td>\n",
       "      <td>https://m.media-amazon.com/images/M/MV5BMTQwMW...</td>\n",
       "      <td>The Gnomes Great Adventure</td>\n",
       "      <td>2023</td>\n",
       "      <td>74 mins</td>\n",
       "      <td>Animation, Adventure, Comedy</td>\n",
       "      <td>[{'key': 'Animation', 'value': 'Animation'}, {...</td>\n",
       "      <td>G</td>\n",
       "      <td>6.1</td>\n",
       "      <td>63</td>\n",
       "      <td>None</td>\n",
       "      <td>When a bunch of dim-witted trolls steal the Ki...</td>\n",
       "      <td></td>\n",
       "      <td>[]</td>\n",
       "    </tr>\n",
       "    <tr>\n",
       "      <th>4054</th>\n",
       "      <td>tt30133792</td>\n",
       "      <td>None</td>\n",
       "      <td>Justice League x RWBY: Super Heroes and Huntsmen</td>\n",
       "      <td>2023</td>\n",
       "      <td>None</td>\n",
       "      <td>Animation, Action, Adventure</td>\n",
       "      <td>[{'key': 'Animation', 'value': 'Animation'}, {...</td>\n",
       "      <td>PG</td>\n",
       "      <td>0</td>\n",
       "      <td>0</td>\n",
       "      <td>None</td>\n",
       "      <td>Justice League x RWBY: Super Heroes and Huntsm...</td>\n",
       "      <td></td>\n",
       "      <td>[]</td>\n",
       "    </tr>\n",
       "    <tr>\n",
       "      <th>4055</th>\n",
       "      <td>tt15426874</td>\n",
       "      <td>https://m.media-amazon.com/images/M/MV5BNmIwZj...</td>\n",
       "      <td>Seaper Powers: Mystery of the Blue Pearls</td>\n",
       "      <td>2023</td>\n",
       "      <td>66 mins</td>\n",
       "      <td>Animation</td>\n",
       "      <td>[{'key': 'Animation', 'value': 'Animation'}]</td>\n",
       "      <td>PG</td>\n",
       "      <td>0</td>\n",
       "      <td>0</td>\n",
       "      <td>None</td>\n",
       "      <td>Emma works for NOAA as a diver and researcher....</td>\n",
       "      <td></td>\n",
       "      <td>[]</td>\n",
       "    </tr>\n",
       "    <tr>\n",
       "      <th>4056</th>\n",
       "      <td>tt28018383</td>\n",
       "      <td>None</td>\n",
       "      <td>Graham Bullard Movie: Peanuts Meets the Loud H...</td>\n",
       "      <td>2023</td>\n",
       "      <td>89 mins</td>\n",
       "      <td>Adventure, Comedy, Family</td>\n",
       "      <td>[{'key': 'Adventure', 'value': 'Adventure'}, {...</td>\n",
       "      <td>G</td>\n",
       "      <td>0</td>\n",
       "      <td>0</td>\n",
       "      <td>None</td>\n",
       "      <td>The Peanuts Gang and The Loud Family all have ...</td>\n",
       "      <td></td>\n",
       "      <td>[]</td>\n",
       "    </tr>\n",
       "    <tr>\n",
       "      <th>4057</th>\n",
       "      <td>tt15440520</td>\n",
       "      <td>None</td>\n",
       "      <td>Journey - The Movie</td>\n",
       "      <td>2023</td>\n",
       "      <td>60 mins</td>\n",
       "      <td>Sci-Fi</td>\n",
       "      <td>[{'key': 'Sci-Fi', 'value': 'Sci-Fi'}]</td>\n",
       "      <td>G</td>\n",
       "      <td>0</td>\n",
       "      <td>0</td>\n",
       "      <td>None</td>\n",
       "      <td>Explores all the In Earth and Out Earth places...</td>\n",
       "      <td></td>\n",
       "      <td>[]</td>\n",
       "    </tr>\n",
       "  </tbody>\n",
       "</table>\n",
       "<p>4058 rows × 14 columns</p>\n",
       "</div>"
      ],
      "text/plain": [
       "              id                                              image  \\\n",
       "0      tt0099785  https://m.media-amazon.com/images/M/MV5BMzFkM2...   \n",
       "1      tt0100944  https://m.media-amazon.com/images/M/MV5BMjI1MD...   \n",
       "2      tt0099810  https://m.media-amazon.com/images/M/MV5BZDdkOD...   \n",
       "3      tt0099088  https://m.media-amazon.com/images/M/MV5BYjhlMG...   \n",
       "4      tt0100419  https://m.media-amazon.com/images/M/MV5BYzk3NG...   \n",
       "...          ...                                                ...   \n",
       "4053   tt0122511  https://m.media-amazon.com/images/M/MV5BMTQwMW...   \n",
       "4054  tt30133792                                               None   \n",
       "4055  tt15426874  https://m.media-amazon.com/images/M/MV5BNmIwZj...   \n",
       "4056  tt28018383                                               None   \n",
       "4057  tt15440520                                               None   \n",
       "\n",
       "                                                  title description  \\\n",
       "0                                            Home Alone        1990   \n",
       "1                                           The Witches        1990   \n",
       "2                              The Hunt for Red October        1990   \n",
       "3                           Back to the Future Part III        1990   \n",
       "4                                         Problem Child        1990   \n",
       "...                                                 ...         ...   \n",
       "4053                         The Gnomes Great Adventure        2023   \n",
       "4054   Justice League x RWBY: Super Heroes and Huntsmen        2023   \n",
       "4055          Seaper Powers: Mystery of the Blue Pearls        2023   \n",
       "4056  Graham Bullard Movie: Peanuts Meets the Loud H...        2023   \n",
       "4057                                Journey - The Movie        2023   \n",
       "\n",
       "     runtimeStr                        genres  \\\n",
       "0      103 mins                Comedy, Family   \n",
       "1       91 mins     Adventure, Comedy, Family   \n",
       "2      135 mins   Action, Adventure, Thriller   \n",
       "3      118 mins     Adventure, Comedy, Sci-Fi   \n",
       "4       81 mins                Comedy, Family   \n",
       "...         ...                           ...   \n",
       "4053    74 mins  Animation, Adventure, Comedy   \n",
       "4054       None  Animation, Action, Adventure   \n",
       "4055    66 mins                     Animation   \n",
       "4056    89 mins     Adventure, Comedy, Family   \n",
       "4057    60 mins                        Sci-Fi   \n",
       "\n",
       "                                              genreList contentRating  \\\n",
       "0     [{'key': 'Comedy', 'value': 'Comedy'}, {'key':...            PG   \n",
       "1     [{'key': 'Adventure', 'value': 'Adventure'}, {...            PG   \n",
       "2     [{'key': 'Action', 'value': 'Action'}, {'key':...            PG   \n",
       "3     [{'key': 'Adventure', 'value': 'Adventure'}, {...            PG   \n",
       "4     [{'key': 'Comedy', 'value': 'Comedy'}, {'key':...            PG   \n",
       "...                                                 ...           ...   \n",
       "4053  [{'key': 'Animation', 'value': 'Animation'}, {...             G   \n",
       "4054  [{'key': 'Animation', 'value': 'Animation'}, {...            PG   \n",
       "4055       [{'key': 'Animation', 'value': 'Animation'}]            PG   \n",
       "4056  [{'key': 'Adventure', 'value': 'Adventure'}, {...             G   \n",
       "4057             [{'key': 'Sci-Fi', 'value': 'Sci-Fi'}]             G   \n",
       "\n",
       "     imDbRating imDbRatingVotes metacriticRating  \\\n",
       "0           7.7          644183               63   \n",
       "1           6.8           54068               78   \n",
       "2           7.5          211894               58   \n",
       "3           7.4          474698               55   \n",
       "4           5.4           32670               27   \n",
       "...         ...             ...              ...   \n",
       "4053        6.1              63             None   \n",
       "4054          0               0             None   \n",
       "4055          0               0             None   \n",
       "4056          0               0             None   \n",
       "4057          0               0             None   \n",
       "\n",
       "                                                   plot stars starList  \n",
       "0     An eight-year-old troublemaker, mistakenly lef...             []  \n",
       "1     A young boy stumbles onto a witch convention a...             []  \n",
       "2     In November 1984, the Soviet Union's best subm...             []  \n",
       "3     Stranded in 1955, Marty McFly learns about the...             []  \n",
       "4     A young boy just short of a monster is adopted...             []  \n",
       "...                                                 ...   ...      ...  \n",
       "4053  When a bunch of dim-witted trolls steal the Ki...             []  \n",
       "4054  Justice League x RWBY: Super Heroes and Huntsm...             []  \n",
       "4055  Emma works for NOAA as a diver and researcher....             []  \n",
       "4056  The Peanuts Gang and The Loud Family all have ...             []  \n",
       "4057  Explores all the In Earth and Out Earth places...             []  \n",
       "\n",
       "[4058 rows x 14 columns]"
      ]
     },
     "execution_count": 8,
     "metadata": {},
     "output_type": "execute_result"
    }
   ],
   "source": [
    "#Joined the above dataframes to create a combinded dataframe for movie data from 1990 to 2023\n",
    "#Code to join dataframes ignore_index found on https://www.statology.org/stack-pandas-dataframes/ and https://pandas.pydata.org/pandas-docs/version/1.3/reference/api/pandas.DataFrame.append.html\n",
    "movie_df_total = pd.concat(movie_df_concat, ignore_index=True)\n",
    "movie_df_total"
   ]
  },
  {
   "cell_type": "markdown",
   "metadata": {},
   "source": [
    "Audited the IMDB Dataset with .head() and .info() methods."
   ]
  },
  {
   "cell_type": "code",
   "execution_count": 9,
   "metadata": {},
   "outputs": [
    {
     "data": {
      "text/html": [
       "<div>\n",
       "<style scoped>\n",
       "    .dataframe tbody tr th:only-of-type {\n",
       "        vertical-align: middle;\n",
       "    }\n",
       "\n",
       "    .dataframe tbody tr th {\n",
       "        vertical-align: top;\n",
       "    }\n",
       "\n",
       "    .dataframe thead th {\n",
       "        text-align: right;\n",
       "    }\n",
       "</style>\n",
       "<table border=\"1\" class=\"dataframe\">\n",
       "  <thead>\n",
       "    <tr style=\"text-align: right;\">\n",
       "      <th></th>\n",
       "      <th>id</th>\n",
       "      <th>image</th>\n",
       "      <th>title</th>\n",
       "      <th>description</th>\n",
       "      <th>runtimeStr</th>\n",
       "      <th>genres</th>\n",
       "      <th>genreList</th>\n",
       "      <th>contentRating</th>\n",
       "      <th>imDbRating</th>\n",
       "      <th>imDbRatingVotes</th>\n",
       "      <th>metacriticRating</th>\n",
       "      <th>plot</th>\n",
       "      <th>stars</th>\n",
       "      <th>starList</th>\n",
       "    </tr>\n",
       "  </thead>\n",
       "  <tbody>\n",
       "    <tr>\n",
       "      <th>0</th>\n",
       "      <td>tt0099785</td>\n",
       "      <td>https://m.media-amazon.com/images/M/MV5BMzFkM2...</td>\n",
       "      <td>Home Alone</td>\n",
       "      <td>1990</td>\n",
       "      <td>103 mins</td>\n",
       "      <td>Comedy, Family</td>\n",
       "      <td>[{'key': 'Comedy', 'value': 'Comedy'}, {'key':...</td>\n",
       "      <td>PG</td>\n",
       "      <td>7.7</td>\n",
       "      <td>644183</td>\n",
       "      <td>63</td>\n",
       "      <td>An eight-year-old troublemaker, mistakenly lef...</td>\n",
       "      <td></td>\n",
       "      <td>[]</td>\n",
       "    </tr>\n",
       "    <tr>\n",
       "      <th>1</th>\n",
       "      <td>tt0100944</td>\n",
       "      <td>https://m.media-amazon.com/images/M/MV5BMjI1MD...</td>\n",
       "      <td>The Witches</td>\n",
       "      <td>1990</td>\n",
       "      <td>91 mins</td>\n",
       "      <td>Adventure, Comedy, Family</td>\n",
       "      <td>[{'key': 'Adventure', 'value': 'Adventure'}, {...</td>\n",
       "      <td>PG</td>\n",
       "      <td>6.8</td>\n",
       "      <td>54068</td>\n",
       "      <td>78</td>\n",
       "      <td>A young boy stumbles onto a witch convention a...</td>\n",
       "      <td></td>\n",
       "      <td>[]</td>\n",
       "    </tr>\n",
       "    <tr>\n",
       "      <th>2</th>\n",
       "      <td>tt0099810</td>\n",
       "      <td>https://m.media-amazon.com/images/M/MV5BZDdkOD...</td>\n",
       "      <td>The Hunt for Red October</td>\n",
       "      <td>1990</td>\n",
       "      <td>135 mins</td>\n",
       "      <td>Action, Adventure, Thriller</td>\n",
       "      <td>[{'key': 'Action', 'value': 'Action'}, {'key':...</td>\n",
       "      <td>PG</td>\n",
       "      <td>7.5</td>\n",
       "      <td>211894</td>\n",
       "      <td>58</td>\n",
       "      <td>In November 1984, the Soviet Union's best subm...</td>\n",
       "      <td></td>\n",
       "      <td>[]</td>\n",
       "    </tr>\n",
       "    <tr>\n",
       "      <th>3</th>\n",
       "      <td>tt0099088</td>\n",
       "      <td>https://m.media-amazon.com/images/M/MV5BYjhlMG...</td>\n",
       "      <td>Back to the Future Part III</td>\n",
       "      <td>1990</td>\n",
       "      <td>118 mins</td>\n",
       "      <td>Adventure, Comedy, Sci-Fi</td>\n",
       "      <td>[{'key': 'Adventure', 'value': 'Adventure'}, {...</td>\n",
       "      <td>PG</td>\n",
       "      <td>7.4</td>\n",
       "      <td>474698</td>\n",
       "      <td>55</td>\n",
       "      <td>Stranded in 1955, Marty McFly learns about the...</td>\n",
       "      <td></td>\n",
       "      <td>[]</td>\n",
       "    </tr>\n",
       "    <tr>\n",
       "      <th>4</th>\n",
       "      <td>tt0100419</td>\n",
       "      <td>https://m.media-amazon.com/images/M/MV5BYzk3NG...</td>\n",
       "      <td>Problem Child</td>\n",
       "      <td>1990</td>\n",
       "      <td>81 mins</td>\n",
       "      <td>Comedy, Family</td>\n",
       "      <td>[{'key': 'Comedy', 'value': 'Comedy'}, {'key':...</td>\n",
       "      <td>PG</td>\n",
       "      <td>5.4</td>\n",
       "      <td>32670</td>\n",
       "      <td>27</td>\n",
       "      <td>A young boy just short of a monster is adopted...</td>\n",
       "      <td></td>\n",
       "      <td>[]</td>\n",
       "    </tr>\n",
       "  </tbody>\n",
       "</table>\n",
       "</div>"
      ],
      "text/plain": [
       "          id                                              image  \\\n",
       "0  tt0099785  https://m.media-amazon.com/images/M/MV5BMzFkM2...   \n",
       "1  tt0100944  https://m.media-amazon.com/images/M/MV5BMjI1MD...   \n",
       "2  tt0099810  https://m.media-amazon.com/images/M/MV5BZDdkOD...   \n",
       "3  tt0099088  https://m.media-amazon.com/images/M/MV5BYjhlMG...   \n",
       "4  tt0100419  https://m.media-amazon.com/images/M/MV5BYzk3NG...   \n",
       "\n",
       "                         title description runtimeStr  \\\n",
       "0                   Home Alone        1990   103 mins   \n",
       "1                  The Witches        1990    91 mins   \n",
       "2     The Hunt for Red October        1990   135 mins   \n",
       "3  Back to the Future Part III        1990   118 mins   \n",
       "4                Problem Child        1990    81 mins   \n",
       "\n",
       "                        genres  \\\n",
       "0               Comedy, Family   \n",
       "1    Adventure, Comedy, Family   \n",
       "2  Action, Adventure, Thriller   \n",
       "3    Adventure, Comedy, Sci-Fi   \n",
       "4               Comedy, Family   \n",
       "\n",
       "                                           genreList contentRating imDbRating  \\\n",
       "0  [{'key': 'Comedy', 'value': 'Comedy'}, {'key':...            PG        7.7   \n",
       "1  [{'key': 'Adventure', 'value': 'Adventure'}, {...            PG        6.8   \n",
       "2  [{'key': 'Action', 'value': 'Action'}, {'key':...            PG        7.5   \n",
       "3  [{'key': 'Adventure', 'value': 'Adventure'}, {...            PG        7.4   \n",
       "4  [{'key': 'Comedy', 'value': 'Comedy'}, {'key':...            PG        5.4   \n",
       "\n",
       "  imDbRatingVotes metacriticRating  \\\n",
       "0          644183               63   \n",
       "1           54068               78   \n",
       "2          211894               58   \n",
       "3          474698               55   \n",
       "4           32670               27   \n",
       "\n",
       "                                                plot stars starList  \n",
       "0  An eight-year-old troublemaker, mistakenly lef...             []  \n",
       "1  A young boy stumbles onto a witch convention a...             []  \n",
       "2  In November 1984, the Soviet Union's best subm...             []  \n",
       "3  Stranded in 1955, Marty McFly learns about the...             []  \n",
       "4  A young boy just short of a monster is adopted...             []  "
      ]
     },
     "execution_count": 9,
     "metadata": {},
     "output_type": "execute_result"
    }
   ],
   "source": [
    "movie_df_total.head()"
   ]
  },
  {
   "cell_type": "code",
   "execution_count": 10,
   "metadata": {},
   "outputs": [
    {
     "name": "stdout",
     "output_type": "stream",
     "text": [
      "<class 'pandas.core.frame.DataFrame'>\n",
      "RangeIndex: 4058 entries, 0 to 4057\n",
      "Data columns (total 14 columns):\n",
      " #   Column            Non-Null Count  Dtype \n",
      "---  ------            --------------  ----- \n",
      " 0   id                4058 non-null   object\n",
      " 1   image             3972 non-null   object\n",
      " 2   title             4058 non-null   object\n",
      " 3   description       4057 non-null   object\n",
      " 4   runtimeStr        4004 non-null   object\n",
      " 5   genres            4058 non-null   object\n",
      " 6   genreList         4058 non-null   object\n",
      " 7   contentRating     4057 non-null   object\n",
      " 8   imDbRating        4058 non-null   object\n",
      " 9   imDbRatingVotes   4058 non-null   object\n",
      " 10  metacriticRating  1471 non-null   object\n",
      " 11  plot              4058 non-null   object\n",
      " 12  stars             4058 non-null   object\n",
      " 13  starList          4058 non-null   object\n",
      "dtypes: object(14)\n",
      "memory usage: 444.0+ KB\n"
     ]
    }
   ],
   "source": [
    "movie_df_total.info()"
   ]
  },
  {
   "cell_type": "markdown",
   "metadata": {},
   "source": [
    "Looking at the above results, we can see that the \"image\" column for the data has some null values. However, all rows seem to have a genre value, but will be investigated further. Rows with missing image data will be dropped as these will not be usable for future image classification."
   ]
  },
  {
   "cell_type": "code",
   "execution_count": 12,
   "metadata": {},
   "outputs": [
    {
     "data": {
      "text/plain": [
       "(3972, 15)"
      ]
     },
     "execution_count": 12,
     "metadata": {},
     "output_type": "execute_result"
    }
   ],
   "source": [
    "#Dropped null values for image column and reset index\n",
    "#Code to reset index found on https://www.geeksforgeeks.org/pandas-how-to-reset-index-in-a-given-dataframe/\n",
    "movie_df_total['image'] = movie_df_total['image'].dropna()\n",
    "movie_df_dropped = movie_df_total.dropna(subset=['image'])\n",
    "movie_df_dropped = movie_df_dropped.reset_index()\n",
    "movie_df_dropped.shape"
   ]
  },
  {
   "cell_type": "code",
   "execution_count": 13,
   "metadata": {},
   "outputs": [
    {
     "data": {
      "text/html": [
       "<div>\n",
       "<style scoped>\n",
       "    .dataframe tbody tr th:only-of-type {\n",
       "        vertical-align: middle;\n",
       "    }\n",
       "\n",
       "    .dataframe tbody tr th {\n",
       "        vertical-align: top;\n",
       "    }\n",
       "\n",
       "    .dataframe thead th {\n",
       "        text-align: right;\n",
       "    }\n",
       "</style>\n",
       "<table border=\"1\" class=\"dataframe\">\n",
       "  <thead>\n",
       "    <tr style=\"text-align: right;\">\n",
       "      <th></th>\n",
       "      <th>index</th>\n",
       "      <th>id</th>\n",
       "      <th>image</th>\n",
       "      <th>title</th>\n",
       "      <th>description</th>\n",
       "      <th>runtimeStr</th>\n",
       "      <th>genres</th>\n",
       "      <th>genreList</th>\n",
       "      <th>contentRating</th>\n",
       "      <th>imDbRating</th>\n",
       "      <th>imDbRatingVotes</th>\n",
       "      <th>metacriticRating</th>\n",
       "      <th>plot</th>\n",
       "      <th>stars</th>\n",
       "      <th>starList</th>\n",
       "    </tr>\n",
       "  </thead>\n",
       "  <tbody>\n",
       "    <tr>\n",
       "      <th>0</th>\n",
       "      <td>0</td>\n",
       "      <td>tt0099785</td>\n",
       "      <td>https://m.media-amazon.com/images/M/MV5BMzFkM2...</td>\n",
       "      <td>Home Alone</td>\n",
       "      <td>1990</td>\n",
       "      <td>103 mins</td>\n",
       "      <td>Comedy, Family</td>\n",
       "      <td>[{'key': 'Comedy', 'value': 'Comedy'}, {'key':...</td>\n",
       "      <td>PG</td>\n",
       "      <td>7.7</td>\n",
       "      <td>644183</td>\n",
       "      <td>63</td>\n",
       "      <td>An eight-year-old troublemaker, mistakenly lef...</td>\n",
       "      <td></td>\n",
       "      <td>[]</td>\n",
       "    </tr>\n",
       "    <tr>\n",
       "      <th>1</th>\n",
       "      <td>1</td>\n",
       "      <td>tt0100944</td>\n",
       "      <td>https://m.media-amazon.com/images/M/MV5BMjI1MD...</td>\n",
       "      <td>The Witches</td>\n",
       "      <td>1990</td>\n",
       "      <td>91 mins</td>\n",
       "      <td>Adventure, Comedy, Family</td>\n",
       "      <td>[{'key': 'Adventure', 'value': 'Adventure'}, {...</td>\n",
       "      <td>PG</td>\n",
       "      <td>6.8</td>\n",
       "      <td>54068</td>\n",
       "      <td>78</td>\n",
       "      <td>A young boy stumbles onto a witch convention a...</td>\n",
       "      <td></td>\n",
       "      <td>[]</td>\n",
       "    </tr>\n",
       "    <tr>\n",
       "      <th>2</th>\n",
       "      <td>2</td>\n",
       "      <td>tt0099810</td>\n",
       "      <td>https://m.media-amazon.com/images/M/MV5BZDdkOD...</td>\n",
       "      <td>The Hunt for Red October</td>\n",
       "      <td>1990</td>\n",
       "      <td>135 mins</td>\n",
       "      <td>Action, Adventure, Thriller</td>\n",
       "      <td>[{'key': 'Action', 'value': 'Action'}, {'key':...</td>\n",
       "      <td>PG</td>\n",
       "      <td>7.5</td>\n",
       "      <td>211894</td>\n",
       "      <td>58</td>\n",
       "      <td>In November 1984, the Soviet Union's best subm...</td>\n",
       "      <td></td>\n",
       "      <td>[]</td>\n",
       "    </tr>\n",
       "    <tr>\n",
       "      <th>3</th>\n",
       "      <td>3</td>\n",
       "      <td>tt0099088</td>\n",
       "      <td>https://m.media-amazon.com/images/M/MV5BYjhlMG...</td>\n",
       "      <td>Back to the Future Part III</td>\n",
       "      <td>1990</td>\n",
       "      <td>118 mins</td>\n",
       "      <td>Adventure, Comedy, Sci-Fi</td>\n",
       "      <td>[{'key': 'Adventure', 'value': 'Adventure'}, {...</td>\n",
       "      <td>PG</td>\n",
       "      <td>7.4</td>\n",
       "      <td>474698</td>\n",
       "      <td>55</td>\n",
       "      <td>Stranded in 1955, Marty McFly learns about the...</td>\n",
       "      <td></td>\n",
       "      <td>[]</td>\n",
       "    </tr>\n",
       "    <tr>\n",
       "      <th>4</th>\n",
       "      <td>4</td>\n",
       "      <td>tt0100419</td>\n",
       "      <td>https://m.media-amazon.com/images/M/MV5BYzk3NG...</td>\n",
       "      <td>Problem Child</td>\n",
       "      <td>1990</td>\n",
       "      <td>81 mins</td>\n",
       "      <td>Comedy, Family</td>\n",
       "      <td>[{'key': 'Comedy', 'value': 'Comedy'}, {'key':...</td>\n",
       "      <td>PG</td>\n",
       "      <td>5.4</td>\n",
       "      <td>32670</td>\n",
       "      <td>27</td>\n",
       "      <td>A young boy just short of a monster is adopted...</td>\n",
       "      <td></td>\n",
       "      <td>[]</td>\n",
       "    </tr>\n",
       "  </tbody>\n",
       "</table>\n",
       "</div>"
      ],
      "text/plain": [
       "   index         id                                              image  \\\n",
       "0      0  tt0099785  https://m.media-amazon.com/images/M/MV5BMzFkM2...   \n",
       "1      1  tt0100944  https://m.media-amazon.com/images/M/MV5BMjI1MD...   \n",
       "2      2  tt0099810  https://m.media-amazon.com/images/M/MV5BZDdkOD...   \n",
       "3      3  tt0099088  https://m.media-amazon.com/images/M/MV5BYjhlMG...   \n",
       "4      4  tt0100419  https://m.media-amazon.com/images/M/MV5BYzk3NG...   \n",
       "\n",
       "                         title description runtimeStr  \\\n",
       "0                   Home Alone        1990   103 mins   \n",
       "1                  The Witches        1990    91 mins   \n",
       "2     The Hunt for Red October        1990   135 mins   \n",
       "3  Back to the Future Part III        1990   118 mins   \n",
       "4                Problem Child        1990    81 mins   \n",
       "\n",
       "                        genres  \\\n",
       "0               Comedy, Family   \n",
       "1    Adventure, Comedy, Family   \n",
       "2  Action, Adventure, Thriller   \n",
       "3    Adventure, Comedy, Sci-Fi   \n",
       "4               Comedy, Family   \n",
       "\n",
       "                                           genreList contentRating imDbRating  \\\n",
       "0  [{'key': 'Comedy', 'value': 'Comedy'}, {'key':...            PG        7.7   \n",
       "1  [{'key': 'Adventure', 'value': 'Adventure'}, {...            PG        6.8   \n",
       "2  [{'key': 'Action', 'value': 'Action'}, {'key':...            PG        7.5   \n",
       "3  [{'key': 'Adventure', 'value': 'Adventure'}, {...            PG        7.4   \n",
       "4  [{'key': 'Comedy', 'value': 'Comedy'}, {'key':...            PG        5.4   \n",
       "\n",
       "  imDbRatingVotes metacriticRating  \\\n",
       "0          644183               63   \n",
       "1           54068               78   \n",
       "2          211894               58   \n",
       "3          474698               55   \n",
       "4           32670               27   \n",
       "\n",
       "                                                plot stars starList  \n",
       "0  An eight-year-old troublemaker, mistakenly lef...             []  \n",
       "1  A young boy stumbles onto a witch convention a...             []  \n",
       "2  In November 1984, the Soviet Union's best subm...             []  \n",
       "3  Stranded in 1955, Marty McFly learns about the...             []  \n",
       "4  A young boy just short of a monster is adopted...             []  "
      ]
     },
     "execution_count": 13,
     "metadata": {},
     "output_type": "execute_result"
    }
   ],
   "source": [
    "movie_df_dropped.head()"
   ]
  },
  {
   "cell_type": "code",
   "execution_count": 24,
   "metadata": {},
   "outputs": [
    {
     "data": {
      "text/plain": [
       "0"
      ]
     },
     "execution_count": 24,
     "metadata": {},
     "output_type": "execute_result"
    }
   ],
   "source": [
    "len(movie_df_dropped[movie_df_dropped['genres'].astype(str).str.contains('None')])"
   ]
  },
  {
   "cell_type": "code",
   "execution_count": 25,
   "metadata": {},
   "outputs": [
    {
     "data": {
      "text/plain": [
       "0"
      ]
     },
     "execution_count": 25,
     "metadata": {},
     "output_type": "execute_result"
    }
   ],
   "source": [
    "len(movie_df_dropped[movie_df_dropped['genres'].astype(str).str.contains('none')])"
   ]
  },
  {
   "cell_type": "code",
   "execution_count": 26,
   "metadata": {},
   "outputs": [
    {
     "data": {
      "text/plain": [
       "0"
      ]
     },
     "execution_count": 26,
     "metadata": {},
     "output_type": "execute_result"
    }
   ],
   "source": [
    "len(movie_df_dropped[movie_df_dropped['genres'].astype(str).str.contains('NONE')])"
   ]
  },
  {
   "cell_type": "code",
   "execution_count": 27,
   "metadata": {},
   "outputs": [
    {
     "data": {
      "text/plain": [
       "0"
      ]
     },
     "execution_count": 27,
     "metadata": {},
     "output_type": "execute_result"
    }
   ],
   "source": [
    "len(movie_df_dropped[movie_df_dropped['genres'].astype(str).str.contains('nOne')])"
   ]
  },
  {
   "cell_type": "code",
   "execution_count": 28,
   "metadata": {},
   "outputs": [
    {
     "data": {
      "text/plain": [
       "0"
      ]
     },
     "execution_count": 28,
     "metadata": {},
     "output_type": "execute_result"
    }
   ],
   "source": [
    "len(movie_df_dropped[movie_df_dropped['genres'].astype(str).str.contains('noNe')])"
   ]
  },
  {
   "cell_type": "code",
   "execution_count": 29,
   "metadata": {},
   "outputs": [
    {
     "data": {
      "text/plain": [
       "0"
      ]
     },
     "execution_count": 29,
     "metadata": {},
     "output_type": "execute_result"
    }
   ],
   "source": [
    "len(movie_df_dropped[movie_df_dropped['genres'].astype(str).str.contains('nonE')])"
   ]
  },
  {
   "cell_type": "code",
   "execution_count": 30,
   "metadata": {},
   "outputs": [
    {
     "data": {
      "text/plain": [
       "0"
      ]
     },
     "execution_count": 30,
     "metadata": {},
     "output_type": "execute_result"
    }
   ],
   "source": [
    "len(movie_df_dropped[movie_df_dropped['genres'].astype(str).str.contains('NOne')])"
   ]
  },
  {
   "cell_type": "code",
   "execution_count": 31,
   "metadata": {},
   "outputs": [
    {
     "data": {
      "text/plain": [
       "0"
      ]
     },
     "execution_count": 31,
     "metadata": {},
     "output_type": "execute_result"
    }
   ],
   "source": [
    "len(movie_df_dropped[movie_df_dropped['genres'].astype(str).str.contains('NONe')])"
   ]
  },
  {
   "cell_type": "markdown",
   "metadata": {},
   "source": [
    "Looking at the above results for a few combinations of identifying null values in the genre column, it seems all data for genre seems present. However, this will be kept in mind and checked again in future steps for implementing deep learning neural network model. "
   ]
  },
  {
   "cell_type": "markdown",
   "metadata": {},
   "source": [
    "After creating a \"cleaned\" dataset for no null image values, the images are then saved into the corresponding file folder for future image classification."
   ]
  },
  {
   "cell_type": "code",
   "execution_count": 50,
   "metadata": {
    "scrolled": true
   },
   "outputs": [],
   "source": [
    "#For loop to save the image naming it with the movie id from the url. Images are then moved into an the approrpaite file folder \n",
    "#Actual code block not able to be retrieved for addressing errors in requests but it diagnosed error cause to not having an appropriate headers to accept application/json\n",
    "#Similar explanation for headers seen on ChatGPT search https://chat.openai.com/c/85f15339-0e94-4816-a444-bf82bc5fad63 with start phrase: Python, remote forcibly closed connection, how to fix get request\n",
    "#Code for handling timeouts in get requests found on https://stackoverflow.com/questions/21965484/timeout-for-python-requests-get-entire-response\n",
    "for i in range(len(movie_df_dropped)-1):\n",
    "    url = movie_df_dropped['image'][i]\n",
    "    headers = {'accept':'application/json'}\n",
    "    data = requests.get(url, headers=headers, timeout=60).content\n",
    "    f = open(f\"{movie_df_dropped['id'][i]}.jpg\",'wb')\n",
    "    f.write(data)\n",
    "    f.close()"
   ]
  },
  {
   "cell_type": "markdown",
   "metadata": {},
   "source": [
    "## 2.5 Target Feature (Movie Genres)"
   ]
  },
  {
   "cell_type": "markdown",
   "metadata": {},
   "source": [
    "After retreiving the movie dataset, the target feature for genres needs to be created for the output layer for the future deep learning model."
   ]
  },
  {
   "cell_type": "code",
   "execution_count": 32,
   "metadata": {},
   "outputs": [],
   "source": [
    "#Split genres column based on ',' in order to retrieve unique genre values for movies\n",
    "#Code to split dataframe columns based on ',' found on https://stackoverflow.com/questions/14745022/how-to-split-a-dataframe-string-column-into-two-columns\n",
    "movie_df_dropped[['Genre_1', 'Genre_2']] = movie_df_dropped['genres'].str.split(',', n=1, expand=True)\n",
    "movie_df_dropped[['Genre_2', 'Genre_3']] = movie_df_dropped['Genre_2'].str.split(',', n=1, expand=True)"
   ]
  },
  {
   "cell_type": "code",
   "execution_count": 33,
   "metadata": {},
   "outputs": [
    {
     "data": {
      "text/plain": [
       "0            Comedy\n",
       "1         Adventure\n",
       "2            Action\n",
       "7         Animation\n",
       "12            Drama\n",
       "62            Crime\n",
       "63      Documentary\n",
       "66        Biography\n",
       "114          Family\n",
       "134         Fantasy\n",
       "375         Romance\n",
       "455         Western\n",
       "541          Sci-Fi\n",
       "558          Horror\n",
       "868         Musical\n",
       "1068        History\n",
       "1152        Mystery\n",
       "1536       Thriller\n",
       "2277           News\n",
       "2285          Music\n",
       "2802          Sport\n",
       "4099            War\n",
       "dtype: object"
      ]
     },
     "execution_count": 33,
     "metadata": {},
     "output_type": "execute_result"
    }
   ],
   "source": [
    "#Stack the genre columns into one genre list, strip whitespaes, and remove duplicates and null values to retrieve target genres\n",
    "#Code for stacking dataframes vertically found on https://www.geeksforgeeks.org/stack-two-pandas-series-vertically-and-horizontally/\n",
    "#Code for removing whitespace found on https://pandas.pydata.org/pandas-docs/stable/reference/api/pandas.Series.str.strip.html\n",
    "genre_list = pd.concat([movie_df_dropped['Genre_1'], movie_df_dropped['Genre_2'], movie_df_dropped['Genre_3']], axis=0, ignore_index = True)\n",
    "genres = genre_list.str.strip()\n",
    "dropped = genres.drop_duplicates()\n",
    "dropped.replace('',np.nan, inplace=True)\n",
    "target_genres = dropped.dropna()\n",
    "target_genres"
   ]
  },
  {
   "cell_type": "markdown",
   "metadata": {},
   "source": [
    "## 2.6 Save data"
   ]
  },
  {
   "cell_type": "code",
   "execution_count": 34,
   "metadata": {},
   "outputs": [
    {
     "data": {
      "text/plain": [
       "(3972, 18)"
      ]
     },
     "execution_count": 34,
     "metadata": {},
     "output_type": "execute_result"
    }
   ],
   "source": [
    "movie_df_dropped.shape"
   ]
  },
  {
   "cell_type": "code",
   "execution_count": 35,
   "metadata": {},
   "outputs": [
    {
     "data": {
      "text/plain": [
       "(22,)"
      ]
     },
     "execution_count": 35,
     "metadata": {},
     "output_type": "execute_result"
    }
   ],
   "source": [
    "target_genres.shape"
   ]
  },
  {
   "cell_type": "code",
   "execution_count": 36,
   "metadata": {},
   "outputs": [],
   "source": [
    "# save the data to a new csv file\n",
    "datapath = 'C:/Users/tpooz/OneDrive/Desktop/Data_Science_BootCamp_2023/SpringBoard_Github/IMDB_Classification/0_Datasets'\n",
    "movie_df_dropped.to_csv('C:/Users/tpooz/OneDrive/Desktop/Data_Science_BootCamp_2023/SpringBoard_Github/IMDB_Classification/0_Datasets/movie_df_clean.csv') \n",
    "target_genres.to_csv('C:/Users/tpooz/OneDrive/Desktop/Data_Science_BootCamp_2023/SpringBoard_Github/IMDB_Classification/0_Datasets/target_genres.csv')"
   ]
  },
  {
   "cell_type": "markdown",
   "metadata": {},
   "source": [
    "## 2.7 Summary"
   ]
  },
  {
   "cell_type": "markdown",
   "metadata": {},
   "source": [
    "After retrieving json and \"cleaning of the IMDB movie data, rows within the \"image\" column with the value of 'None'  were replaced with np.nan and then dropped as these specific movies without image data will not be useful for the image data classifier model. The genres were then retrieved from the \"genre\" column and split and duplicates were dropped in order to get an output target column for categories for movies for the future classifier model output layer. Final shape of the dataset is (3972, 18) from a (4058, 13) intial dataset. Further EDA will be conducted in order to assess genre balance within the movie_df_cleaned dataset."
   ]
  }
 ],
 "metadata": {
  "kernelspec": {
   "display_name": "Python 3 (ipykernel)",
   "language": "python",
   "name": "python3"
  },
  "language_info": {
   "codemirror_mode": {
    "name": "ipython",
    "version": 3
   },
   "file_extension": ".py",
   "mimetype": "text/x-python",
   "name": "python",
   "nbconvert_exporter": "python",
   "pygments_lexer": "ipython3",
   "version": "3.10.9"
  },
  "toc": {
   "base_numbering": 1,
   "nav_menu": {},
   "number_sections": true,
   "sideBar": true,
   "skip_h1_title": false,
   "title_cell": "Table of Contents",
   "title_sidebar": "Contents",
   "toc_cell": false,
   "toc_position": {},
   "toc_section_display": true,
   "toc_window_display": true
  },
  "varInspector": {
   "cols": {
    "lenName": 16,
    "lenType": 16,
    "lenVar": 40
   },
   "kernels_config": {
    "python": {
     "delete_cmd_postfix": "",
     "delete_cmd_prefix": "del ",
     "library": "var_list.py",
     "varRefreshCmd": "print(var_dic_list())"
    },
    "r": {
     "delete_cmd_postfix": ") ",
     "delete_cmd_prefix": "rm(",
     "library": "var_list.r",
     "varRefreshCmd": "cat(var_dic_list()) "
    }
   },
   "types_to_exclude": [
    "module",
    "function",
    "builtin_function_or_method",
    "instance",
    "_Feature"
   ],
   "window_display": false
  }
 },
 "nbformat": 4,
 "nbformat_minor": 4
}
