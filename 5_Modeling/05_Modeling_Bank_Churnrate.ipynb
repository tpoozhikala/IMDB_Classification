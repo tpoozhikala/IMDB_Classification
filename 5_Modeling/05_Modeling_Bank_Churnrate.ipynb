{
 "cells": [
  {
   "cell_type": "markdown",
   "metadata": {},
   "source": [
    "# 5. Bank_Churnrate_Modeling<a id='2_Data_wrangling'></a>"
   ]
  },
  {
   "cell_type": "markdown",
   "metadata": {},
   "source": [
    "## 5.1 Table of Contents<a id='2.1_Contents'></a>\n",
    "* 5. Bank_Churnrate_EDA\n",
    "  * 5.1 Table of Contents\n",
    "  * 5.2 Introduction\n",
    "  * 5.3 Imports\n",
    "  * 5.4 Load Scaled Train Test Bank Churn Data\n",
    "  * 5.5 Modeling\n",
    "    * 5.5.1 Logistic Regression \n",
    "    * 5.5.2 Random Forest Classifier\n",
    "    * 5.5.3 Gradient Boosting Classifier\n",
    "    * 5.5.4 Support Vector Classifier (SVC)\n",
    "    * 5.5.5 Improve Random Forest and Gradient Boosting with AdaBoost Classifier\n",
    "    * 5.5.6 Neural Network Classifier (Multi-Layer Perceptron)\n",
    "  * 5.6 Compile and Assess Model Performance\n",
    "      * 5.6.1 Retrieve ROC AUC Scores and Plot Curves\n",
    "      * 5.6.2 Create and Compare Results DataFrame\n",
    "  * 5.7 Save Data & Summary"
   ]
  },
  {
   "cell_type": "markdown",
   "metadata": {},
   "source": [
    "## 5.2 Introduction"
   ]
  },
  {
   "cell_type": "markdown",
   "metadata": {},
   "source": [
    "Different predictive models for classification will be built and trained with the 70/30 train test sets and then assessed to determine best model performer. Models tested will be Logistic Regression, RandomForestClassifier with Bagging, Gradient Boosting Classifier which is random forest but with boosting, Support Vector Machines, Ada Boost Classifier, and Neural Network Multi-Layer Perceptron Classifier models. Also assessing model's performance based on dataset where the missing valued rows were dropped versus being imputed with the 'missing' categorical column."
   ]
  },
  {
   "cell_type": "markdown",
   "metadata": {},
   "source": [
    "## 5.3 Imports<a id='2.3_Imports'></a>"
   ]
  },
  {
   "cell_type": "markdown",
   "metadata": {},
   "source": [
    "Importing all appropriate packages in order to perform modeling and appropriate assessments."
   ]
  },
  {
   "cell_type": "code",
   "execution_count": 1,
   "metadata": {},
   "outputs": [],
   "source": [
    "#Import pandas, matplotlib.pyplot, time, and sklearn models and ensemble and metrics packages\n",
    "import pandas as pd\n",
    "import matplotlib.pyplot as plt\n",
    "from sklearn.model_selection import GridSearchCV\n",
    "from sklearn.linear_model import LogisticRegression\n",
    "from sklearn.ensemble import RandomForestClassifier\n",
    "from sklearn.ensemble import GradientBoostingClassifier\n",
    "from sklearn.svm import SVC\n",
    "from sklearn.ensemble import AdaBoostClassifier\n",
    "from sklearn.neural_network import MLPClassifier\n",
    "from sklearn.metrics import classification_report\n",
    "from sklearn.metrics import confusion_matrix\n",
    "from sklearn.metrics import accuracy_score , precision_score, recall_score, f1_score\n",
    "from sklearn.metrics import roc_auc_score\n",
    "from sklearn.metrics import roc_curve\n",
    "from sklearn.metrics import auc\n",
    "from sklearn.metrics import RocCurveDisplay\n",
    "import time\n",
    "import os\n",
    "random_state = 42"
   ]
  },
  {
   "cell_type": "markdown",
   "metadata": {},
   "source": [
    "## 5.4 Load Scaled Train Test Bank Churn Data"
   ]
  },
  {
   "cell_type": "code",
   "execution_count": 2,
   "metadata": {},
   "outputs": [],
   "source": [
    "#Load Train Test Data for both missing and dropped bank churn datasets\n",
    "X_train_missing = pd.read_csv('C:/Users/tpooz/OneDrive/Desktop/Data_Science_BootCamp_2023/SpringBoard_Github/Bank-Churnrate/0_Datasets/Test_Train_Sets/X_train_scaled_missing.csv', index_col=0)\n",
    "X_train_dropped = pd.read_csv('C:/Users/tpooz/OneDrive/Desktop/Data_Science_BootCamp_2023/SpringBoard_Github/Bank-Churnrate/0_Datasets/Test_Train_Sets/X_train_scaled_dropped.csv')\n",
    "X_test_missing = pd.read_csv('C:/Users/tpooz/OneDrive/Desktop/Data_Science_BootCamp_2023/SpringBoard_Github/Bank-Churnrate/0_Datasets/Test_Train_Sets/X_test_scaled_missing.csv')\n",
    "X_test_dropped = pd.read_csv('C:/Users/tpooz/OneDrive/Desktop/Data_Science_BootCamp_2023/SpringBoard_Github/Bank-Churnrate/0_Datasets/Test_Train_Sets/X_test_scaled_dropped.csv')\n",
    "y_train_missing = pd.read_csv('C:/Users/tpooz/OneDrive/Desktop/Data_Science_BootCamp_2023/SpringBoard_Github/Bank-Churnrate/0_Datasets/Test_Train_Sets/y_train_missing.csv')\n",
    "y_train_dropped = pd.read_csv('C:/Users/tpooz/OneDrive/Desktop/Data_Science_BootCamp_2023/SpringBoard_Github/Bank-Churnrate/0_Datasets/Test_Train_Sets/y_train_dropped.csv')\n",
    "y_test_missing = pd.read_csv('C:/Users/tpooz/OneDrive/Desktop/Data_Science_BootCamp_2023/SpringBoard_Github/Bank-Churnrate/0_Datasets/Test_Train_Sets/y_test_missing.csv')\n",
    "y_test_dropped = pd.read_csv('C:/Users/tpooz/OneDrive/Desktop/Data_Science_BootCamp_2023/SpringBoard_Github/Bank-Churnrate/0_Datasets/Test_Train_Sets/y_test_dropped.csv')"
   ]
  },
  {
   "cell_type": "markdown",
   "metadata": {},
   "source": [
    "Auditing the datasets shape and .head() displaying the first few records."
   ]
  },
  {
   "cell_type": "code",
   "execution_count": 3,
   "metadata": {},
   "outputs": [
    {
     "data": {
      "text/plain": [
       "(5670, 32)"
      ]
     },
     "execution_count": 3,
     "metadata": {},
     "output_type": "execute_result"
    }
   ],
   "source": [
    "#Apply shape and .head() for all X and y Train and Test missing and dropped datasets\n",
    "X_train_missing.shape"
   ]
  },
  {
   "cell_type": "code",
   "execution_count": 4,
   "metadata": {},
   "outputs": [
    {
     "data": {
      "text/html": [
       "<div>\n",
       "<style scoped>\n",
       "    .dataframe tbody tr th:only-of-type {\n",
       "        vertical-align: middle;\n",
       "    }\n",
       "\n",
       "    .dataframe tbody tr th {\n",
       "        vertical-align: top;\n",
       "    }\n",
       "\n",
       "    .dataframe thead th {\n",
       "        text-align: right;\n",
       "    }\n",
       "</style>\n",
       "<table border=\"1\" class=\"dataframe\">\n",
       "  <thead>\n",
       "    <tr style=\"text-align: right;\">\n",
       "      <th></th>\n",
       "      <th>0</th>\n",
       "      <th>1</th>\n",
       "      <th>2</th>\n",
       "      <th>3</th>\n",
       "      <th>4</th>\n",
       "      <th>5</th>\n",
       "      <th>6</th>\n",
       "      <th>7</th>\n",
       "      <th>8</th>\n",
       "      <th>9</th>\n",
       "      <th>...</th>\n",
       "      <th>22</th>\n",
       "      <th>23</th>\n",
       "      <th>24</th>\n",
       "      <th>25</th>\n",
       "      <th>26</th>\n",
       "      <th>27</th>\n",
       "      <th>28</th>\n",
       "      <th>29</th>\n",
       "      <th>30</th>\n",
       "      <th>31</th>\n",
       "    </tr>\n",
       "  </thead>\n",
       "  <tbody>\n",
       "    <tr>\n",
       "      <th>0</th>\n",
       "      <td>-0.413491</td>\n",
       "      <td>1.287980</td>\n",
       "      <td>-1.352932</td>\n",
       "      <td>-0.517792</td>\n",
       "      <td>-0.351164</td>\n",
       "      <td>1.401509</td>\n",
       "      <td>0.475754</td>\n",
       "      <td>0.721852</td>\n",
       "      <td>0.412086</td>\n",
       "      <td>-0.417043</td>\n",
       "      <td>...</td>\n",
       "      <td>1.246617</td>\n",
       "      <td>-0.279923</td>\n",
       "      <td>-0.28538</td>\n",
       "      <td>-0.465551</td>\n",
       "      <td>2.509442</td>\n",
       "      <td>-0.426890</td>\n",
       "      <td>-0.348800</td>\n",
       "      <td>-0.110175</td>\n",
       "      <td>-0.044089</td>\n",
       "      <td>-0.240901</td>\n",
       "    </tr>\n",
       "    <tr>\n",
       "      <th>1</th>\n",
       "      <td>1.455723</td>\n",
       "      <td>-1.039496</td>\n",
       "      <td>0.003960</td>\n",
       "      <td>0.767902</td>\n",
       "      <td>-0.351164</td>\n",
       "      <td>0.492604</td>\n",
       "      <td>-0.436921</td>\n",
       "      <td>-1.422478</td>\n",
       "      <td>-0.311172</td>\n",
       "      <td>0.672648</td>\n",
       "      <td>...</td>\n",
       "      <td>-0.802171</td>\n",
       "      <td>-0.279923</td>\n",
       "      <td>-0.28538</td>\n",
       "      <td>-0.465551</td>\n",
       "      <td>-0.398495</td>\n",
       "      <td>-0.426890</td>\n",
       "      <td>2.866969</td>\n",
       "      <td>-0.110175</td>\n",
       "      <td>-0.044089</td>\n",
       "      <td>-0.240901</td>\n",
       "    </tr>\n",
       "    <tr>\n",
       "      <th>2</th>\n",
       "      <td>0.334195</td>\n",
       "      <td>1.287980</td>\n",
       "      <td>-0.859517</td>\n",
       "      <td>-1.160639</td>\n",
       "      <td>-0.351164</td>\n",
       "      <td>-0.416301</td>\n",
       "      <td>2.266265</td>\n",
       "      <td>1.663444</td>\n",
       "      <td>2.120213</td>\n",
       "      <td>0.039323</td>\n",
       "      <td>...</td>\n",
       "      <td>-0.802171</td>\n",
       "      <td>3.572413</td>\n",
       "      <td>-0.28538</td>\n",
       "      <td>-0.465551</td>\n",
       "      <td>-0.398495</td>\n",
       "      <td>2.342523</td>\n",
       "      <td>-0.348800</td>\n",
       "      <td>-0.110175</td>\n",
       "      <td>-0.044089</td>\n",
       "      <td>-0.240901</td>\n",
       "    </tr>\n",
       "    <tr>\n",
       "      <th>3</th>\n",
       "      <td>-0.288877</td>\n",
       "      <td>2.063805</td>\n",
       "      <td>-0.489456</td>\n",
       "      <td>0.767902</td>\n",
       "      <td>0.620579</td>\n",
       "      <td>-0.416301</td>\n",
       "      <td>0.662110</td>\n",
       "      <td>-0.347248</td>\n",
       "      <td>0.693244</td>\n",
       "      <td>0.053294</td>\n",
       "      <td>...</td>\n",
       "      <td>1.246617</td>\n",
       "      <td>-0.279923</td>\n",
       "      <td>-0.28538</td>\n",
       "      <td>-0.465551</td>\n",
       "      <td>-0.398495</td>\n",
       "      <td>2.342523</td>\n",
       "      <td>-0.348800</td>\n",
       "      <td>-0.110175</td>\n",
       "      <td>-0.044089</td>\n",
       "      <td>-0.240901</td>\n",
       "    </tr>\n",
       "    <tr>\n",
       "      <th>4</th>\n",
       "      <td>1.331109</td>\n",
       "      <td>0.512154</td>\n",
       "      <td>1.854266</td>\n",
       "      <td>-1.160639</td>\n",
       "      <td>2.564066</td>\n",
       "      <td>-0.416301</td>\n",
       "      <td>-0.800048</td>\n",
       "      <td>-1.422478</td>\n",
       "      <td>-0.674506</td>\n",
       "      <td>-0.128321</td>\n",
       "      <td>...</td>\n",
       "      <td>-0.802171</td>\n",
       "      <td>-0.279923</td>\n",
       "      <td>-0.28538</td>\n",
       "      <td>-0.465551</td>\n",
       "      <td>-0.398495</td>\n",
       "      <td>-0.426890</td>\n",
       "      <td>2.866969</td>\n",
       "      <td>-0.110175</td>\n",
       "      <td>-0.044089</td>\n",
       "      <td>-0.240901</td>\n",
       "    </tr>\n",
       "  </tbody>\n",
       "</table>\n",
       "<p>5 rows × 32 columns</p>\n",
       "</div>"
      ],
      "text/plain": [
       "          0         1         2         3         4         5         6  \\\n",
       "0 -0.413491  1.287980 -1.352932 -0.517792 -0.351164  1.401509  0.475754   \n",
       "1  1.455723 -1.039496  0.003960  0.767902 -0.351164  0.492604 -0.436921   \n",
       "2  0.334195  1.287980 -0.859517 -1.160639 -0.351164 -0.416301  2.266265   \n",
       "3 -0.288877  2.063805 -0.489456  0.767902  0.620579 -0.416301  0.662110   \n",
       "4  1.331109  0.512154  1.854266 -1.160639  2.564066 -0.416301 -0.800048   \n",
       "\n",
       "          7         8         9  ...        22        23       24        25  \\\n",
       "0  0.721852  0.412086 -0.417043  ...  1.246617 -0.279923 -0.28538 -0.465551   \n",
       "1 -1.422478 -0.311172  0.672648  ... -0.802171 -0.279923 -0.28538 -0.465551   \n",
       "2  1.663444  2.120213  0.039323  ... -0.802171  3.572413 -0.28538 -0.465551   \n",
       "3 -0.347248  0.693244  0.053294  ...  1.246617 -0.279923 -0.28538 -0.465551   \n",
       "4 -1.422478 -0.674506 -0.128321  ... -0.802171 -0.279923 -0.28538 -0.465551   \n",
       "\n",
       "         26        27        28        29        30        31  \n",
       "0  2.509442 -0.426890 -0.348800 -0.110175 -0.044089 -0.240901  \n",
       "1 -0.398495 -0.426890  2.866969 -0.110175 -0.044089 -0.240901  \n",
       "2 -0.398495  2.342523 -0.348800 -0.110175 -0.044089 -0.240901  \n",
       "3 -0.398495  2.342523 -0.348800 -0.110175 -0.044089 -0.240901  \n",
       "4 -0.398495 -0.426890  2.866969 -0.110175 -0.044089 -0.240901  \n",
       "\n",
       "[5 rows x 32 columns]"
      ]
     },
     "execution_count": 4,
     "metadata": {},
     "output_type": "execute_result"
    }
   ],
   "source": [
    "X_train_missing.head()"
   ]
  },
  {
   "cell_type": "code",
   "execution_count": 5,
   "metadata": {
    "scrolled": true
   },
   "outputs": [
    {
     "data": {
      "text/plain": [
       "(3983, 29)"
      ]
     },
     "execution_count": 5,
     "metadata": {},
     "output_type": "execute_result"
    }
   ],
   "source": [
    "X_train_dropped.shape"
   ]
  },
  {
   "cell_type": "code",
   "execution_count": 6,
   "metadata": {},
   "outputs": [
    {
     "data": {
      "text/html": [
       "<div>\n",
       "<style scoped>\n",
       "    .dataframe tbody tr th:only-of-type {\n",
       "        vertical-align: middle;\n",
       "    }\n",
       "\n",
       "    .dataframe tbody tr th {\n",
       "        vertical-align: top;\n",
       "    }\n",
       "\n",
       "    .dataframe thead th {\n",
       "        text-align: right;\n",
       "    }\n",
       "</style>\n",
       "<table border=\"1\" class=\"dataframe\">\n",
       "  <thead>\n",
       "    <tr style=\"text-align: right;\">\n",
       "      <th></th>\n",
       "      <th>0</th>\n",
       "      <th>1</th>\n",
       "      <th>2</th>\n",
       "      <th>3</th>\n",
       "      <th>4</th>\n",
       "      <th>5</th>\n",
       "      <th>6</th>\n",
       "      <th>7</th>\n",
       "      <th>8</th>\n",
       "      <th>9</th>\n",
       "      <th>...</th>\n",
       "      <th>19</th>\n",
       "      <th>20</th>\n",
       "      <th>21</th>\n",
       "      <th>22</th>\n",
       "      <th>23</th>\n",
       "      <th>24</th>\n",
       "      <th>25</th>\n",
       "      <th>26</th>\n",
       "      <th>27</th>\n",
       "      <th>28</th>\n",
       "    </tr>\n",
       "  </thead>\n",
       "  <tbody>\n",
       "    <tr>\n",
       "      <th>0</th>\n",
       "      <td>-1.508894</td>\n",
       "      <td>0.527369</td>\n",
       "      <td>-0.985376</td>\n",
       "      <td>-1.182990</td>\n",
       "      <td>0.634121</td>\n",
       "      <td>-0.411583</td>\n",
       "      <td>-0.523637</td>\n",
       "      <td>-1.409925</td>\n",
       "      <td>-0.397529</td>\n",
       "      <td>0.176166</td>\n",
       "      <td>...</td>\n",
       "      <td>-0.4493</td>\n",
       "      <td>-0.302048</td>\n",
       "      <td>1.200858</td>\n",
       "      <td>-0.297071</td>\n",
       "      <td>2.004089</td>\n",
       "      <td>-0.424439</td>\n",
       "      <td>-0.451317</td>\n",
       "      <td>-0.104469</td>\n",
       "      <td>-0.038842</td>\n",
       "      <td>-0.235327</td>\n",
       "    </tr>\n",
       "    <tr>\n",
       "      <th>1</th>\n",
       "      <td>-0.638935</td>\n",
       "      <td>-1.029141</td>\n",
       "      <td>-0.483361</td>\n",
       "      <td>-0.531732</td>\n",
       "      <td>1.636781</td>\n",
       "      <td>-0.411583</td>\n",
       "      <td>0.240640</td>\n",
       "      <td>0.228737</td>\n",
       "      <td>0.220310</td>\n",
       "      <td>-0.262182</td>\n",
       "      <td>...</td>\n",
       "      <td>-0.4493</td>\n",
       "      <td>-0.302048</td>\n",
       "      <td>-0.832738</td>\n",
       "      <td>-0.297071</td>\n",
       "      <td>2.004089</td>\n",
       "      <td>-0.424439</td>\n",
       "      <td>-0.451317</td>\n",
       "      <td>-0.104469</td>\n",
       "      <td>-0.038842</td>\n",
       "      <td>-0.235327</td>\n",
       "    </tr>\n",
       "    <tr>\n",
       "      <th>2</th>\n",
       "      <td>0.355304</td>\n",
       "      <td>2.083878</td>\n",
       "      <td>-0.106850</td>\n",
       "      <td>-1.834248</td>\n",
       "      <td>-0.368540</td>\n",
       "      <td>-0.411583</td>\n",
       "      <td>2.866147</td>\n",
       "      <td>-0.102927</td>\n",
       "      <td>2.877769</td>\n",
       "      <td>0.176166</td>\n",
       "      <td>...</td>\n",
       "      <td>-0.4493</td>\n",
       "      <td>-0.302048</td>\n",
       "      <td>-0.832738</td>\n",
       "      <td>-0.297071</td>\n",
       "      <td>-0.498980</td>\n",
       "      <td>2.356053</td>\n",
       "      <td>-0.451317</td>\n",
       "      <td>9.572247</td>\n",
       "      <td>-0.038842</td>\n",
       "      <td>-0.235327</td>\n",
       "    </tr>\n",
       "    <tr>\n",
       "      <th>3</th>\n",
       "      <td>-0.763215</td>\n",
       "      <td>-0.250886</td>\n",
       "      <td>-0.985376</td>\n",
       "      <td>1.422041</td>\n",
       "      <td>-0.368540</td>\n",
       "      <td>0.494127</td>\n",
       "      <td>-0.533551</td>\n",
       "      <td>0.029739</td>\n",
       "      <td>-0.536664</td>\n",
       "      <td>0.838350</td>\n",
       "      <td>...</td>\n",
       "      <td>-0.4493</td>\n",
       "      <td>-0.302048</td>\n",
       "      <td>-0.832738</td>\n",
       "      <td>-0.297071</td>\n",
       "      <td>-0.498980</td>\n",
       "      <td>-0.424439</td>\n",
       "      <td>2.215738</td>\n",
       "      <td>-0.104469</td>\n",
       "      <td>-0.038842</td>\n",
       "      <td>-0.235327</td>\n",
       "    </tr>\n",
       "    <tr>\n",
       "      <th>4</th>\n",
       "      <td>-0.514655</td>\n",
       "      <td>1.305623</td>\n",
       "      <td>0.018654</td>\n",
       "      <td>0.770783</td>\n",
       "      <td>-0.368540</td>\n",
       "      <td>0.494127</td>\n",
       "      <td>0.225328</td>\n",
       "      <td>-1.409925</td>\n",
       "      <td>0.352059</td>\n",
       "      <td>-1.162193</td>\n",
       "      <td>...</td>\n",
       "      <td>-0.4493</td>\n",
       "      <td>-0.302048</td>\n",
       "      <td>1.200858</td>\n",
       "      <td>-0.297071</td>\n",
       "      <td>2.004089</td>\n",
       "      <td>-0.424439</td>\n",
       "      <td>-0.451317</td>\n",
       "      <td>-0.104469</td>\n",
       "      <td>-0.038842</td>\n",
       "      <td>-0.235327</td>\n",
       "    </tr>\n",
       "  </tbody>\n",
       "</table>\n",
       "<p>5 rows × 29 columns</p>\n",
       "</div>"
      ],
      "text/plain": [
       "          0         1         2         3         4         5         6  \\\n",
       "0 -1.508894  0.527369 -0.985376 -1.182990  0.634121 -0.411583 -0.523637   \n",
       "1 -0.638935 -1.029141 -0.483361 -0.531732  1.636781 -0.411583  0.240640   \n",
       "2  0.355304  2.083878 -0.106850 -1.834248 -0.368540 -0.411583  2.866147   \n",
       "3 -0.763215 -0.250886 -0.985376  1.422041 -0.368540  0.494127 -0.533551   \n",
       "4 -0.514655  1.305623  0.018654  0.770783 -0.368540  0.494127  0.225328   \n",
       "\n",
       "          7         8         9  ...      19        20        21        22  \\\n",
       "0 -1.409925 -0.397529  0.176166  ... -0.4493 -0.302048  1.200858 -0.297071   \n",
       "1  0.228737  0.220310 -0.262182  ... -0.4493 -0.302048 -0.832738 -0.297071   \n",
       "2 -0.102927  2.877769  0.176166  ... -0.4493 -0.302048 -0.832738 -0.297071   \n",
       "3  0.029739 -0.536664  0.838350  ... -0.4493 -0.302048 -0.832738 -0.297071   \n",
       "4 -1.409925  0.352059 -1.162193  ... -0.4493 -0.302048  1.200858 -0.297071   \n",
       "\n",
       "         23        24        25        26        27        28  \n",
       "0  2.004089 -0.424439 -0.451317 -0.104469 -0.038842 -0.235327  \n",
       "1  2.004089 -0.424439 -0.451317 -0.104469 -0.038842 -0.235327  \n",
       "2 -0.498980  2.356053 -0.451317  9.572247 -0.038842 -0.235327  \n",
       "3 -0.498980 -0.424439  2.215738 -0.104469 -0.038842 -0.235327  \n",
       "4  2.004089 -0.424439 -0.451317 -0.104469 -0.038842 -0.235327  \n",
       "\n",
       "[5 rows x 29 columns]"
      ]
     },
     "execution_count": 6,
     "metadata": {},
     "output_type": "execute_result"
    }
   ],
   "source": [
    "X_train_dropped.head()"
   ]
  },
  {
   "cell_type": "code",
   "execution_count": 7,
   "metadata": {},
   "outputs": [
    {
     "data": {
      "text/plain": [
       "(2431, 32)"
      ]
     },
     "execution_count": 7,
     "metadata": {},
     "output_type": "execute_result"
    }
   ],
   "source": [
    "X_test_missing.shape"
   ]
  },
  {
   "cell_type": "code",
   "execution_count": 8,
   "metadata": {},
   "outputs": [
    {
     "data": {
      "text/html": [
       "<div>\n",
       "<style scoped>\n",
       "    .dataframe tbody tr th:only-of-type {\n",
       "        vertical-align: middle;\n",
       "    }\n",
       "\n",
       "    .dataframe tbody tr th {\n",
       "        vertical-align: top;\n",
       "    }\n",
       "\n",
       "    .dataframe thead th {\n",
       "        text-align: right;\n",
       "    }\n",
       "</style>\n",
       "<table border=\"1\" class=\"dataframe\">\n",
       "  <thead>\n",
       "    <tr style=\"text-align: right;\">\n",
       "      <th></th>\n",
       "      <th>0</th>\n",
       "      <th>1</th>\n",
       "      <th>2</th>\n",
       "      <th>3</th>\n",
       "      <th>4</th>\n",
       "      <th>5</th>\n",
       "      <th>6</th>\n",
       "      <th>7</th>\n",
       "      <th>8</th>\n",
       "      <th>9</th>\n",
       "      <th>...</th>\n",
       "      <th>22</th>\n",
       "      <th>23</th>\n",
       "      <th>24</th>\n",
       "      <th>25</th>\n",
       "      <th>26</th>\n",
       "      <th>27</th>\n",
       "      <th>28</th>\n",
       "      <th>29</th>\n",
       "      <th>30</th>\n",
       "      <th>31</th>\n",
       "    </tr>\n",
       "  </thead>\n",
       "  <tbody>\n",
       "    <tr>\n",
       "      <th>0</th>\n",
       "      <td>1.331109</td>\n",
       "      <td>-0.263671</td>\n",
       "      <td>0.003960</td>\n",
       "      <td>-0.517792</td>\n",
       "      <td>-2.294651</td>\n",
       "      <td>-1.325206</td>\n",
       "      <td>-0.661807</td>\n",
       "      <td>0.349138</td>\n",
       "      <td>-0.693108</td>\n",
       "      <td>0.272163</td>\n",
       "      <td>...</td>\n",
       "      <td>-0.802171</td>\n",
       "      <td>-0.279923</td>\n",
       "      <td>-0.28538</td>\n",
       "      <td>-0.465551</td>\n",
       "      <td>-0.398495</td>\n",
       "      <td>-0.426890</td>\n",
       "      <td>-0.3488</td>\n",
       "      <td>-0.110175</td>\n",
       "      <td>-0.044089</td>\n",
       "      <td>-0.240901</td>\n",
       "    </tr>\n",
       "    <tr>\n",
       "      <th>1</th>\n",
       "      <td>-0.413491</td>\n",
       "      <td>1.287980</td>\n",
       "      <td>-0.242748</td>\n",
       "      <td>0.767902</td>\n",
       "      <td>0.620579</td>\n",
       "      <td>0.492604</td>\n",
       "      <td>-0.742232</td>\n",
       "      <td>-0.222193</td>\n",
       "      <td>-0.722973</td>\n",
       "      <td>1.226807</td>\n",
       "      <td>...</td>\n",
       "      <td>-0.802171</td>\n",
       "      <td>3.572413</td>\n",
       "      <td>-0.28538</td>\n",
       "      <td>-0.465551</td>\n",
       "      <td>-0.398495</td>\n",
       "      <td>-0.426890</td>\n",
       "      <td>-0.3488</td>\n",
       "      <td>-0.110175</td>\n",
       "      <td>-0.044089</td>\n",
       "      <td>-0.240901</td>\n",
       "    </tr>\n",
       "    <tr>\n",
       "      <th>2</th>\n",
       "      <td>-1.908862</td>\n",
       "      <td>-1.039496</td>\n",
       "      <td>-1.722994</td>\n",
       "      <td>0.767902</td>\n",
       "      <td>-1.322908</td>\n",
       "      <td>2.310414</td>\n",
       "      <td>-0.233091</td>\n",
       "      <td>-1.422478</td>\n",
       "      <td>-0.107226</td>\n",
       "      <td>0.807695</td>\n",
       "      <td>...</td>\n",
       "      <td>1.246617</td>\n",
       "      <td>-0.279923</td>\n",
       "      <td>-0.28538</td>\n",
       "      <td>-0.465551</td>\n",
       "      <td>-0.398495</td>\n",
       "      <td>-0.426890</td>\n",
       "      <td>-0.3488</td>\n",
       "      <td>-0.110175</td>\n",
       "      <td>-0.044089</td>\n",
       "      <td>-0.240901</td>\n",
       "    </tr>\n",
       "    <tr>\n",
       "      <th>3</th>\n",
       "      <td>0.832652</td>\n",
       "      <td>0.512154</td>\n",
       "      <td>0.497375</td>\n",
       "      <td>0.125055</td>\n",
       "      <td>1.592322</td>\n",
       "      <td>1.401509</td>\n",
       "      <td>-0.299298</td>\n",
       "      <td>0.686297</td>\n",
       "      <td>-0.360258</td>\n",
       "      <td>-0.361161</td>\n",
       "      <td>...</td>\n",
       "      <td>-0.802171</td>\n",
       "      <td>-0.279923</td>\n",
       "      <td>-0.28538</td>\n",
       "      <td>-0.465551</td>\n",
       "      <td>-0.398495</td>\n",
       "      <td>2.342523</td>\n",
       "      <td>-0.3488</td>\n",
       "      <td>-0.110175</td>\n",
       "      <td>-0.044089</td>\n",
       "      <td>-0.240901</td>\n",
       "    </tr>\n",
       "    <tr>\n",
       "      <th>4</th>\n",
       "      <td>1.455723</td>\n",
       "      <td>-1.039496</td>\n",
       "      <td>1.484205</td>\n",
       "      <td>0.125055</td>\n",
       "      <td>-0.351164</td>\n",
       "      <td>-0.416301</td>\n",
       "      <td>-0.800048</td>\n",
       "      <td>-0.440426</td>\n",
       "      <td>-0.761492</td>\n",
       "      <td>-0.770960</td>\n",
       "      <td>...</td>\n",
       "      <td>-0.802171</td>\n",
       "      <td>-0.279923</td>\n",
       "      <td>-0.28538</td>\n",
       "      <td>-0.465551</td>\n",
       "      <td>-0.398495</td>\n",
       "      <td>-0.426890</td>\n",
       "      <td>-0.3488</td>\n",
       "      <td>-0.110175</td>\n",
       "      <td>-0.044089</td>\n",
       "      <td>-0.240901</td>\n",
       "    </tr>\n",
       "  </tbody>\n",
       "</table>\n",
       "<p>5 rows × 32 columns</p>\n",
       "</div>"
      ],
      "text/plain": [
       "          0         1         2         3         4         5         6  \\\n",
       "0  1.331109 -0.263671  0.003960 -0.517792 -2.294651 -1.325206 -0.661807   \n",
       "1 -0.413491  1.287980 -0.242748  0.767902  0.620579  0.492604 -0.742232   \n",
       "2 -1.908862 -1.039496 -1.722994  0.767902 -1.322908  2.310414 -0.233091   \n",
       "3  0.832652  0.512154  0.497375  0.125055  1.592322  1.401509 -0.299298   \n",
       "4  1.455723 -1.039496  1.484205  0.125055 -0.351164 -0.416301 -0.800048   \n",
       "\n",
       "          7         8         9  ...        22        23       24        25  \\\n",
       "0  0.349138 -0.693108  0.272163  ... -0.802171 -0.279923 -0.28538 -0.465551   \n",
       "1 -0.222193 -0.722973  1.226807  ... -0.802171  3.572413 -0.28538 -0.465551   \n",
       "2 -1.422478 -0.107226  0.807695  ...  1.246617 -0.279923 -0.28538 -0.465551   \n",
       "3  0.686297 -0.360258 -0.361161  ... -0.802171 -0.279923 -0.28538 -0.465551   \n",
       "4 -0.440426 -0.761492 -0.770960  ... -0.802171 -0.279923 -0.28538 -0.465551   \n",
       "\n",
       "         26        27      28        29        30        31  \n",
       "0 -0.398495 -0.426890 -0.3488 -0.110175 -0.044089 -0.240901  \n",
       "1 -0.398495 -0.426890 -0.3488 -0.110175 -0.044089 -0.240901  \n",
       "2 -0.398495 -0.426890 -0.3488 -0.110175 -0.044089 -0.240901  \n",
       "3 -0.398495  2.342523 -0.3488 -0.110175 -0.044089 -0.240901  \n",
       "4 -0.398495 -0.426890 -0.3488 -0.110175 -0.044089 -0.240901  \n",
       "\n",
       "[5 rows x 32 columns]"
      ]
     },
     "execution_count": 8,
     "metadata": {},
     "output_type": "execute_result"
    }
   ],
   "source": [
    "X_test_missing.head()"
   ]
  },
  {
   "cell_type": "code",
   "execution_count": 9,
   "metadata": {},
   "outputs": [
    {
     "data": {
      "text/plain": [
       "(1707, 29)"
      ]
     },
     "execution_count": 9,
     "metadata": {},
     "output_type": "execute_result"
    }
   ],
   "source": [
    "X_test_dropped.shape"
   ]
  },
  {
   "cell_type": "code",
   "execution_count": 10,
   "metadata": {},
   "outputs": [
    {
     "data": {
      "text/html": [
       "<div>\n",
       "<style scoped>\n",
       "    .dataframe tbody tr th:only-of-type {\n",
       "        vertical-align: middle;\n",
       "    }\n",
       "\n",
       "    .dataframe tbody tr th {\n",
       "        vertical-align: top;\n",
       "    }\n",
       "\n",
       "    .dataframe thead th {\n",
       "        text-align: right;\n",
       "    }\n",
       "</style>\n",
       "<table border=\"1\" class=\"dataframe\">\n",
       "  <thead>\n",
       "    <tr style=\"text-align: right;\">\n",
       "      <th></th>\n",
       "      <th>0</th>\n",
       "      <th>1</th>\n",
       "      <th>2</th>\n",
       "      <th>3</th>\n",
       "      <th>4</th>\n",
       "      <th>5</th>\n",
       "      <th>6</th>\n",
       "      <th>7</th>\n",
       "      <th>8</th>\n",
       "      <th>9</th>\n",
       "      <th>...</th>\n",
       "      <th>19</th>\n",
       "      <th>20</th>\n",
       "      <th>21</th>\n",
       "      <th>22</th>\n",
       "      <th>23</th>\n",
       "      <th>24</th>\n",
       "      <th>25</th>\n",
       "      <th>26</th>\n",
       "      <th>27</th>\n",
       "      <th>28</th>\n",
       "    </tr>\n",
       "  </thead>\n",
       "  <tbody>\n",
       "    <tr>\n",
       "      <th>0</th>\n",
       "      <td>-1.136055</td>\n",
       "      <td>1.305623</td>\n",
       "      <td>0.018654</td>\n",
       "      <td>1.422041</td>\n",
       "      <td>-0.368540</td>\n",
       "      <td>0.494127</td>\n",
       "      <td>-0.777628</td>\n",
       "      <td>-1.409925</td>\n",
       "      <td>-0.651732</td>\n",
       "      <td>-0.887060</td>\n",
       "      <td>...</td>\n",
       "      <td>-0.449300</td>\n",
       "      <td>-0.302048</td>\n",
       "      <td>1.200858</td>\n",
       "      <td>-0.297071</td>\n",
       "      <td>-0.49898</td>\n",
       "      <td>-0.424439</td>\n",
       "      <td>-0.451317</td>\n",
       "      <td>-0.104469</td>\n",
       "      <td>-0.038842</td>\n",
       "      <td>-0.235327</td>\n",
       "    </tr>\n",
       "    <tr>\n",
       "      <th>1</th>\n",
       "      <td>0.355304</td>\n",
       "      <td>1.305623</td>\n",
       "      <td>0.018654</td>\n",
       "      <td>0.770783</td>\n",
       "      <td>-1.371201</td>\n",
       "      <td>0.494127</td>\n",
       "      <td>-0.719829</td>\n",
       "      <td>0.452302</td>\n",
       "      <td>-0.761022</td>\n",
       "      <td>0.530574</td>\n",
       "      <td>...</td>\n",
       "      <td>-0.449300</td>\n",
       "      <td>-0.302048</td>\n",
       "      <td>1.200858</td>\n",
       "      <td>-0.297071</td>\n",
       "      <td>-0.49898</td>\n",
       "      <td>-0.424439</td>\n",
       "      <td>2.215738</td>\n",
       "      <td>-0.104469</td>\n",
       "      <td>-0.038842</td>\n",
       "      <td>-0.235327</td>\n",
       "    </tr>\n",
       "    <tr>\n",
       "      <th>2</th>\n",
       "      <td>0.852423</td>\n",
       "      <td>0.527369</td>\n",
       "      <td>1.399194</td>\n",
       "      <td>0.119525</td>\n",
       "      <td>-1.371201</td>\n",
       "      <td>-0.411583</td>\n",
       "      <td>-0.764002</td>\n",
       "      <td>-0.487410</td>\n",
       "      <td>-0.720891</td>\n",
       "      <td>0.777728</td>\n",
       "      <td>...</td>\n",
       "      <td>-0.449300</td>\n",
       "      <td>-0.302048</td>\n",
       "      <td>-0.832738</td>\n",
       "      <td>-0.297071</td>\n",
       "      <td>-0.49898</td>\n",
       "      <td>-0.424439</td>\n",
       "      <td>-0.451317</td>\n",
       "      <td>-0.104469</td>\n",
       "      <td>-0.038842</td>\n",
       "      <td>-0.235327</td>\n",
       "    </tr>\n",
       "    <tr>\n",
       "      <th>3</th>\n",
       "      <td>0.976703</td>\n",
       "      <td>-0.250886</td>\n",
       "      <td>0.897180</td>\n",
       "      <td>1.422041</td>\n",
       "      <td>-1.371201</td>\n",
       "      <td>0.494127</td>\n",
       "      <td>-0.777628</td>\n",
       "      <td>-0.034137</td>\n",
       "      <td>-0.775212</td>\n",
       "      <td>0.274094</td>\n",
       "      <td>...</td>\n",
       "      <td>-0.449300</td>\n",
       "      <td>3.310734</td>\n",
       "      <td>-0.832738</td>\n",
       "      <td>-0.297071</td>\n",
       "      <td>-0.49898</td>\n",
       "      <td>-0.424439</td>\n",
       "      <td>-0.451317</td>\n",
       "      <td>-0.104469</td>\n",
       "      <td>-0.038842</td>\n",
       "      <td>-0.235327</td>\n",
       "    </tr>\n",
       "    <tr>\n",
       "      <th>4</th>\n",
       "      <td>-0.141816</td>\n",
       "      <td>-0.250886</td>\n",
       "      <td>0.018654</td>\n",
       "      <td>0.770783</td>\n",
       "      <td>0.634121</td>\n",
       "      <td>-0.411583</td>\n",
       "      <td>-0.691408</td>\n",
       "      <td>0.239792</td>\n",
       "      <td>-0.713505</td>\n",
       "      <td>0.516585</td>\n",
       "      <td>...</td>\n",
       "      <td>2.225682</td>\n",
       "      <td>-0.302048</td>\n",
       "      <td>-0.832738</td>\n",
       "      <td>-0.297071</td>\n",
       "      <td>-0.49898</td>\n",
       "      <td>2.356053</td>\n",
       "      <td>-0.451317</td>\n",
       "      <td>-0.104469</td>\n",
       "      <td>-0.038842</td>\n",
       "      <td>-0.235327</td>\n",
       "    </tr>\n",
       "  </tbody>\n",
       "</table>\n",
       "<p>5 rows × 29 columns</p>\n",
       "</div>"
      ],
      "text/plain": [
       "          0         1         2         3         4         5         6  \\\n",
       "0 -1.136055  1.305623  0.018654  1.422041 -0.368540  0.494127 -0.777628   \n",
       "1  0.355304  1.305623  0.018654  0.770783 -1.371201  0.494127 -0.719829   \n",
       "2  0.852423  0.527369  1.399194  0.119525 -1.371201 -0.411583 -0.764002   \n",
       "3  0.976703 -0.250886  0.897180  1.422041 -1.371201  0.494127 -0.777628   \n",
       "4 -0.141816 -0.250886  0.018654  0.770783  0.634121 -0.411583 -0.691408   \n",
       "\n",
       "          7         8         9  ...        19        20        21        22  \\\n",
       "0 -1.409925 -0.651732 -0.887060  ... -0.449300 -0.302048  1.200858 -0.297071   \n",
       "1  0.452302 -0.761022  0.530574  ... -0.449300 -0.302048  1.200858 -0.297071   \n",
       "2 -0.487410 -0.720891  0.777728  ... -0.449300 -0.302048 -0.832738 -0.297071   \n",
       "3 -0.034137 -0.775212  0.274094  ... -0.449300  3.310734 -0.832738 -0.297071   \n",
       "4  0.239792 -0.713505  0.516585  ...  2.225682 -0.302048 -0.832738 -0.297071   \n",
       "\n",
       "        23        24        25        26        27        28  \n",
       "0 -0.49898 -0.424439 -0.451317 -0.104469 -0.038842 -0.235327  \n",
       "1 -0.49898 -0.424439  2.215738 -0.104469 -0.038842 -0.235327  \n",
       "2 -0.49898 -0.424439 -0.451317 -0.104469 -0.038842 -0.235327  \n",
       "3 -0.49898 -0.424439 -0.451317 -0.104469 -0.038842 -0.235327  \n",
       "4 -0.49898  2.356053 -0.451317 -0.104469 -0.038842 -0.235327  \n",
       "\n",
       "[5 rows x 29 columns]"
      ]
     },
     "execution_count": 10,
     "metadata": {},
     "output_type": "execute_result"
    }
   ],
   "source": [
    "X_test_dropped.head()"
   ]
  },
  {
   "cell_type": "code",
   "execution_count": 11,
   "metadata": {},
   "outputs": [
    {
     "data": {
      "text/plain": [
       "(5670, 1)"
      ]
     },
     "execution_count": 11,
     "metadata": {},
     "output_type": "execute_result"
    }
   ],
   "source": [
    "y_train_missing.shape"
   ]
  },
  {
   "cell_type": "code",
   "execution_count": 12,
   "metadata": {},
   "outputs": [
    {
     "data": {
      "text/html": [
       "<div>\n",
       "<style scoped>\n",
       "    .dataframe tbody tr th:only-of-type {\n",
       "        vertical-align: middle;\n",
       "    }\n",
       "\n",
       "    .dataframe tbody tr th {\n",
       "        vertical-align: top;\n",
       "    }\n",
       "\n",
       "    .dataframe thead th {\n",
       "        text-align: right;\n",
       "    }\n",
       "</style>\n",
       "<table border=\"1\" class=\"dataframe\">\n",
       "  <thead>\n",
       "    <tr style=\"text-align: right;\">\n",
       "      <th></th>\n",
       "      <th>Attrition_Flag</th>\n",
       "    </tr>\n",
       "  </thead>\n",
       "  <tbody>\n",
       "    <tr>\n",
       "      <th>0</th>\n",
       "      <td>1</td>\n",
       "    </tr>\n",
       "    <tr>\n",
       "      <th>1</th>\n",
       "      <td>1</td>\n",
       "    </tr>\n",
       "    <tr>\n",
       "      <th>2</th>\n",
       "      <td>1</td>\n",
       "    </tr>\n",
       "    <tr>\n",
       "      <th>3</th>\n",
       "      <td>1</td>\n",
       "    </tr>\n",
       "    <tr>\n",
       "      <th>4</th>\n",
       "      <td>0</td>\n",
       "    </tr>\n",
       "  </tbody>\n",
       "</table>\n",
       "</div>"
      ],
      "text/plain": [
       "   Attrition_Flag\n",
       "0               1\n",
       "1               1\n",
       "2               1\n",
       "3               1\n",
       "4               0"
      ]
     },
     "execution_count": 12,
     "metadata": {},
     "output_type": "execute_result"
    }
   ],
   "source": [
    "y_train_missing.head()"
   ]
  },
  {
   "cell_type": "code",
   "execution_count": 13,
   "metadata": {},
   "outputs": [
    {
     "data": {
      "text/plain": [
       "(3983, 1)"
      ]
     },
     "execution_count": 13,
     "metadata": {},
     "output_type": "execute_result"
    }
   ],
   "source": [
    "y_train_dropped.shape"
   ]
  },
  {
   "cell_type": "code",
   "execution_count": 14,
   "metadata": {},
   "outputs": [
    {
     "data": {
      "text/html": [
       "<div>\n",
       "<style scoped>\n",
       "    .dataframe tbody tr th:only-of-type {\n",
       "        vertical-align: middle;\n",
       "    }\n",
       "\n",
       "    .dataframe tbody tr th {\n",
       "        vertical-align: top;\n",
       "    }\n",
       "\n",
       "    .dataframe thead th {\n",
       "        text-align: right;\n",
       "    }\n",
       "</style>\n",
       "<table border=\"1\" class=\"dataframe\">\n",
       "  <thead>\n",
       "    <tr style=\"text-align: right;\">\n",
       "      <th></th>\n",
       "      <th>Attrition_Flag</th>\n",
       "    </tr>\n",
       "  </thead>\n",
       "  <tbody>\n",
       "    <tr>\n",
       "      <th>0</th>\n",
       "      <td>0</td>\n",
       "    </tr>\n",
       "    <tr>\n",
       "      <th>1</th>\n",
       "      <td>1</td>\n",
       "    </tr>\n",
       "    <tr>\n",
       "      <th>2</th>\n",
       "      <td>1</td>\n",
       "    </tr>\n",
       "    <tr>\n",
       "      <th>3</th>\n",
       "      <td>1</td>\n",
       "    </tr>\n",
       "    <tr>\n",
       "      <th>4</th>\n",
       "      <td>0</td>\n",
       "    </tr>\n",
       "  </tbody>\n",
       "</table>\n",
       "</div>"
      ],
      "text/plain": [
       "   Attrition_Flag\n",
       "0               0\n",
       "1               1\n",
       "2               1\n",
       "3               1\n",
       "4               0"
      ]
     },
     "execution_count": 14,
     "metadata": {},
     "output_type": "execute_result"
    }
   ],
   "source": [
    "y_train_dropped.head()"
   ]
  },
  {
   "cell_type": "code",
   "execution_count": 15,
   "metadata": {},
   "outputs": [
    {
     "data": {
      "text/plain": [
       "(2431, 1)"
      ]
     },
     "execution_count": 15,
     "metadata": {},
     "output_type": "execute_result"
    }
   ],
   "source": [
    "y_test_missing.shape"
   ]
  },
  {
   "cell_type": "code",
   "execution_count": 16,
   "metadata": {},
   "outputs": [
    {
     "data": {
      "text/html": [
       "<div>\n",
       "<style scoped>\n",
       "    .dataframe tbody tr th:only-of-type {\n",
       "        vertical-align: middle;\n",
       "    }\n",
       "\n",
       "    .dataframe tbody tr th {\n",
       "        vertical-align: top;\n",
       "    }\n",
       "\n",
       "    .dataframe thead th {\n",
       "        text-align: right;\n",
       "    }\n",
       "</style>\n",
       "<table border=\"1\" class=\"dataframe\">\n",
       "  <thead>\n",
       "    <tr style=\"text-align: right;\">\n",
       "      <th></th>\n",
       "      <th>Attrition_Flag</th>\n",
       "    </tr>\n",
       "  </thead>\n",
       "  <tbody>\n",
       "    <tr>\n",
       "      <th>0</th>\n",
       "      <td>1</td>\n",
       "    </tr>\n",
       "    <tr>\n",
       "      <th>1</th>\n",
       "      <td>1</td>\n",
       "    </tr>\n",
       "    <tr>\n",
       "      <th>2</th>\n",
       "      <td>1</td>\n",
       "    </tr>\n",
       "    <tr>\n",
       "      <th>3</th>\n",
       "      <td>1</td>\n",
       "    </tr>\n",
       "    <tr>\n",
       "      <th>4</th>\n",
       "      <td>1</td>\n",
       "    </tr>\n",
       "  </tbody>\n",
       "</table>\n",
       "</div>"
      ],
      "text/plain": [
       "   Attrition_Flag\n",
       "0               1\n",
       "1               1\n",
       "2               1\n",
       "3               1\n",
       "4               1"
      ]
     },
     "execution_count": 16,
     "metadata": {},
     "output_type": "execute_result"
    }
   ],
   "source": [
    "y_test_missing.head()"
   ]
  },
  {
   "cell_type": "code",
   "execution_count": 17,
   "metadata": {},
   "outputs": [
    {
     "data": {
      "text/plain": [
       "(1707, 1)"
      ]
     },
     "execution_count": 17,
     "metadata": {},
     "output_type": "execute_result"
    }
   ],
   "source": [
    "y_test_dropped.shape"
   ]
  },
  {
   "cell_type": "code",
   "execution_count": 18,
   "metadata": {},
   "outputs": [
    {
     "data": {
      "text/html": [
       "<div>\n",
       "<style scoped>\n",
       "    .dataframe tbody tr th:only-of-type {\n",
       "        vertical-align: middle;\n",
       "    }\n",
       "\n",
       "    .dataframe tbody tr th {\n",
       "        vertical-align: top;\n",
       "    }\n",
       "\n",
       "    .dataframe thead th {\n",
       "        text-align: right;\n",
       "    }\n",
       "</style>\n",
       "<table border=\"1\" class=\"dataframe\">\n",
       "  <thead>\n",
       "    <tr style=\"text-align: right;\">\n",
       "      <th></th>\n",
       "      <th>Attrition_Flag</th>\n",
       "    </tr>\n",
       "  </thead>\n",
       "  <tbody>\n",
       "    <tr>\n",
       "      <th>0</th>\n",
       "      <td>1</td>\n",
       "    </tr>\n",
       "    <tr>\n",
       "      <th>1</th>\n",
       "      <td>1</td>\n",
       "    </tr>\n",
       "    <tr>\n",
       "      <th>2</th>\n",
       "      <td>1</td>\n",
       "    </tr>\n",
       "    <tr>\n",
       "      <th>3</th>\n",
       "      <td>1</td>\n",
       "    </tr>\n",
       "    <tr>\n",
       "      <th>4</th>\n",
       "      <td>1</td>\n",
       "    </tr>\n",
       "  </tbody>\n",
       "</table>\n",
       "</div>"
      ],
      "text/plain": [
       "   Attrition_Flag\n",
       "0               1\n",
       "1               1\n",
       "2               1\n",
       "3               1\n",
       "4               1"
      ]
     },
     "execution_count": 18,
     "metadata": {},
     "output_type": "execute_result"
    }
   ],
   "source": [
    "y_test_dropped.head()"
   ]
  },
  {
   "cell_type": "markdown",
   "metadata": {},
   "source": [
    "## 5.5 Modeling"
   ]
  },
  {
   "cell_type": "markdown",
   "metadata": {},
   "source": [
    "### 5.5.1 Logistic Regression"
   ]
  },
  {
   "cell_type": "markdown",
   "metadata": {},
   "source": [
    "Apply Logistic Regression model and determine performance to see if applying assumption of datasets being linear are proper performer for the datasets."
   ]
  },
  {
   "cell_type": "code",
   "execution_count": 19,
   "metadata": {},
   "outputs": [],
   "source": [
    "#Build Logistic Regression model with 'saga' solver in order to test each regularization methods with GridSearchCV with standard 5 fold cv.\n",
    "#Referred to stackoverflow regarding receiving warnings when applying trained y values to model: https://stackoverflow.com/questions/34165731/a-column-vector-y-was-passed-when-a-1d-array-was-expected \n",
    "def logregmodel(X_train, y_train):\n",
    "    start = time.time()\n",
    "    logreg = LogisticRegression(random_state=random_state)\n",
    "    params_log = {'penalty':['l1', 'l2', 'elasticnet', None], 'C':[0.001, 0.01, 0.1, 0.5, 1,10], 'solver':['lbfgs', 'liblineaer', 'netwon-cg', 'newton-cholesky', 'sag', 'saga']}\n",
    "    logreg_GS = GridSearchCV(estimator = logreg, param_grid = params_log, cv=5)\n",
    "    logreg_GS.fit(X_train, y_train.values.ravel())\n",
    "    end = time.time() - start\n",
    "    return logreg_GS.best_params_ , logreg_GS.best_score_ , end"
   ]
  },
  {
   "cell_type": "code",
   "execution_count": 20,
   "metadata": {},
   "outputs": [
    {
     "name": "stderr",
     "output_type": "stream",
     "text": [
      "C:\\Users\\tpooz\\anaconda3\\lib\\site-packages\\sklearn\\linear_model\\_logistic.py:1181: UserWarning: Setting penalty=None will ignore the C and l1_ratio parameters\n",
      "  warnings.warn(\n",
      "C:\\Users\\tpooz\\anaconda3\\lib\\site-packages\\sklearn\\linear_model\\_logistic.py:1181: UserWarning: Setting penalty=None will ignore the C and l1_ratio parameters\n",
      "  warnings.warn(\n",
      "C:\\Users\\tpooz\\anaconda3\\lib\\site-packages\\sklearn\\linear_model\\_logistic.py:1181: UserWarning: Setting penalty=None will ignore the C and l1_ratio parameters\n",
      "  warnings.warn(\n",
      "C:\\Users\\tpooz\\anaconda3\\lib\\site-packages\\sklearn\\linear_model\\_logistic.py:1181: UserWarning: Setting penalty=None will ignore the C and l1_ratio parameters\n",
      "  warnings.warn(\n",
      "C:\\Users\\tpooz\\anaconda3\\lib\\site-packages\\sklearn\\linear_model\\_logistic.py:1181: UserWarning: Setting penalty=None will ignore the C and l1_ratio parameters\n",
      "  warnings.warn(\n",
      "C:\\Users\\tpooz\\anaconda3\\lib\\site-packages\\sklearn\\linear_model\\_logistic.py:1181: UserWarning: Setting penalty=None will ignore the C and l1_ratio parameters\n",
      "  warnings.warn(\n",
      "C:\\Users\\tpooz\\anaconda3\\lib\\site-packages\\sklearn\\linear_model\\_glm\\_newton_solver.py:491: LinAlgWarning: The inner solver of NewtonCholeskySolver stumbled upon a singular or very ill-conditioned Hessian matrix at iteration #1. It will now resort to lbfgs instead.\n",
      "Further options are to use another solver or to avoid such situation in the first place. Possible remedies are removing collinear features of X or increasing the penalization strengths.\n",
      "The original Linear Algebra message was:\n",
      "Ill-conditioned matrix (rcond=7.276e-17): result may not be accurate.\n",
      "  warnings.warn(\n",
      "C:\\Users\\tpooz\\anaconda3\\lib\\site-packages\\sklearn\\linear_model\\_logistic.py:1181: UserWarning: Setting penalty=None will ignore the C and l1_ratio parameters\n",
      "  warnings.warn(\n",
      "C:\\Users\\tpooz\\anaconda3\\lib\\site-packages\\sklearn\\linear_model\\_glm\\_newton_solver.py:491: LinAlgWarning: The inner solver of NewtonCholeskySolver stumbled upon a singular or very ill-conditioned Hessian matrix at iteration #1. It will now resort to lbfgs instead.\n",
      "Further options are to use another solver or to avoid such situation in the first place. Possible remedies are removing collinear features of X or increasing the penalization strengths.\n",
      "The original Linear Algebra message was:\n",
      "Ill-conditioned matrix (rcond=2.86916e-17): result may not be accurate.\n",
      "  warnings.warn(\n",
      "C:\\Users\\tpooz\\anaconda3\\lib\\site-packages\\sklearn\\linear_model\\_logistic.py:1181: UserWarning: Setting penalty=None will ignore the C and l1_ratio parameters\n",
      "  warnings.warn(\n",
      "C:\\Users\\tpooz\\anaconda3\\lib\\site-packages\\sklearn\\linear_model\\_glm\\_newton_solver.py:491: LinAlgWarning: The inner solver of NewtonCholeskySolver stumbled upon a singular or very ill-conditioned Hessian matrix at iteration #1. It will now resort to lbfgs instead.\n",
      "Further options are to use another solver or to avoid such situation in the first place. Possible remedies are removing collinear features of X or increasing the penalization strengths.\n",
      "The original Linear Algebra message was:\n",
      "Ill-conditioned matrix (rcond=4.42081e-17): result may not be accurate.\n",
      "  warnings.warn(\n",
      "C:\\Users\\tpooz\\anaconda3\\lib\\site-packages\\sklearn\\linear_model\\_logistic.py:1181: UserWarning: Setting penalty=None will ignore the C and l1_ratio parameters\n",
      "  warnings.warn(\n",
      "C:\\Users\\tpooz\\anaconda3\\lib\\site-packages\\sklearn\\linear_model\\_glm\\_newton_solver.py:491: LinAlgWarning: The inner solver of NewtonCholeskySolver stumbled upon a singular or very ill-conditioned Hessian matrix at iteration #1. It will now resort to lbfgs instead.\n",
      "Further options are to use another solver or to avoid such situation in the first place. Possible remedies are removing collinear features of X or increasing the penalization strengths.\n",
      "The original Linear Algebra message was:\n",
      "Ill-conditioned matrix (rcond=4.69944e-17): result may not be accurate.\n",
      "  warnings.warn(\n",
      "C:\\Users\\tpooz\\anaconda3\\lib\\site-packages\\sklearn\\linear_model\\_logistic.py:1181: UserWarning: Setting penalty=None will ignore the C and l1_ratio parameters\n",
      "  warnings.warn(\n",
      "C:\\Users\\tpooz\\anaconda3\\lib\\site-packages\\sklearn\\linear_model\\_glm\\_newton_solver.py:491: LinAlgWarning: The inner solver of NewtonCholeskySolver stumbled upon a singular or very ill-conditioned Hessian matrix at iteration #1. It will now resort to lbfgs instead.\n",
      "Further options are to use another solver or to avoid such situation in the first place. Possible remedies are removing collinear features of X or increasing the penalization strengths.\n",
      "The original Linear Algebra message was:\n",
      "Ill-conditioned matrix (rcond=6.01156e-17): result may not be accurate.\n",
      "  warnings.warn(\n",
      "C:\\Users\\tpooz\\anaconda3\\lib\\site-packages\\sklearn\\linear_model\\_logistic.py:1181: UserWarning: Setting penalty=None will ignore the C and l1_ratio parameters\n",
      "  warnings.warn(\n",
      "C:\\Users\\tpooz\\anaconda3\\lib\\site-packages\\sklearn\\linear_model\\_logistic.py:1181: UserWarning: Setting penalty=None will ignore the C and l1_ratio parameters\n",
      "  warnings.warn(\n",
      "C:\\Users\\tpooz\\anaconda3\\lib\\site-packages\\sklearn\\linear_model\\_logistic.py:1181: UserWarning: Setting penalty=None will ignore the C and l1_ratio parameters\n",
      "  warnings.warn(\n",
      "C:\\Users\\tpooz\\anaconda3\\lib\\site-packages\\sklearn\\linear_model\\_logistic.py:1181: UserWarning: Setting penalty=None will ignore the C and l1_ratio parameters\n",
      "  warnings.warn(\n",
      "C:\\Users\\tpooz\\anaconda3\\lib\\site-packages\\sklearn\\linear_model\\_logistic.py:1181: UserWarning: Setting penalty=None will ignore the C and l1_ratio parameters\n",
      "  warnings.warn(\n",
      "C:\\Users\\tpooz\\anaconda3\\lib\\site-packages\\sklearn\\linear_model\\_logistic.py:1181: UserWarning: Setting penalty=None will ignore the C and l1_ratio parameters\n",
      "  warnings.warn(\n",
      "C:\\Users\\tpooz\\anaconda3\\lib\\site-packages\\sklearn\\linear_model\\_logistic.py:1181: UserWarning: Setting penalty=None will ignore the C and l1_ratio parameters\n",
      "  warnings.warn(\n",
      "C:\\Users\\tpooz\\anaconda3\\lib\\site-packages\\sklearn\\linear_model\\_logistic.py:1181: UserWarning: Setting penalty=None will ignore the C and l1_ratio parameters\n",
      "  warnings.warn(\n",
      "C:\\Users\\tpooz\\anaconda3\\lib\\site-packages\\sklearn\\linear_model\\_logistic.py:1181: UserWarning: Setting penalty=None will ignore the C and l1_ratio parameters\n",
      "  warnings.warn(\n",
      "C:\\Users\\tpooz\\anaconda3\\lib\\site-packages\\sklearn\\linear_model\\_logistic.py:1181: UserWarning: Setting penalty=None will ignore the C and l1_ratio parameters\n",
      "  warnings.warn(\n",
      "C:\\Users\\tpooz\\anaconda3\\lib\\site-packages\\sklearn\\linear_model\\_logistic.py:1181: UserWarning: Setting penalty=None will ignore the C and l1_ratio parameters\n",
      "  warnings.warn(\n",
      "C:\\Users\\tpooz\\anaconda3\\lib\\site-packages\\sklearn\\linear_model\\_logistic.py:1181: UserWarning: Setting penalty=None will ignore the C and l1_ratio parameters\n",
      "  warnings.warn(\n",
      "C:\\Users\\tpooz\\anaconda3\\lib\\site-packages\\sklearn\\linear_model\\_logistic.py:1181: UserWarning: Setting penalty=None will ignore the C and l1_ratio parameters\n",
      "  warnings.warn(\n",
      "C:\\Users\\tpooz\\anaconda3\\lib\\site-packages\\sklearn\\linear_model\\_logistic.py:1181: UserWarning: Setting penalty=None will ignore the C and l1_ratio parameters\n",
      "  warnings.warn(\n",
      "C:\\Users\\tpooz\\anaconda3\\lib\\site-packages\\sklearn\\linear_model\\_logistic.py:1181: UserWarning: Setting penalty=None will ignore the C and l1_ratio parameters\n",
      "  warnings.warn(\n",
      "C:\\Users\\tpooz\\anaconda3\\lib\\site-packages\\sklearn\\linear_model\\_logistic.py:1181: UserWarning: Setting penalty=None will ignore the C and l1_ratio parameters\n",
      "  warnings.warn(\n",
      "C:\\Users\\tpooz\\anaconda3\\lib\\site-packages\\sklearn\\linear_model\\_glm\\_newton_solver.py:491: LinAlgWarning: The inner solver of NewtonCholeskySolver stumbled upon a singular or very ill-conditioned Hessian matrix at iteration #1. It will now resort to lbfgs instead.\n",
      "Further options are to use another solver or to avoid such situation in the first place. Possible remedies are removing collinear features of X or increasing the penalization strengths.\n",
      "The original Linear Algebra message was:\n",
      "Ill-conditioned matrix (rcond=7.276e-17): result may not be accurate.\n",
      "  warnings.warn(\n",
      "C:\\Users\\tpooz\\anaconda3\\lib\\site-packages\\sklearn\\linear_model\\_logistic.py:1181: UserWarning: Setting penalty=None will ignore the C and l1_ratio parameters\n",
      "  warnings.warn(\n",
      "C:\\Users\\tpooz\\anaconda3\\lib\\site-packages\\sklearn\\linear_model\\_glm\\_newton_solver.py:491: LinAlgWarning: The inner solver of NewtonCholeskySolver stumbled upon a singular or very ill-conditioned Hessian matrix at iteration #1. It will now resort to lbfgs instead.\n",
      "Further options are to use another solver or to avoid such situation in the first place. Possible remedies are removing collinear features of X or increasing the penalization strengths.\n",
      "The original Linear Algebra message was:\n",
      "Ill-conditioned matrix (rcond=2.86916e-17): result may not be accurate.\n",
      "  warnings.warn(\n",
      "C:\\Users\\tpooz\\anaconda3\\lib\\site-packages\\sklearn\\linear_model\\_logistic.py:1181: UserWarning: Setting penalty=None will ignore the C and l1_ratio parameters\n",
      "  warnings.warn(\n",
      "C:\\Users\\tpooz\\anaconda3\\lib\\site-packages\\sklearn\\linear_model\\_glm\\_newton_solver.py:491: LinAlgWarning: The inner solver of NewtonCholeskySolver stumbled upon a singular or very ill-conditioned Hessian matrix at iteration #1. It will now resort to lbfgs instead.\n",
      "Further options are to use another solver or to avoid such situation in the first place. Possible remedies are removing collinear features of X or increasing the penalization strengths.\n",
      "The original Linear Algebra message was:\n",
      "Ill-conditioned matrix (rcond=4.42081e-17): result may not be accurate.\n",
      "  warnings.warn(\n",
      "C:\\Users\\tpooz\\anaconda3\\lib\\site-packages\\sklearn\\linear_model\\_logistic.py:1181: UserWarning: Setting penalty=None will ignore the C and l1_ratio parameters\n",
      "  warnings.warn(\n",
      "C:\\Users\\tpooz\\anaconda3\\lib\\site-packages\\sklearn\\linear_model\\_glm\\_newton_solver.py:491: LinAlgWarning: The inner solver of NewtonCholeskySolver stumbled upon a singular or very ill-conditioned Hessian matrix at iteration #1. It will now resort to lbfgs instead.\n",
      "Further options are to use another solver or to avoid such situation in the first place. Possible remedies are removing collinear features of X or increasing the penalization strengths.\n",
      "The original Linear Algebra message was:\n",
      "Ill-conditioned matrix (rcond=4.69944e-17): result may not be accurate.\n",
      "  warnings.warn(\n",
      "C:\\Users\\tpooz\\anaconda3\\lib\\site-packages\\sklearn\\linear_model\\_logistic.py:1181: UserWarning: Setting penalty=None will ignore the C and l1_ratio parameters\n",
      "  warnings.warn(\n",
      "C:\\Users\\tpooz\\anaconda3\\lib\\site-packages\\sklearn\\linear_model\\_glm\\_newton_solver.py:491: LinAlgWarning: The inner solver of NewtonCholeskySolver stumbled upon a singular or very ill-conditioned Hessian matrix at iteration #1. It will now resort to lbfgs instead.\n",
      "Further options are to use another solver or to avoid such situation in the first place. Possible remedies are removing collinear features of X or increasing the penalization strengths.\n",
      "The original Linear Algebra message was:\n",
      "Ill-conditioned matrix (rcond=6.01156e-17): result may not be accurate.\n",
      "  warnings.warn(\n",
      "C:\\Users\\tpooz\\anaconda3\\lib\\site-packages\\sklearn\\linear_model\\_logistic.py:1181: UserWarning: Setting penalty=None will ignore the C and l1_ratio parameters\n",
      "  warnings.warn(\n",
      "C:\\Users\\tpooz\\anaconda3\\lib\\site-packages\\sklearn\\linear_model\\_logistic.py:1181: UserWarning: Setting penalty=None will ignore the C and l1_ratio parameters\n",
      "  warnings.warn(\n"
     ]
    },
    {
     "name": "stderr",
     "output_type": "stream",
     "text": [
      "C:\\Users\\tpooz\\anaconda3\\lib\\site-packages\\sklearn\\linear_model\\_logistic.py:1181: UserWarning: Setting penalty=None will ignore the C and l1_ratio parameters\n",
      "  warnings.warn(\n",
      "C:\\Users\\tpooz\\anaconda3\\lib\\site-packages\\sklearn\\linear_model\\_logistic.py:1181: UserWarning: Setting penalty=None will ignore the C and l1_ratio parameters\n",
      "  warnings.warn(\n",
      "C:\\Users\\tpooz\\anaconda3\\lib\\site-packages\\sklearn\\linear_model\\_logistic.py:1181: UserWarning: Setting penalty=None will ignore the C and l1_ratio parameters\n",
      "  warnings.warn(\n",
      "C:\\Users\\tpooz\\anaconda3\\lib\\site-packages\\sklearn\\linear_model\\_logistic.py:1181: UserWarning: Setting penalty=None will ignore the C and l1_ratio parameters\n",
      "  warnings.warn(\n",
      "C:\\Users\\tpooz\\anaconda3\\lib\\site-packages\\sklearn\\linear_model\\_logistic.py:1181: UserWarning: Setting penalty=None will ignore the C and l1_ratio parameters\n",
      "  warnings.warn(\n",
      "C:\\Users\\tpooz\\anaconda3\\lib\\site-packages\\sklearn\\linear_model\\_logistic.py:1181: UserWarning: Setting penalty=None will ignore the C and l1_ratio parameters\n",
      "  warnings.warn(\n",
      "C:\\Users\\tpooz\\anaconda3\\lib\\site-packages\\sklearn\\linear_model\\_logistic.py:1181: UserWarning: Setting penalty=None will ignore the C and l1_ratio parameters\n",
      "  warnings.warn(\n",
      "C:\\Users\\tpooz\\anaconda3\\lib\\site-packages\\sklearn\\linear_model\\_logistic.py:1181: UserWarning: Setting penalty=None will ignore the C and l1_ratio parameters\n",
      "  warnings.warn(\n",
      "C:\\Users\\tpooz\\anaconda3\\lib\\site-packages\\sklearn\\linear_model\\_logistic.py:1181: UserWarning: Setting penalty=None will ignore the C and l1_ratio parameters\n",
      "  warnings.warn(\n",
      "C:\\Users\\tpooz\\anaconda3\\lib\\site-packages\\sklearn\\linear_model\\_logistic.py:1181: UserWarning: Setting penalty=None will ignore the C and l1_ratio parameters\n",
      "  warnings.warn(\n",
      "C:\\Users\\tpooz\\anaconda3\\lib\\site-packages\\sklearn\\linear_model\\_logistic.py:1181: UserWarning: Setting penalty=None will ignore the C and l1_ratio parameters\n",
      "  warnings.warn(\n",
      "C:\\Users\\tpooz\\anaconda3\\lib\\site-packages\\sklearn\\linear_model\\_logistic.py:1181: UserWarning: Setting penalty=None will ignore the C and l1_ratio parameters\n",
      "  warnings.warn(\n",
      "C:\\Users\\tpooz\\anaconda3\\lib\\site-packages\\sklearn\\linear_model\\_logistic.py:1181: UserWarning: Setting penalty=None will ignore the C and l1_ratio parameters\n",
      "  warnings.warn(\n",
      "C:\\Users\\tpooz\\anaconda3\\lib\\site-packages\\sklearn\\linear_model\\_logistic.py:1181: UserWarning: Setting penalty=None will ignore the C and l1_ratio parameters\n",
      "  warnings.warn(\n",
      "C:\\Users\\tpooz\\anaconda3\\lib\\site-packages\\sklearn\\linear_model\\_glm\\_newton_solver.py:491: LinAlgWarning: The inner solver of NewtonCholeskySolver stumbled upon a singular or very ill-conditioned Hessian matrix at iteration #1. It will now resort to lbfgs instead.\n",
      "Further options are to use another solver or to avoid such situation in the first place. Possible remedies are removing collinear features of X or increasing the penalization strengths.\n",
      "The original Linear Algebra message was:\n",
      "Ill-conditioned matrix (rcond=7.276e-17): result may not be accurate.\n",
      "  warnings.warn(\n",
      "C:\\Users\\tpooz\\anaconda3\\lib\\site-packages\\sklearn\\linear_model\\_logistic.py:1181: UserWarning: Setting penalty=None will ignore the C and l1_ratio parameters\n",
      "  warnings.warn(\n",
      "C:\\Users\\tpooz\\anaconda3\\lib\\site-packages\\sklearn\\linear_model\\_glm\\_newton_solver.py:491: LinAlgWarning: The inner solver of NewtonCholeskySolver stumbled upon a singular or very ill-conditioned Hessian matrix at iteration #1. It will now resort to lbfgs instead.\n",
      "Further options are to use another solver or to avoid such situation in the first place. Possible remedies are removing collinear features of X or increasing the penalization strengths.\n",
      "The original Linear Algebra message was:\n",
      "Ill-conditioned matrix (rcond=2.86916e-17): result may not be accurate.\n",
      "  warnings.warn(\n",
      "C:\\Users\\tpooz\\anaconda3\\lib\\site-packages\\sklearn\\linear_model\\_logistic.py:1181: UserWarning: Setting penalty=None will ignore the C and l1_ratio parameters\n",
      "  warnings.warn(\n",
      "C:\\Users\\tpooz\\anaconda3\\lib\\site-packages\\sklearn\\linear_model\\_glm\\_newton_solver.py:491: LinAlgWarning: The inner solver of NewtonCholeskySolver stumbled upon a singular or very ill-conditioned Hessian matrix at iteration #1. It will now resort to lbfgs instead.\n",
      "Further options are to use another solver or to avoid such situation in the first place. Possible remedies are removing collinear features of X or increasing the penalization strengths.\n",
      "The original Linear Algebra message was:\n",
      "Ill-conditioned matrix (rcond=4.42081e-17): result may not be accurate.\n",
      "  warnings.warn(\n",
      "C:\\Users\\tpooz\\anaconda3\\lib\\site-packages\\sklearn\\linear_model\\_logistic.py:1181: UserWarning: Setting penalty=None will ignore the C and l1_ratio parameters\n",
      "  warnings.warn(\n",
      "C:\\Users\\tpooz\\anaconda3\\lib\\site-packages\\sklearn\\linear_model\\_glm\\_newton_solver.py:491: LinAlgWarning: The inner solver of NewtonCholeskySolver stumbled upon a singular or very ill-conditioned Hessian matrix at iteration #1. It will now resort to lbfgs instead.\n",
      "Further options are to use another solver or to avoid such situation in the first place. Possible remedies are removing collinear features of X or increasing the penalization strengths.\n",
      "The original Linear Algebra message was:\n",
      "Ill-conditioned matrix (rcond=4.69944e-17): result may not be accurate.\n",
      "  warnings.warn(\n",
      "C:\\Users\\tpooz\\anaconda3\\lib\\site-packages\\sklearn\\linear_model\\_logistic.py:1181: UserWarning: Setting penalty=None will ignore the C and l1_ratio parameters\n",
      "  warnings.warn(\n",
      "C:\\Users\\tpooz\\anaconda3\\lib\\site-packages\\sklearn\\linear_model\\_glm\\_newton_solver.py:491: LinAlgWarning: The inner solver of NewtonCholeskySolver stumbled upon a singular or very ill-conditioned Hessian matrix at iteration #1. It will now resort to lbfgs instead.\n",
      "Further options are to use another solver or to avoid such situation in the first place. Possible remedies are removing collinear features of X or increasing the penalization strengths.\n",
      "The original Linear Algebra message was:\n",
      "Ill-conditioned matrix (rcond=6.01156e-17): result may not be accurate.\n",
      "  warnings.warn(\n",
      "C:\\Users\\tpooz\\anaconda3\\lib\\site-packages\\sklearn\\linear_model\\_logistic.py:1181: UserWarning: Setting penalty=None will ignore the C and l1_ratio parameters\n",
      "  warnings.warn(\n",
      "C:\\Users\\tpooz\\anaconda3\\lib\\site-packages\\sklearn\\linear_model\\_logistic.py:1181: UserWarning: Setting penalty=None will ignore the C and l1_ratio parameters\n",
      "  warnings.warn(\n",
      "C:\\Users\\tpooz\\anaconda3\\lib\\site-packages\\sklearn\\linear_model\\_logistic.py:1181: UserWarning: Setting penalty=None will ignore the C and l1_ratio parameters\n",
      "  warnings.warn(\n",
      "C:\\Users\\tpooz\\anaconda3\\lib\\site-packages\\sklearn\\linear_model\\_logistic.py:1181: UserWarning: Setting penalty=None will ignore the C and l1_ratio parameters\n",
      "  warnings.warn(\n",
      "C:\\Users\\tpooz\\anaconda3\\lib\\site-packages\\sklearn\\linear_model\\_logistic.py:1181: UserWarning: Setting penalty=None will ignore the C and l1_ratio parameters\n",
      "  warnings.warn(\n",
      "C:\\Users\\tpooz\\anaconda3\\lib\\site-packages\\sklearn\\linear_model\\_logistic.py:1181: UserWarning: Setting penalty=None will ignore the C and l1_ratio parameters\n",
      "  warnings.warn(\n",
      "C:\\Users\\tpooz\\anaconda3\\lib\\site-packages\\sklearn\\linear_model\\_logistic.py:1181: UserWarning: Setting penalty=None will ignore the C and l1_ratio parameters\n",
      "  warnings.warn(\n",
      "C:\\Users\\tpooz\\anaconda3\\lib\\site-packages\\sklearn\\linear_model\\_logistic.py:1181: UserWarning: Setting penalty=None will ignore the C and l1_ratio parameters\n",
      "  warnings.warn(\n",
      "C:\\Users\\tpooz\\anaconda3\\lib\\site-packages\\sklearn\\linear_model\\_logistic.py:1181: UserWarning: Setting penalty=None will ignore the C and l1_ratio parameters\n",
      "  warnings.warn(\n",
      "C:\\Users\\tpooz\\anaconda3\\lib\\site-packages\\sklearn\\linear_model\\_logistic.py:1181: UserWarning: Setting penalty=None will ignore the C and l1_ratio parameters\n",
      "  warnings.warn(\n",
      "C:\\Users\\tpooz\\anaconda3\\lib\\site-packages\\sklearn\\linear_model\\_logistic.py:1181: UserWarning: Setting penalty=None will ignore the C and l1_ratio parameters\n",
      "  warnings.warn(\n",
      "C:\\Users\\tpooz\\anaconda3\\lib\\site-packages\\sklearn\\linear_model\\_logistic.py:1181: UserWarning: Setting penalty=None will ignore the C and l1_ratio parameters\n",
      "  warnings.warn(\n",
      "C:\\Users\\tpooz\\anaconda3\\lib\\site-packages\\sklearn\\linear_model\\_logistic.py:1181: UserWarning: Setting penalty=None will ignore the C and l1_ratio parameters\n",
      "  warnings.warn(\n",
      "C:\\Users\\tpooz\\anaconda3\\lib\\site-packages\\sklearn\\linear_model\\_logistic.py:1181: UserWarning: Setting penalty=None will ignore the C and l1_ratio parameters\n",
      "  warnings.warn(\n",
      "C:\\Users\\tpooz\\anaconda3\\lib\\site-packages\\sklearn\\linear_model\\_logistic.py:1181: UserWarning: Setting penalty=None will ignore the C and l1_ratio parameters\n",
      "  warnings.warn(\n",
      "C:\\Users\\tpooz\\anaconda3\\lib\\site-packages\\sklearn\\linear_model\\_logistic.py:1181: UserWarning: Setting penalty=None will ignore the C and l1_ratio parameters\n",
      "  warnings.warn(\n",
      "C:\\Users\\tpooz\\anaconda3\\lib\\site-packages\\sklearn\\linear_model\\_glm\\_newton_solver.py:491: LinAlgWarning: The inner solver of NewtonCholeskySolver stumbled upon a singular or very ill-conditioned Hessian matrix at iteration #1. It will now resort to lbfgs instead.\n",
      "Further options are to use another solver or to avoid such situation in the first place. Possible remedies are removing collinear features of X or increasing the penalization strengths.\n",
      "The original Linear Algebra message was:\n",
      "Ill-conditioned matrix (rcond=7.276e-17): result may not be accurate.\n",
      "  warnings.warn(\n",
      "C:\\Users\\tpooz\\anaconda3\\lib\\site-packages\\sklearn\\linear_model\\_logistic.py:1181: UserWarning: Setting penalty=None will ignore the C and l1_ratio parameters\n",
      "  warnings.warn(\n",
      "C:\\Users\\tpooz\\anaconda3\\lib\\site-packages\\sklearn\\linear_model\\_glm\\_newton_solver.py:491: LinAlgWarning: The inner solver of NewtonCholeskySolver stumbled upon a singular or very ill-conditioned Hessian matrix at iteration #1. It will now resort to lbfgs instead.\n",
      "Further options are to use another solver or to avoid such situation in the first place. Possible remedies are removing collinear features of X or increasing the penalization strengths.\n",
      "The original Linear Algebra message was:\n",
      "Ill-conditioned matrix (rcond=2.86916e-17): result may not be accurate.\n",
      "  warnings.warn(\n",
      "C:\\Users\\tpooz\\anaconda3\\lib\\site-packages\\sklearn\\linear_model\\_logistic.py:1181: UserWarning: Setting penalty=None will ignore the C and l1_ratio parameters\n",
      "  warnings.warn(\n",
      "C:\\Users\\tpooz\\anaconda3\\lib\\site-packages\\sklearn\\linear_model\\_glm\\_newton_solver.py:491: LinAlgWarning: The inner solver of NewtonCholeskySolver stumbled upon a singular or very ill-conditioned Hessian matrix at iteration #1. It will now resort to lbfgs instead.\n",
      "Further options are to use another solver or to avoid such situation in the first place. Possible remedies are removing collinear features of X or increasing the penalization strengths.\n",
      "The original Linear Algebra message was:\n",
      "Ill-conditioned matrix (rcond=4.42081e-17): result may not be accurate.\n",
      "  warnings.warn(\n",
      "C:\\Users\\tpooz\\anaconda3\\lib\\site-packages\\sklearn\\linear_model\\_logistic.py:1181: UserWarning: Setting penalty=None will ignore the C and l1_ratio parameters\n",
      "  warnings.warn(\n",
      "C:\\Users\\tpooz\\anaconda3\\lib\\site-packages\\sklearn\\linear_model\\_glm\\_newton_solver.py:491: LinAlgWarning: The inner solver of NewtonCholeskySolver stumbled upon a singular or very ill-conditioned Hessian matrix at iteration #1. It will now resort to lbfgs instead.\n",
      "Further options are to use another solver or to avoid such situation in the first place. Possible remedies are removing collinear features of X or increasing the penalization strengths.\n",
      "The original Linear Algebra message was:\n",
      "Ill-conditioned matrix (rcond=4.69944e-17): result may not be accurate.\n",
      "  warnings.warn(\n",
      "C:\\Users\\tpooz\\anaconda3\\lib\\site-packages\\sklearn\\linear_model\\_logistic.py:1181: UserWarning: Setting penalty=None will ignore the C and l1_ratio parameters\n",
      "  warnings.warn(\n",
      "C:\\Users\\tpooz\\anaconda3\\lib\\site-packages\\sklearn\\linear_model\\_glm\\_newton_solver.py:491: LinAlgWarning: The inner solver of NewtonCholeskySolver stumbled upon a singular or very ill-conditioned Hessian matrix at iteration #1. It will now resort to lbfgs instead.\n",
      "Further options are to use another solver or to avoid such situation in the first place. Possible remedies are removing collinear features of X or increasing the penalization strengths.\n",
      "The original Linear Algebra message was:\n",
      "Ill-conditioned matrix (rcond=6.01156e-17): result may not be accurate.\n",
      "  warnings.warn(\n",
      "C:\\Users\\tpooz\\anaconda3\\lib\\site-packages\\sklearn\\linear_model\\_logistic.py:1181: UserWarning: Setting penalty=None will ignore the C and l1_ratio parameters\n",
      "  warnings.warn(\n",
      "C:\\Users\\tpooz\\anaconda3\\lib\\site-packages\\sklearn\\linear_model\\_logistic.py:1181: UserWarning: Setting penalty=None will ignore the C and l1_ratio parameters\n",
      "  warnings.warn(\n"
     ]
    },
    {
     "name": "stderr",
     "output_type": "stream",
     "text": [
      "C:\\Users\\tpooz\\anaconda3\\lib\\site-packages\\sklearn\\linear_model\\_logistic.py:1181: UserWarning: Setting penalty=None will ignore the C and l1_ratio parameters\n",
      "  warnings.warn(\n",
      "C:\\Users\\tpooz\\anaconda3\\lib\\site-packages\\sklearn\\linear_model\\_logistic.py:1181: UserWarning: Setting penalty=None will ignore the C and l1_ratio parameters\n",
      "  warnings.warn(\n",
      "C:\\Users\\tpooz\\anaconda3\\lib\\site-packages\\sklearn\\linear_model\\_logistic.py:1181: UserWarning: Setting penalty=None will ignore the C and l1_ratio parameters\n",
      "  warnings.warn(\n",
      "C:\\Users\\tpooz\\anaconda3\\lib\\site-packages\\sklearn\\linear_model\\_logistic.py:1181: UserWarning: Setting penalty=None will ignore the C and l1_ratio parameters\n",
      "  warnings.warn(\n",
      "C:\\Users\\tpooz\\anaconda3\\lib\\site-packages\\sklearn\\linear_model\\_logistic.py:1181: UserWarning: Setting penalty=None will ignore the C and l1_ratio parameters\n",
      "  warnings.warn(\n",
      "C:\\Users\\tpooz\\anaconda3\\lib\\site-packages\\sklearn\\linear_model\\_logistic.py:1181: UserWarning: Setting penalty=None will ignore the C and l1_ratio parameters\n",
      "  warnings.warn(\n",
      "C:\\Users\\tpooz\\anaconda3\\lib\\site-packages\\sklearn\\linear_model\\_logistic.py:1181: UserWarning: Setting penalty=None will ignore the C and l1_ratio parameters\n",
      "  warnings.warn(\n",
      "C:\\Users\\tpooz\\anaconda3\\lib\\site-packages\\sklearn\\linear_model\\_logistic.py:1181: UserWarning: Setting penalty=None will ignore the C and l1_ratio parameters\n",
      "  warnings.warn(\n",
      "C:\\Users\\tpooz\\anaconda3\\lib\\site-packages\\sklearn\\linear_model\\_glm\\_newton_solver.py:491: LinAlgWarning: The inner solver of NewtonCholeskySolver stumbled upon a singular or very ill-conditioned Hessian matrix at iteration #1. It will now resort to lbfgs instead.\n",
      "Further options are to use another solver or to avoid such situation in the first place. Possible remedies are removing collinear features of X or increasing the penalization strengths.\n",
      "The original Linear Algebra message was:\n",
      "Ill-conditioned matrix (rcond=7.276e-17): result may not be accurate.\n",
      "  warnings.warn(\n",
      "C:\\Users\\tpooz\\anaconda3\\lib\\site-packages\\sklearn\\linear_model\\_glm\\_newton_solver.py:491: LinAlgWarning: The inner solver of NewtonCholeskySolver stumbled upon a singular or very ill-conditioned Hessian matrix at iteration #1. It will now resort to lbfgs instead.\n",
      "Further options are to use another solver or to avoid such situation in the first place. Possible remedies are removing collinear features of X or increasing the penalization strengths.\n",
      "The original Linear Algebra message was:\n",
      "Ill-conditioned matrix (rcond=2.86916e-17): result may not be accurate.\n",
      "  warnings.warn(\n",
      "C:\\Users\\tpooz\\anaconda3\\lib\\site-packages\\sklearn\\linear_model\\_glm\\_newton_solver.py:491: LinAlgWarning: The inner solver of NewtonCholeskySolver stumbled upon a singular or very ill-conditioned Hessian matrix at iteration #1. It will now resort to lbfgs instead.\n",
      "Further options are to use another solver or to avoid such situation in the first place. Possible remedies are removing collinear features of X or increasing the penalization strengths.\n",
      "The original Linear Algebra message was:\n",
      "Ill-conditioned matrix (rcond=4.42081e-17): result may not be accurate.\n",
      "  warnings.warn(\n",
      "C:\\Users\\tpooz\\anaconda3\\lib\\site-packages\\sklearn\\linear_model\\_glm\\_newton_solver.py:491: LinAlgWarning: The inner solver of NewtonCholeskySolver stumbled upon a singular or very ill-conditioned Hessian matrix at iteration #1. It will now resort to lbfgs instead.\n",
      "Further options are to use another solver or to avoid such situation in the first place. Possible remedies are removing collinear features of X or increasing the penalization strengths.\n",
      "The original Linear Algebra message was:\n",
      "Ill-conditioned matrix (rcond=4.69944e-17): result may not be accurate.\n",
      "  warnings.warn(\n",
      "C:\\Users\\tpooz\\anaconda3\\lib\\site-packages\\sklearn\\linear_model\\_glm\\_newton_solver.py:491: LinAlgWarning: The inner solver of NewtonCholeskySolver stumbled upon a singular or very ill-conditioned Hessian matrix at iteration #1. It will now resort to lbfgs instead.\n",
      "Further options are to use another solver or to avoid such situation in the first place. Possible remedies are removing collinear features of X or increasing the penalization strengths.\n",
      "The original Linear Algebra message was:\n",
      "Ill-conditioned matrix (rcond=6.01156e-17): result may not be accurate.\n",
      "  warnings.warn(\n",
      "C:\\Users\\tpooz\\anaconda3\\lib\\site-packages\\sklearn\\linear_model\\_logistic.py:1181: UserWarning: Setting penalty=None will ignore the C and l1_ratio parameters\n",
      "  warnings.warn(\n",
      "C:\\Users\\tpooz\\anaconda3\\lib\\site-packages\\sklearn\\linear_model\\_logistic.py:1181: UserWarning: Setting penalty=None will ignore the C and l1_ratio parameters\n",
      "  warnings.warn(\n",
      "C:\\Users\\tpooz\\anaconda3\\lib\\site-packages\\sklearn\\linear_model\\_logistic.py:1181: UserWarning: Setting penalty=None will ignore the C and l1_ratio parameters\n",
      "  warnings.warn(\n",
      "C:\\Users\\tpooz\\anaconda3\\lib\\site-packages\\sklearn\\linear_model\\_logistic.py:1181: UserWarning: Setting penalty=None will ignore the C and l1_ratio parameters\n",
      "  warnings.warn(\n",
      "C:\\Users\\tpooz\\anaconda3\\lib\\site-packages\\sklearn\\linear_model\\_logistic.py:1181: UserWarning: Setting penalty=None will ignore the C and l1_ratio parameters\n",
      "  warnings.warn(\n",
      "C:\\Users\\tpooz\\anaconda3\\lib\\site-packages\\sklearn\\linear_model\\_logistic.py:1181: UserWarning: Setting penalty=None will ignore the C and l1_ratio parameters\n",
      "  warnings.warn(\n",
      "C:\\Users\\tpooz\\anaconda3\\lib\\site-packages\\sklearn\\linear_model\\_glm\\_newton_solver.py:491: LinAlgWarning: The inner solver of NewtonCholeskySolver stumbled upon a singular or very ill-conditioned Hessian matrix at iteration #1. It will now resort to lbfgs instead.\n",
      "Further options are to use another solver or to avoid such situation in the first place. Possible remedies are removing collinear features of X or increasing the penalization strengths.\n",
      "The original Linear Algebra message was:\n",
      "Ill-conditioned matrix (rcond=7.276e-17): result may not be accurate.\n",
      "  warnings.warn(\n",
      "C:\\Users\\tpooz\\anaconda3\\lib\\site-packages\\sklearn\\linear_model\\_logistic.py:1181: UserWarning: Setting penalty=None will ignore the C and l1_ratio parameters\n",
      "  warnings.warn(\n",
      "C:\\Users\\tpooz\\anaconda3\\lib\\site-packages\\sklearn\\linear_model\\_glm\\_newton_solver.py:491: LinAlgWarning: The inner solver of NewtonCholeskySolver stumbled upon a singular or very ill-conditioned Hessian matrix at iteration #1. It will now resort to lbfgs instead.\n",
      "Further options are to use another solver or to avoid such situation in the first place. Possible remedies are removing collinear features of X or increasing the penalization strengths.\n",
      "The original Linear Algebra message was:\n",
      "Ill-conditioned matrix (rcond=2.86916e-17): result may not be accurate.\n",
      "  warnings.warn(\n",
      "C:\\Users\\tpooz\\anaconda3\\lib\\site-packages\\sklearn\\linear_model\\_logistic.py:1181: UserWarning: Setting penalty=None will ignore the C and l1_ratio parameters\n",
      "  warnings.warn(\n",
      "C:\\Users\\tpooz\\anaconda3\\lib\\site-packages\\sklearn\\linear_model\\_glm\\_newton_solver.py:491: LinAlgWarning: The inner solver of NewtonCholeskySolver stumbled upon a singular or very ill-conditioned Hessian matrix at iteration #1. It will now resort to lbfgs instead.\n",
      "Further options are to use another solver or to avoid such situation in the first place. Possible remedies are removing collinear features of X or increasing the penalization strengths.\n",
      "The original Linear Algebra message was:\n",
      "Ill-conditioned matrix (rcond=4.42081e-17): result may not be accurate.\n",
      "  warnings.warn(\n",
      "C:\\Users\\tpooz\\anaconda3\\lib\\site-packages\\sklearn\\linear_model\\_logistic.py:1181: UserWarning: Setting penalty=None will ignore the C and l1_ratio parameters\n",
      "  warnings.warn(\n",
      "C:\\Users\\tpooz\\anaconda3\\lib\\site-packages\\sklearn\\linear_model\\_glm\\_newton_solver.py:491: LinAlgWarning: The inner solver of NewtonCholeskySolver stumbled upon a singular or very ill-conditioned Hessian matrix at iteration #1. It will now resort to lbfgs instead.\n",
      "Further options are to use another solver or to avoid such situation in the first place. Possible remedies are removing collinear features of X or increasing the penalization strengths.\n",
      "The original Linear Algebra message was:\n",
      "Ill-conditioned matrix (rcond=4.69944e-17): result may not be accurate.\n",
      "  warnings.warn(\n",
      "C:\\Users\\tpooz\\anaconda3\\lib\\site-packages\\sklearn\\linear_model\\_logistic.py:1181: UserWarning: Setting penalty=None will ignore the C and l1_ratio parameters\n",
      "  warnings.warn(\n",
      "C:\\Users\\tpooz\\anaconda3\\lib\\site-packages\\sklearn\\linear_model\\_glm\\_newton_solver.py:491: LinAlgWarning: The inner solver of NewtonCholeskySolver stumbled upon a singular or very ill-conditioned Hessian matrix at iteration #1. It will now resort to lbfgs instead.\n",
      "Further options are to use another solver or to avoid such situation in the first place. Possible remedies are removing collinear features of X or increasing the penalization strengths.\n",
      "The original Linear Algebra message was:\n",
      "Ill-conditioned matrix (rcond=6.01156e-17): result may not be accurate.\n",
      "  warnings.warn(\n",
      "C:\\Users\\tpooz\\anaconda3\\lib\\site-packages\\sklearn\\linear_model\\_logistic.py:1181: UserWarning: Setting penalty=None will ignore the C and l1_ratio parameters\n",
      "  warnings.warn(\n"
     ]
    },
    {
     "name": "stderr",
     "output_type": "stream",
     "text": [
      "C:\\Users\\tpooz\\anaconda3\\lib\\site-packages\\sklearn\\linear_model\\_logistic.py:1181: UserWarning: Setting penalty=None will ignore the C and l1_ratio parameters\n",
      "  warnings.warn(\n",
      "C:\\Users\\tpooz\\anaconda3\\lib\\site-packages\\sklearn\\linear_model\\_logistic.py:1181: UserWarning: Setting penalty=None will ignore the C and l1_ratio parameters\n",
      "  warnings.warn(\n",
      "C:\\Users\\tpooz\\anaconda3\\lib\\site-packages\\sklearn\\linear_model\\_logistic.py:1181: UserWarning: Setting penalty=None will ignore the C and l1_ratio parameters\n",
      "  warnings.warn(\n",
      "C:\\Users\\tpooz\\anaconda3\\lib\\site-packages\\sklearn\\linear_model\\_logistic.py:1181: UserWarning: Setting penalty=None will ignore the C and l1_ratio parameters\n",
      "  warnings.warn(\n",
      "C:\\Users\\tpooz\\anaconda3\\lib\\site-packages\\sklearn\\linear_model\\_logistic.py:1181: UserWarning: Setting penalty=None will ignore the C and l1_ratio parameters\n",
      "  warnings.warn(\n",
      "C:\\Users\\tpooz\\anaconda3\\lib\\site-packages\\sklearn\\linear_model\\_logistic.py:1181: UserWarning: Setting penalty=None will ignore the C and l1_ratio parameters\n",
      "  warnings.warn(\n",
      "C:\\Users\\tpooz\\anaconda3\\lib\\site-packages\\sklearn\\linear_model\\_logistic.py:1181: UserWarning: Setting penalty=None will ignore the C and l1_ratio parameters\n",
      "  warnings.warn(\n",
      "C:\\Users\\tpooz\\anaconda3\\lib\\site-packages\\sklearn\\linear_model\\_logistic.py:1181: UserWarning: Setting penalty=None will ignore the C and l1_ratio parameters\n",
      "  warnings.warn(\n",
      "C:\\Users\\tpooz\\anaconda3\\lib\\site-packages\\sklearn\\linear_model\\_logistic.py:1181: UserWarning: Setting penalty=None will ignore the C and l1_ratio parameters\n",
      "  warnings.warn(\n",
      "C:\\Users\\tpooz\\anaconda3\\lib\\site-packages\\sklearn\\model_selection\\_validation.py:378: FitFailedWarning: \n",
      "450 fits failed out of a total of 720.\n",
      "The score on these train-test partitions for these parameters will be set to nan.\n",
      "If these failures are not expected, you can try to debug them by setting error_score='raise'.\n",
      "\n",
      "Below are more details about the failures:\n",
      "--------------------------------------------------------------------------------\n",
      "30 fits failed with the following error:\n",
      "Traceback (most recent call last):\n",
      "  File \"C:\\Users\\tpooz\\anaconda3\\lib\\site-packages\\sklearn\\model_selection\\_validation.py\", line 686, in _fit_and_score\n",
      "    estimator.fit(X_train, y_train, **fit_params)\n",
      "  File \"C:\\Users\\tpooz\\anaconda3\\lib\\site-packages\\sklearn\\linear_model\\_logistic.py\", line 1162, in fit\n",
      "    solver = _check_solver(self.solver, self.penalty, self.dual)\n",
      "  File \"C:\\Users\\tpooz\\anaconda3\\lib\\site-packages\\sklearn\\linear_model\\_logistic.py\", line 54, in _check_solver\n",
      "    raise ValueError(\n",
      "ValueError: Solver lbfgs supports only 'l2' or 'none' penalties, got l1 penalty.\n",
      "\n",
      "--------------------------------------------------------------------------------\n",
      "120 fits failed with the following error:\n",
      "Traceback (most recent call last):\n",
      "  File \"C:\\Users\\tpooz\\anaconda3\\lib\\site-packages\\sklearn\\model_selection\\_validation.py\", line 686, in _fit_and_score\n",
      "    estimator.fit(X_train, y_train, **fit_params)\n",
      "  File \"C:\\Users\\tpooz\\anaconda3\\lib\\site-packages\\sklearn\\linear_model\\_logistic.py\", line 1160, in fit\n",
      "    self._validate_params()\n",
      "  File \"C:\\Users\\tpooz\\anaconda3\\lib\\site-packages\\sklearn\\base.py\", line 581, in _validate_params\n",
      "    validate_parameter_constraints(\n",
      "  File \"C:\\Users\\tpooz\\anaconda3\\lib\\site-packages\\sklearn\\utils\\_param_validation.py\", line 97, in validate_parameter_constraints\n",
      "    raise InvalidParameterError(\n",
      "sklearn.utils._param_validation.InvalidParameterError: The 'solver' parameter of LogisticRegression must be a str among {'newton-cholesky', 'saga', 'sag', 'newton-cg', 'liblinear', 'lbfgs'}. Got 'liblineaer' instead.\n",
      "\n",
      "--------------------------------------------------------------------------------\n",
      "120 fits failed with the following error:\n",
      "Traceback (most recent call last):\n",
      "  File \"C:\\Users\\tpooz\\anaconda3\\lib\\site-packages\\sklearn\\model_selection\\_validation.py\", line 686, in _fit_and_score\n",
      "    estimator.fit(X_train, y_train, **fit_params)\n",
      "  File \"C:\\Users\\tpooz\\anaconda3\\lib\\site-packages\\sklearn\\linear_model\\_logistic.py\", line 1160, in fit\n",
      "    self._validate_params()\n",
      "  File \"C:\\Users\\tpooz\\anaconda3\\lib\\site-packages\\sklearn\\base.py\", line 581, in _validate_params\n",
      "    validate_parameter_constraints(\n",
      "  File \"C:\\Users\\tpooz\\anaconda3\\lib\\site-packages\\sklearn\\utils\\_param_validation.py\", line 97, in validate_parameter_constraints\n",
      "    raise InvalidParameterError(\n",
      "sklearn.utils._param_validation.InvalidParameterError: The 'solver' parameter of LogisticRegression must be a str among {'newton-cholesky', 'saga', 'sag', 'newton-cg', 'liblinear', 'lbfgs'}. Got 'netwon-cg' instead.\n",
      "\n",
      "--------------------------------------------------------------------------------\n",
      "30 fits failed with the following error:\n",
      "Traceback (most recent call last):\n",
      "  File \"C:\\Users\\tpooz\\anaconda3\\lib\\site-packages\\sklearn\\model_selection\\_validation.py\", line 686, in _fit_and_score\n",
      "    estimator.fit(X_train, y_train, **fit_params)\n",
      "  File \"C:\\Users\\tpooz\\anaconda3\\lib\\site-packages\\sklearn\\linear_model\\_logistic.py\", line 1162, in fit\n",
      "    solver = _check_solver(self.solver, self.penalty, self.dual)\n",
      "  File \"C:\\Users\\tpooz\\anaconda3\\lib\\site-packages\\sklearn\\linear_model\\_logistic.py\", line 54, in _check_solver\n",
      "    raise ValueError(\n",
      "ValueError: Solver newton-cholesky supports only 'l2' or 'none' penalties, got l1 penalty.\n",
      "\n",
      "--------------------------------------------------------------------------------\n",
      "30 fits failed with the following error:\n",
      "Traceback (most recent call last):\n",
      "  File \"C:\\Users\\tpooz\\anaconda3\\lib\\site-packages\\sklearn\\model_selection\\_validation.py\", line 686, in _fit_and_score\n",
      "    estimator.fit(X_train, y_train, **fit_params)\n",
      "  File \"C:\\Users\\tpooz\\anaconda3\\lib\\site-packages\\sklearn\\linear_model\\_logistic.py\", line 1162, in fit\n",
      "    solver = _check_solver(self.solver, self.penalty, self.dual)\n",
      "  File \"C:\\Users\\tpooz\\anaconda3\\lib\\site-packages\\sklearn\\linear_model\\_logistic.py\", line 54, in _check_solver\n",
      "    raise ValueError(\n",
      "ValueError: Solver sag supports only 'l2' or 'none' penalties, got l1 penalty.\n",
      "\n",
      "--------------------------------------------------------------------------------\n",
      "30 fits failed with the following error:\n",
      "Traceback (most recent call last):\n",
      "  File \"C:\\Users\\tpooz\\anaconda3\\lib\\site-packages\\sklearn\\model_selection\\_validation.py\", line 686, in _fit_and_score\n",
      "    estimator.fit(X_train, y_train, **fit_params)\n",
      "  File \"C:\\Users\\tpooz\\anaconda3\\lib\\site-packages\\sklearn\\linear_model\\_logistic.py\", line 1162, in fit\n",
      "    solver = _check_solver(self.solver, self.penalty, self.dual)\n",
      "  File \"C:\\Users\\tpooz\\anaconda3\\lib\\site-packages\\sklearn\\linear_model\\_logistic.py\", line 54, in _check_solver\n",
      "    raise ValueError(\n",
      "ValueError: Solver lbfgs supports only 'l2' or 'none' penalties, got elasticnet penalty.\n",
      "\n",
      "--------------------------------------------------------------------------------\n",
      "30 fits failed with the following error:\n",
      "Traceback (most recent call last):\n",
      "  File \"C:\\Users\\tpooz\\anaconda3\\lib\\site-packages\\sklearn\\model_selection\\_validation.py\", line 686, in _fit_and_score\n",
      "    estimator.fit(X_train, y_train, **fit_params)\n",
      "  File \"C:\\Users\\tpooz\\anaconda3\\lib\\site-packages\\sklearn\\linear_model\\_logistic.py\", line 1162, in fit\n",
      "    solver = _check_solver(self.solver, self.penalty, self.dual)\n",
      "  File \"C:\\Users\\tpooz\\anaconda3\\lib\\site-packages\\sklearn\\linear_model\\_logistic.py\", line 54, in _check_solver\n",
      "    raise ValueError(\n",
      "ValueError: Solver newton-cholesky supports only 'l2' or 'none' penalties, got elasticnet penalty.\n",
      "\n",
      "--------------------------------------------------------------------------------\n",
      "30 fits failed with the following error:\n",
      "Traceback (most recent call last):\n",
      "  File \"C:\\Users\\tpooz\\anaconda3\\lib\\site-packages\\sklearn\\model_selection\\_validation.py\", line 686, in _fit_and_score\n",
      "    estimator.fit(X_train, y_train, **fit_params)\n",
      "  File \"C:\\Users\\tpooz\\anaconda3\\lib\\site-packages\\sklearn\\linear_model\\_logistic.py\", line 1162, in fit\n",
      "    solver = _check_solver(self.solver, self.penalty, self.dual)\n",
      "  File \"C:\\Users\\tpooz\\anaconda3\\lib\\site-packages\\sklearn\\linear_model\\_logistic.py\", line 54, in _check_solver\n",
      "    raise ValueError(\n",
      "ValueError: Solver sag supports only 'l2' or 'none' penalties, got elasticnet penalty.\n",
      "\n",
      "--------------------------------------------------------------------------------\n",
      "30 fits failed with the following error:\n",
      "Traceback (most recent call last):\n",
      "  File \"C:\\Users\\tpooz\\anaconda3\\lib\\site-packages\\sklearn\\model_selection\\_validation.py\", line 686, in _fit_and_score\n",
      "    estimator.fit(X_train, y_train, **fit_params)\n",
      "  File \"C:\\Users\\tpooz\\anaconda3\\lib\\site-packages\\sklearn\\linear_model\\_logistic.py\", line 1291, in fit\n",
      "    fold_coefs_ = Parallel(n_jobs=self.n_jobs, verbose=self.verbose, prefer=prefer)(\n",
      "  File \"C:\\Users\\tpooz\\anaconda3\\lib\\site-packages\\sklearn\\utils\\parallel.py\", line 63, in __call__\n",
      "    return super().__call__(iterable_with_config)\n",
      "  File \"C:\\Users\\tpooz\\anaconda3\\lib\\site-packages\\joblib\\parallel.py\", line 1048, in __call__\n",
      "    if self.dispatch_one_batch(iterator):\n",
      "  File \"C:\\Users\\tpooz\\anaconda3\\lib\\site-packages\\joblib\\parallel.py\", line 864, in dispatch_one_batch\n",
      "    self._dispatch(tasks)\n",
      "  File \"C:\\Users\\tpooz\\anaconda3\\lib\\site-packages\\joblib\\parallel.py\", line 782, in _dispatch\n",
      "    job = self._backend.apply_async(batch, callback=cb)\n",
      "  File \"C:\\Users\\tpooz\\anaconda3\\lib\\site-packages\\joblib\\_parallel_backends.py\", line 208, in apply_async\n",
      "    result = ImmediateResult(func)\n",
      "  File \"C:\\Users\\tpooz\\anaconda3\\lib\\site-packages\\joblib\\_parallel_backends.py\", line 572, in __init__\n",
      "    self.results = batch()\n",
      "  File \"C:\\Users\\tpooz\\anaconda3\\lib\\site-packages\\joblib\\parallel.py\", line 263, in __call__\n",
      "    return [func(*args, **kwargs)\n",
      "  File \"C:\\Users\\tpooz\\anaconda3\\lib\\site-packages\\joblib\\parallel.py\", line 263, in <listcomp>\n",
      "    return [func(*args, **kwargs)\n",
      "  File \"C:\\Users\\tpooz\\anaconda3\\lib\\site-packages\\sklearn\\utils\\parallel.py\", line 123, in __call__\n",
      "    return self.function(*args, **kwargs)\n",
      "  File \"C:\\Users\\tpooz\\anaconda3\\lib\\site-packages\\sklearn\\linear_model\\_logistic.py\", line 521, in _logistic_regression_path\n",
      "    alpha = (1.0 / C) * (1 - l1_ratio)\n",
      "TypeError: unsupported operand type(s) for -: 'int' and 'NoneType'\n",
      "\n",
      "  warnings.warn(some_fits_failed_message, FitFailedWarning)\n",
      "C:\\Users\\tpooz\\anaconda3\\lib\\site-packages\\sklearn\\model_selection\\_search.py:952: UserWarning: One or more of the test scores are non-finite: [       nan        nan        nan        nan        nan 0.83421517\n",
      " 0.84938272        nan        nan 0.84938272 0.84938272 0.84938272\n",
      "        nan        nan        nan        nan        nan        nan\n",
      " 0.9031746         nan        nan 0.90299824 0.9031746  0.9031746\n",
      "        nan        nan        nan        nan        nan 0.88694885\n",
      " 0.8962963         nan        nan 0.8962963  0.8962963  0.8962963\n",
      "        nan        nan        nan        nan        nan        nan\n",
      " 0.9031746         nan        nan 0.90299824 0.9031746  0.9031746\n",
      "        nan        nan        nan        nan        nan 0.90282187\n",
      " 0.90088183        nan        nan 0.90088183 0.90088183 0.90088183\n",
      "        nan        nan        nan        nan        nan        nan\n",
      " 0.9031746         nan        nan 0.90299824 0.9031746  0.9031746\n",
      "        nan        nan        nan        nan        nan 0.90299824\n",
      " 0.9031746         nan        nan 0.9031746  0.9031746  0.9031746\n",
      "        nan        nan        nan        nan        nan        nan\n",
      " 0.9031746         nan        nan 0.90299824 0.9031746  0.9031746\n",
      "        nan        nan        nan        nan        nan 0.9037037\n",
      " 0.90299824        nan        nan 0.90299824 0.90299824 0.90299824\n",
      "        nan        nan        nan        nan        nan        nan\n",
      " 0.9031746         nan        nan 0.90299824 0.9031746  0.9031746\n",
      "        nan        nan        nan        nan        nan 0.90352734\n",
      " 0.9031746         nan        nan 0.9031746  0.90335097 0.90352734\n",
      "        nan        nan        nan        nan        nan        nan\n",
      " 0.9031746         nan        nan 0.90299824 0.9031746  0.9031746 ]\n",
      "  warnings.warn(\n"
     ]
    }
   ],
   "source": [
    "log_reg_missing_params , logreg_missing_score, time_log_missing, = logregmodel(X_train_missing, y_train_missing)"
   ]
  },
  {
   "cell_type": "code",
   "execution_count": 21,
   "metadata": {},
   "outputs": [
    {
     "name": "stdout",
     "output_type": "stream",
     "text": [
      "Approximate Logistic Regression Model Build Time with GridSearch CV : 15.4 seconds\n",
      "Logistic Regression Model Best Parameters given Missing Dataset: {'C': 1, 'penalty': 'l1', 'solver': 'saga'}\n",
      "Logistic Regression Model Best Parameter Score given Missing Dataset: 0.9037037037037038\n"
     ]
    }
   ],
   "source": [
    "print(f\"Approximate Logistic Regression Model Build Time with GridSearch CV : {round(time_log_missing , 2)} seconds\")\n",
    "print(f\"Logistic Regression Model Best Parameters given Missing Dataset: {log_reg_missing_params}\")\n",
    "print(f\"Logistic Regression Model Best Parameter Score given Missing Dataset: {logreg_missing_score}\")"
   ]
  },
  {
   "cell_type": "markdown",
   "metadata": {},
   "source": [
    "Applying GridSearchCV for Hyperparameter tuning with Logistic Regression best params for 'saga' solver of a C value of 1 and having a regularization paramter applied of 'l1' to suppress values being too large."
   ]
  },
  {
   "cell_type": "code",
   "execution_count": 23,
   "metadata": {},
   "outputs": [
    {
     "name": "stdout",
     "output_type": "stream",
     "text": [
      "0.9062114356232003\n",
      "              precision    recall  f1-score   support\n",
      "\n",
      "       churn       0.73      0.58      0.65       360\n",
      " not_churned       0.93      0.96      0.95      2071\n",
      "\n",
      "    accuracy                           0.91      2431\n",
      "   macro avg       0.83      0.77      0.80      2431\n",
      "weighted avg       0.90      0.91      0.90      2431\n",
      "\n"
     ]
    }
   ],
   "source": [
    "log_reg_missing_best = LogisticRegression(random_state=random_state, solver='saga', C=1, penalty='l1')\n",
    "log_reg_missing_best.fit(X_train_missing, y_train_missing.values.ravel())\n",
    "y_pred_log_missing = log_reg_missing_best.predict(X_test_missing)\n",
    "\n",
    "print(accuracy_score(y_test_missing, y_pred_log_missing))\n",
    "print(classification_report(y_test_missing, y_pred_log_missing, target_names=['churn', 'not_churned']))"
   ]
  },
  {
   "cell_type": "code",
   "execution_count": 24,
   "metadata": {},
   "outputs": [
    {
     "name": "stderr",
     "output_type": "stream",
     "text": [
      "C:\\Users\\tpooz\\anaconda3\\lib\\site-packages\\sklearn\\linear_model\\_logistic.py:1181: UserWarning: Setting penalty=None will ignore the C and l1_ratio parameters\n",
      "  warnings.warn(\n",
      "C:\\Users\\tpooz\\anaconda3\\lib\\site-packages\\sklearn\\linear_model\\_logistic.py:1181: UserWarning: Setting penalty=None will ignore the C and l1_ratio parameters\n",
      "  warnings.warn(\n",
      "C:\\Users\\tpooz\\anaconda3\\lib\\site-packages\\sklearn\\linear_model\\_logistic.py:1181: UserWarning: Setting penalty=None will ignore the C and l1_ratio parameters\n",
      "  warnings.warn(\n",
      "C:\\Users\\tpooz\\anaconda3\\lib\\site-packages\\sklearn\\linear_model\\_logistic.py:1181: UserWarning: Setting penalty=None will ignore the C and l1_ratio parameters\n",
      "  warnings.warn(\n",
      "C:\\Users\\tpooz\\anaconda3\\lib\\site-packages\\sklearn\\linear_model\\_logistic.py:1181: UserWarning: Setting penalty=None will ignore the C and l1_ratio parameters\n",
      "  warnings.warn(\n",
      "C:\\Users\\tpooz\\anaconda3\\lib\\site-packages\\sklearn\\linear_model\\_logistic.py:1181: UserWarning: Setting penalty=None will ignore the C and l1_ratio parameters\n",
      "  warnings.warn(\n",
      "C:\\Users\\tpooz\\anaconda3\\lib\\site-packages\\sklearn\\linear_model\\_glm\\_newton_solver.py:491: LinAlgWarning: The inner solver of NewtonCholeskySolver stumbled upon a singular or very ill-conditioned Hessian matrix at iteration #1. It will now resort to lbfgs instead.\n",
      "Further options are to use another solver or to avoid such situation in the first place. Possible remedies are removing collinear features of X or increasing the penalization strengths.\n",
      "The original Linear Algebra message was:\n",
      "Ill-conditioned matrix (rcond=5.33372e-18): result may not be accurate.\n",
      "  warnings.warn(\n",
      "C:\\Users\\tpooz\\anaconda3\\lib\\site-packages\\sklearn\\linear_model\\_logistic.py:1181: UserWarning: Setting penalty=None will ignore the C and l1_ratio parameters\n",
      "  warnings.warn(\n",
      "C:\\Users\\tpooz\\anaconda3\\lib\\site-packages\\sklearn\\linear_model\\_glm\\_newton_solver.py:491: LinAlgWarning: The inner solver of NewtonCholeskySolver stumbled upon a singular or very ill-conditioned Hessian matrix at iteration #1. It will now resort to lbfgs instead.\n",
      "Further options are to use another solver or to avoid such situation in the first place. Possible remedies are removing collinear features of X or increasing the penalization strengths.\n",
      "The original Linear Algebra message was:\n",
      "Ill-conditioned matrix (rcond=9.34386e-18): result may not be accurate.\n",
      "  warnings.warn(\n",
      "C:\\Users\\tpooz\\anaconda3\\lib\\site-packages\\sklearn\\linear_model\\_logistic.py:1181: UserWarning: Setting penalty=None will ignore the C and l1_ratio parameters\n",
      "  warnings.warn(\n",
      "C:\\Users\\tpooz\\anaconda3\\lib\\site-packages\\sklearn\\linear_model\\_glm\\_newton_solver.py:491: LinAlgWarning: The inner solver of NewtonCholeskySolver stumbled upon a singular or very ill-conditioned Hessian matrix at iteration #1. It will now resort to lbfgs instead.\n",
      "Further options are to use another solver or to avoid such situation in the first place. Possible remedies are removing collinear features of X or increasing the penalization strengths.\n",
      "The original Linear Algebra message was:\n",
      "Ill-conditioned matrix (rcond=1.48498e-17): result may not be accurate.\n",
      "  warnings.warn(\n",
      "C:\\Users\\tpooz\\anaconda3\\lib\\site-packages\\sklearn\\linear_model\\_logistic.py:1181: UserWarning: Setting penalty=None will ignore the C and l1_ratio parameters\n",
      "  warnings.warn(\n",
      "C:\\Users\\tpooz\\anaconda3\\lib\\site-packages\\sklearn\\linear_model\\_glm\\_newton_solver.py:491: LinAlgWarning: The inner solver of NewtonCholeskySolver stumbled upon a singular or very ill-conditioned Hessian matrix at iteration #1. It will now resort to lbfgs instead.\n",
      "Further options are to use another solver or to avoid such situation in the first place. Possible remedies are removing collinear features of X or increasing the penalization strengths.\n",
      "The original Linear Algebra message was:\n",
      "Ill-conditioned matrix (rcond=5.61342e-17): result may not be accurate.\n",
      "  warnings.warn(\n",
      "C:\\Users\\tpooz\\anaconda3\\lib\\site-packages\\sklearn\\linear_model\\_logistic.py:1181: UserWarning: Setting penalty=None will ignore the C and l1_ratio parameters\n",
      "  warnings.warn(\n",
      "C:\\Users\\tpooz\\anaconda3\\lib\\site-packages\\sklearn\\linear_model\\_glm\\_newton_solver.py:491: LinAlgWarning: The inner solver of NewtonCholeskySolver stumbled upon a singular or very ill-conditioned Hessian matrix at iteration #1. It will now resort to lbfgs instead.\n",
      "Further options are to use another solver or to avoid such situation in the first place. Possible remedies are removing collinear features of X or increasing the penalization strengths.\n",
      "The original Linear Algebra message was:\n",
      "Ill-conditioned matrix (rcond=2.61239e-17): result may not be accurate.\n",
      "  warnings.warn(\n",
      "C:\\Users\\tpooz\\anaconda3\\lib\\site-packages\\sklearn\\linear_model\\_logistic.py:1181: UserWarning: Setting penalty=None will ignore the C and l1_ratio parameters\n",
      "  warnings.warn(\n",
      "C:\\Users\\tpooz\\anaconda3\\lib\\site-packages\\sklearn\\linear_model\\_logistic.py:1181: UserWarning: Setting penalty=None will ignore the C and l1_ratio parameters\n",
      "  warnings.warn(\n",
      "C:\\Users\\tpooz\\anaconda3\\lib\\site-packages\\sklearn\\linear_model\\_logistic.py:1181: UserWarning: Setting penalty=None will ignore the C and l1_ratio parameters\n",
      "  warnings.warn(\n",
      "C:\\Users\\tpooz\\anaconda3\\lib\\site-packages\\sklearn\\linear_model\\_logistic.py:1181: UserWarning: Setting penalty=None will ignore the C and l1_ratio parameters\n",
      "  warnings.warn(\n",
      "C:\\Users\\tpooz\\anaconda3\\lib\\site-packages\\sklearn\\linear_model\\_logistic.py:1181: UserWarning: Setting penalty=None will ignore the C and l1_ratio parameters\n",
      "  warnings.warn(\n",
      "C:\\Users\\tpooz\\anaconda3\\lib\\site-packages\\sklearn\\linear_model\\_logistic.py:1181: UserWarning: Setting penalty=None will ignore the C and l1_ratio parameters\n",
      "  warnings.warn(\n",
      "C:\\Users\\tpooz\\anaconda3\\lib\\site-packages\\sklearn\\linear_model\\_logistic.py:1181: UserWarning: Setting penalty=None will ignore the C and l1_ratio parameters\n",
      "  warnings.warn(\n",
      "C:\\Users\\tpooz\\anaconda3\\lib\\site-packages\\sklearn\\linear_model\\_logistic.py:1181: UserWarning: Setting penalty=None will ignore the C and l1_ratio parameters\n",
      "  warnings.warn(\n",
      "C:\\Users\\tpooz\\anaconda3\\lib\\site-packages\\sklearn\\linear_model\\_logistic.py:1181: UserWarning: Setting penalty=None will ignore the C and l1_ratio parameters\n",
      "  warnings.warn(\n",
      "C:\\Users\\tpooz\\anaconda3\\lib\\site-packages\\sklearn\\linear_model\\_logistic.py:1181: UserWarning: Setting penalty=None will ignore the C and l1_ratio parameters\n",
      "  warnings.warn(\n",
      "C:\\Users\\tpooz\\anaconda3\\lib\\site-packages\\sklearn\\linear_model\\_logistic.py:1181: UserWarning: Setting penalty=None will ignore the C and l1_ratio parameters\n",
      "  warnings.warn(\n",
      "C:\\Users\\tpooz\\anaconda3\\lib\\site-packages\\sklearn\\linear_model\\_logistic.py:1181: UserWarning: Setting penalty=None will ignore the C and l1_ratio parameters\n",
      "  warnings.warn(\n",
      "C:\\Users\\tpooz\\anaconda3\\lib\\site-packages\\sklearn\\linear_model\\_logistic.py:1181: UserWarning: Setting penalty=None will ignore the C and l1_ratio parameters\n",
      "  warnings.warn(\n",
      "C:\\Users\\tpooz\\anaconda3\\lib\\site-packages\\sklearn\\linear_model\\_logistic.py:1181: UserWarning: Setting penalty=None will ignore the C and l1_ratio parameters\n",
      "  warnings.warn(\n",
      "C:\\Users\\tpooz\\anaconda3\\lib\\site-packages\\sklearn\\linear_model\\_logistic.py:1181: UserWarning: Setting penalty=None will ignore the C and l1_ratio parameters\n",
      "  warnings.warn(\n",
      "C:\\Users\\tpooz\\anaconda3\\lib\\site-packages\\sklearn\\linear_model\\_logistic.py:1181: UserWarning: Setting penalty=None will ignore the C and l1_ratio parameters\n",
      "  warnings.warn(\n",
      "C:\\Users\\tpooz\\anaconda3\\lib\\site-packages\\sklearn\\linear_model\\_glm\\_newton_solver.py:491: LinAlgWarning: The inner solver of NewtonCholeskySolver stumbled upon a singular or very ill-conditioned Hessian matrix at iteration #1. It will now resort to lbfgs instead.\n",
      "Further options are to use another solver or to avoid such situation in the first place. Possible remedies are removing collinear features of X or increasing the penalization strengths.\n",
      "The original Linear Algebra message was:\n",
      "Ill-conditioned matrix (rcond=5.33372e-18): result may not be accurate.\n",
      "  warnings.warn(\n",
      "C:\\Users\\tpooz\\anaconda3\\lib\\site-packages\\sklearn\\linear_model\\_logistic.py:1181: UserWarning: Setting penalty=None will ignore the C and l1_ratio parameters\n",
      "  warnings.warn(\n",
      "C:\\Users\\tpooz\\anaconda3\\lib\\site-packages\\sklearn\\linear_model\\_glm\\_newton_solver.py:491: LinAlgWarning: The inner solver of NewtonCholeskySolver stumbled upon a singular or very ill-conditioned Hessian matrix at iteration #1. It will now resort to lbfgs instead.\n",
      "Further options are to use another solver or to avoid such situation in the first place. Possible remedies are removing collinear features of X or increasing the penalization strengths.\n",
      "The original Linear Algebra message was:\n",
      "Ill-conditioned matrix (rcond=9.34386e-18): result may not be accurate.\n",
      "  warnings.warn(\n",
      "C:\\Users\\tpooz\\anaconda3\\lib\\site-packages\\sklearn\\linear_model\\_logistic.py:1181: UserWarning: Setting penalty=None will ignore the C and l1_ratio parameters\n",
      "  warnings.warn(\n",
      "C:\\Users\\tpooz\\anaconda3\\lib\\site-packages\\sklearn\\linear_model\\_glm\\_newton_solver.py:491: LinAlgWarning: The inner solver of NewtonCholeskySolver stumbled upon a singular or very ill-conditioned Hessian matrix at iteration #1. It will now resort to lbfgs instead.\n",
      "Further options are to use another solver or to avoid such situation in the first place. Possible remedies are removing collinear features of X or increasing the penalization strengths.\n",
      "The original Linear Algebra message was:\n",
      "Ill-conditioned matrix (rcond=1.48498e-17): result may not be accurate.\n",
      "  warnings.warn(\n",
      "C:\\Users\\tpooz\\anaconda3\\lib\\site-packages\\sklearn\\linear_model\\_logistic.py:1181: UserWarning: Setting penalty=None will ignore the C and l1_ratio parameters\n",
      "  warnings.warn(\n",
      "C:\\Users\\tpooz\\anaconda3\\lib\\site-packages\\sklearn\\linear_model\\_glm\\_newton_solver.py:491: LinAlgWarning: The inner solver of NewtonCholeskySolver stumbled upon a singular or very ill-conditioned Hessian matrix at iteration #1. It will now resort to lbfgs instead.\n",
      "Further options are to use another solver or to avoid such situation in the first place. Possible remedies are removing collinear features of X or increasing the penalization strengths.\n",
      "The original Linear Algebra message was:\n",
      "Ill-conditioned matrix (rcond=5.61342e-17): result may not be accurate.\n",
      "  warnings.warn(\n",
      "C:\\Users\\tpooz\\anaconda3\\lib\\site-packages\\sklearn\\linear_model\\_logistic.py:1181: UserWarning: Setting penalty=None will ignore the C and l1_ratio parameters\n",
      "  warnings.warn(\n",
      "C:\\Users\\tpooz\\anaconda3\\lib\\site-packages\\sklearn\\linear_model\\_glm\\_newton_solver.py:491: LinAlgWarning: The inner solver of NewtonCholeskySolver stumbled upon a singular or very ill-conditioned Hessian matrix at iteration #1. It will now resort to lbfgs instead.\n",
      "Further options are to use another solver or to avoid such situation in the first place. Possible remedies are removing collinear features of X or increasing the penalization strengths.\n",
      "The original Linear Algebra message was:\n",
      "Ill-conditioned matrix (rcond=2.61239e-17): result may not be accurate.\n",
      "  warnings.warn(\n",
      "C:\\Users\\tpooz\\anaconda3\\lib\\site-packages\\sklearn\\linear_model\\_logistic.py:1181: UserWarning: Setting penalty=None will ignore the C and l1_ratio parameters\n",
      "  warnings.warn(\n",
      "C:\\Users\\tpooz\\anaconda3\\lib\\site-packages\\sklearn\\linear_model\\_logistic.py:1181: UserWarning: Setting penalty=None will ignore the C and l1_ratio parameters\n",
      "  warnings.warn(\n"
     ]
    },
    {
     "name": "stderr",
     "output_type": "stream",
     "text": [
      "C:\\Users\\tpooz\\anaconda3\\lib\\site-packages\\sklearn\\linear_model\\_logistic.py:1181: UserWarning: Setting penalty=None will ignore the C and l1_ratio parameters\n",
      "  warnings.warn(\n",
      "C:\\Users\\tpooz\\anaconda3\\lib\\site-packages\\sklearn\\linear_model\\_logistic.py:1181: UserWarning: Setting penalty=None will ignore the C and l1_ratio parameters\n",
      "  warnings.warn(\n",
      "C:\\Users\\tpooz\\anaconda3\\lib\\site-packages\\sklearn\\linear_model\\_logistic.py:1181: UserWarning: Setting penalty=None will ignore the C and l1_ratio parameters\n",
      "  warnings.warn(\n",
      "C:\\Users\\tpooz\\anaconda3\\lib\\site-packages\\sklearn\\linear_model\\_logistic.py:1181: UserWarning: Setting penalty=None will ignore the C and l1_ratio parameters\n",
      "  warnings.warn(\n",
      "C:\\Users\\tpooz\\anaconda3\\lib\\site-packages\\sklearn\\linear_model\\_logistic.py:1181: UserWarning: Setting penalty=None will ignore the C and l1_ratio parameters\n",
      "  warnings.warn(\n",
      "C:\\Users\\tpooz\\anaconda3\\lib\\site-packages\\sklearn\\linear_model\\_logistic.py:1181: UserWarning: Setting penalty=None will ignore the C and l1_ratio parameters\n",
      "  warnings.warn(\n",
      "C:\\Users\\tpooz\\anaconda3\\lib\\site-packages\\sklearn\\linear_model\\_logistic.py:1181: UserWarning: Setting penalty=None will ignore the C and l1_ratio parameters\n",
      "  warnings.warn(\n",
      "C:\\Users\\tpooz\\anaconda3\\lib\\site-packages\\sklearn\\linear_model\\_logistic.py:1181: UserWarning: Setting penalty=None will ignore the C and l1_ratio parameters\n",
      "  warnings.warn(\n",
      "C:\\Users\\tpooz\\anaconda3\\lib\\site-packages\\sklearn\\linear_model\\_logistic.py:1181: UserWarning: Setting penalty=None will ignore the C and l1_ratio parameters\n",
      "  warnings.warn(\n",
      "C:\\Users\\tpooz\\anaconda3\\lib\\site-packages\\sklearn\\linear_model\\_logistic.py:1181: UserWarning: Setting penalty=None will ignore the C and l1_ratio parameters\n",
      "  warnings.warn(\n",
      "C:\\Users\\tpooz\\anaconda3\\lib\\site-packages\\sklearn\\linear_model\\_logistic.py:1181: UserWarning: Setting penalty=None will ignore the C and l1_ratio parameters\n",
      "  warnings.warn(\n",
      "C:\\Users\\tpooz\\anaconda3\\lib\\site-packages\\sklearn\\linear_model\\_logistic.py:1181: UserWarning: Setting penalty=None will ignore the C and l1_ratio parameters\n",
      "  warnings.warn(\n",
      "C:\\Users\\tpooz\\anaconda3\\lib\\site-packages\\sklearn\\linear_model\\_logistic.py:1181: UserWarning: Setting penalty=None will ignore the C and l1_ratio parameters\n",
      "  warnings.warn(\n",
      "C:\\Users\\tpooz\\anaconda3\\lib\\site-packages\\sklearn\\linear_model\\_logistic.py:1181: UserWarning: Setting penalty=None will ignore the C and l1_ratio parameters\n",
      "  warnings.warn(\n",
      "C:\\Users\\tpooz\\anaconda3\\lib\\site-packages\\sklearn\\linear_model\\_glm\\_newton_solver.py:491: LinAlgWarning: The inner solver of NewtonCholeskySolver stumbled upon a singular or very ill-conditioned Hessian matrix at iteration #1. It will now resort to lbfgs instead.\n",
      "Further options are to use another solver or to avoid such situation in the first place. Possible remedies are removing collinear features of X or increasing the penalization strengths.\n",
      "The original Linear Algebra message was:\n",
      "Ill-conditioned matrix (rcond=5.33372e-18): result may not be accurate.\n",
      "  warnings.warn(\n",
      "C:\\Users\\tpooz\\anaconda3\\lib\\site-packages\\sklearn\\linear_model\\_logistic.py:1181: UserWarning: Setting penalty=None will ignore the C and l1_ratio parameters\n",
      "  warnings.warn(\n",
      "C:\\Users\\tpooz\\anaconda3\\lib\\site-packages\\sklearn\\linear_model\\_glm\\_newton_solver.py:491: LinAlgWarning: The inner solver of NewtonCholeskySolver stumbled upon a singular or very ill-conditioned Hessian matrix at iteration #1. It will now resort to lbfgs instead.\n",
      "Further options are to use another solver or to avoid such situation in the first place. Possible remedies are removing collinear features of X or increasing the penalization strengths.\n",
      "The original Linear Algebra message was:\n",
      "Ill-conditioned matrix (rcond=9.34386e-18): result may not be accurate.\n",
      "  warnings.warn(\n",
      "C:\\Users\\tpooz\\anaconda3\\lib\\site-packages\\sklearn\\linear_model\\_logistic.py:1181: UserWarning: Setting penalty=None will ignore the C and l1_ratio parameters\n",
      "  warnings.warn(\n",
      "C:\\Users\\tpooz\\anaconda3\\lib\\site-packages\\sklearn\\linear_model\\_glm\\_newton_solver.py:491: LinAlgWarning: The inner solver of NewtonCholeskySolver stumbled upon a singular or very ill-conditioned Hessian matrix at iteration #1. It will now resort to lbfgs instead.\n",
      "Further options are to use another solver or to avoid such situation in the first place. Possible remedies are removing collinear features of X or increasing the penalization strengths.\n",
      "The original Linear Algebra message was:\n",
      "Ill-conditioned matrix (rcond=1.48498e-17): result may not be accurate.\n",
      "  warnings.warn(\n",
      "C:\\Users\\tpooz\\anaconda3\\lib\\site-packages\\sklearn\\linear_model\\_logistic.py:1181: UserWarning: Setting penalty=None will ignore the C and l1_ratio parameters\n",
      "  warnings.warn(\n",
      "C:\\Users\\tpooz\\anaconda3\\lib\\site-packages\\sklearn\\linear_model\\_glm\\_newton_solver.py:491: LinAlgWarning: The inner solver of NewtonCholeskySolver stumbled upon a singular or very ill-conditioned Hessian matrix at iteration #1. It will now resort to lbfgs instead.\n",
      "Further options are to use another solver or to avoid such situation in the first place. Possible remedies are removing collinear features of X or increasing the penalization strengths.\n",
      "The original Linear Algebra message was:\n",
      "Ill-conditioned matrix (rcond=5.61342e-17): result may not be accurate.\n",
      "  warnings.warn(\n",
      "C:\\Users\\tpooz\\anaconda3\\lib\\site-packages\\sklearn\\linear_model\\_logistic.py:1181: UserWarning: Setting penalty=None will ignore the C and l1_ratio parameters\n",
      "  warnings.warn(\n",
      "C:\\Users\\tpooz\\anaconda3\\lib\\site-packages\\sklearn\\linear_model\\_glm\\_newton_solver.py:491: LinAlgWarning: The inner solver of NewtonCholeskySolver stumbled upon a singular or very ill-conditioned Hessian matrix at iteration #1. It will now resort to lbfgs instead.\n",
      "Further options are to use another solver or to avoid such situation in the first place. Possible remedies are removing collinear features of X or increasing the penalization strengths.\n",
      "The original Linear Algebra message was:\n",
      "Ill-conditioned matrix (rcond=2.61239e-17): result may not be accurate.\n",
      "  warnings.warn(\n",
      "C:\\Users\\tpooz\\anaconda3\\lib\\site-packages\\sklearn\\linear_model\\_logistic.py:1181: UserWarning: Setting penalty=None will ignore the C and l1_ratio parameters\n",
      "  warnings.warn(\n",
      "C:\\Users\\tpooz\\anaconda3\\lib\\site-packages\\sklearn\\linear_model\\_logistic.py:1181: UserWarning: Setting penalty=None will ignore the C and l1_ratio parameters\n",
      "  warnings.warn(\n",
      "C:\\Users\\tpooz\\anaconda3\\lib\\site-packages\\sklearn\\linear_model\\_logistic.py:1181: UserWarning: Setting penalty=None will ignore the C and l1_ratio parameters\n",
      "  warnings.warn(\n",
      "C:\\Users\\tpooz\\anaconda3\\lib\\site-packages\\sklearn\\linear_model\\_logistic.py:1181: UserWarning: Setting penalty=None will ignore the C and l1_ratio parameters\n",
      "  warnings.warn(\n",
      "C:\\Users\\tpooz\\anaconda3\\lib\\site-packages\\sklearn\\linear_model\\_logistic.py:1181: UserWarning: Setting penalty=None will ignore the C and l1_ratio parameters\n",
      "  warnings.warn(\n",
      "C:\\Users\\tpooz\\anaconda3\\lib\\site-packages\\sklearn\\linear_model\\_logistic.py:1181: UserWarning: Setting penalty=None will ignore the C and l1_ratio parameters\n",
      "  warnings.warn(\n",
      "C:\\Users\\tpooz\\anaconda3\\lib\\site-packages\\sklearn\\linear_model\\_logistic.py:1181: UserWarning: Setting penalty=None will ignore the C and l1_ratio parameters\n",
      "  warnings.warn(\n",
      "C:\\Users\\tpooz\\anaconda3\\lib\\site-packages\\sklearn\\linear_model\\_logistic.py:1181: UserWarning: Setting penalty=None will ignore the C and l1_ratio parameters\n",
      "  warnings.warn(\n",
      "C:\\Users\\tpooz\\anaconda3\\lib\\site-packages\\sklearn\\linear_model\\_logistic.py:1181: UserWarning: Setting penalty=None will ignore the C and l1_ratio parameters\n",
      "  warnings.warn(\n",
      "C:\\Users\\tpooz\\anaconda3\\lib\\site-packages\\sklearn\\linear_model\\_logistic.py:1181: UserWarning: Setting penalty=None will ignore the C and l1_ratio parameters\n",
      "  warnings.warn(\n",
      "C:\\Users\\tpooz\\anaconda3\\lib\\site-packages\\sklearn\\linear_model\\_sag.py:350: ConvergenceWarning: The max_iter was reached which means the coef_ did not converge\n",
      "  warnings.warn(\n",
      "C:\\Users\\tpooz\\anaconda3\\lib\\site-packages\\sklearn\\linear_model\\_logistic.py:1181: UserWarning: Setting penalty=None will ignore the C and l1_ratio parameters\n",
      "  warnings.warn(\n",
      "C:\\Users\\tpooz\\anaconda3\\lib\\site-packages\\sklearn\\linear_model\\_logistic.py:1181: UserWarning: Setting penalty=None will ignore the C and l1_ratio parameters\n",
      "  warnings.warn(\n",
      "C:\\Users\\tpooz\\anaconda3\\lib\\site-packages\\sklearn\\linear_model\\_logistic.py:1181: UserWarning: Setting penalty=None will ignore the C and l1_ratio parameters\n",
      "  warnings.warn(\n",
      "C:\\Users\\tpooz\\anaconda3\\lib\\site-packages\\sklearn\\linear_model\\_logistic.py:1181: UserWarning: Setting penalty=None will ignore the C and l1_ratio parameters\n",
      "  warnings.warn(\n",
      "C:\\Users\\tpooz\\anaconda3\\lib\\site-packages\\sklearn\\linear_model\\_logistic.py:1181: UserWarning: Setting penalty=None will ignore the C and l1_ratio parameters\n",
      "  warnings.warn(\n",
      "C:\\Users\\tpooz\\anaconda3\\lib\\site-packages\\sklearn\\linear_model\\_logistic.py:1181: UserWarning: Setting penalty=None will ignore the C and l1_ratio parameters\n",
      "  warnings.warn(\n",
      "C:\\Users\\tpooz\\anaconda3\\lib\\site-packages\\sklearn\\linear_model\\_glm\\_newton_solver.py:491: LinAlgWarning: The inner solver of NewtonCholeskySolver stumbled upon a singular or very ill-conditioned Hessian matrix at iteration #1. It will now resort to lbfgs instead.\n",
      "Further options are to use another solver or to avoid such situation in the first place. Possible remedies are removing collinear features of X or increasing the penalization strengths.\n",
      "The original Linear Algebra message was:\n",
      "Ill-conditioned matrix (rcond=5.33372e-18): result may not be accurate.\n",
      "  warnings.warn(\n",
      "C:\\Users\\tpooz\\anaconda3\\lib\\site-packages\\sklearn\\linear_model\\_logistic.py:1181: UserWarning: Setting penalty=None will ignore the C and l1_ratio parameters\n",
      "  warnings.warn(\n",
      "C:\\Users\\tpooz\\anaconda3\\lib\\site-packages\\sklearn\\linear_model\\_glm\\_newton_solver.py:491: LinAlgWarning: The inner solver of NewtonCholeskySolver stumbled upon a singular or very ill-conditioned Hessian matrix at iteration #1. It will now resort to lbfgs instead.\n",
      "Further options are to use another solver or to avoid such situation in the first place. Possible remedies are removing collinear features of X or increasing the penalization strengths.\n",
      "The original Linear Algebra message was:\n",
      "Ill-conditioned matrix (rcond=9.34386e-18): result may not be accurate.\n",
      "  warnings.warn(\n",
      "C:\\Users\\tpooz\\anaconda3\\lib\\site-packages\\sklearn\\linear_model\\_logistic.py:1181: UserWarning: Setting penalty=None will ignore the C and l1_ratio parameters\n",
      "  warnings.warn(\n",
      "C:\\Users\\tpooz\\anaconda3\\lib\\site-packages\\sklearn\\linear_model\\_glm\\_newton_solver.py:491: LinAlgWarning: The inner solver of NewtonCholeskySolver stumbled upon a singular or very ill-conditioned Hessian matrix at iteration #1. It will now resort to lbfgs instead.\n",
      "Further options are to use another solver or to avoid such situation in the first place. Possible remedies are removing collinear features of X or increasing the penalization strengths.\n",
      "The original Linear Algebra message was:\n",
      "Ill-conditioned matrix (rcond=1.48498e-17): result may not be accurate.\n",
      "  warnings.warn(\n",
      "C:\\Users\\tpooz\\anaconda3\\lib\\site-packages\\sklearn\\linear_model\\_logistic.py:1181: UserWarning: Setting penalty=None will ignore the C and l1_ratio parameters\n",
      "  warnings.warn(\n",
      "C:\\Users\\tpooz\\anaconda3\\lib\\site-packages\\sklearn\\linear_model\\_glm\\_newton_solver.py:491: LinAlgWarning: The inner solver of NewtonCholeskySolver stumbled upon a singular or very ill-conditioned Hessian matrix at iteration #1. It will now resort to lbfgs instead.\n",
      "Further options are to use another solver or to avoid such situation in the first place. Possible remedies are removing collinear features of X or increasing the penalization strengths.\n",
      "The original Linear Algebra message was:\n",
      "Ill-conditioned matrix (rcond=5.61342e-17): result may not be accurate.\n",
      "  warnings.warn(\n",
      "C:\\Users\\tpooz\\anaconda3\\lib\\site-packages\\sklearn\\linear_model\\_logistic.py:1181: UserWarning: Setting penalty=None will ignore the C and l1_ratio parameters\n",
      "  warnings.warn(\n",
      "C:\\Users\\tpooz\\anaconda3\\lib\\site-packages\\sklearn\\linear_model\\_glm\\_newton_solver.py:491: LinAlgWarning: The inner solver of NewtonCholeskySolver stumbled upon a singular or very ill-conditioned Hessian matrix at iteration #1. It will now resort to lbfgs instead.\n",
      "Further options are to use another solver or to avoid such situation in the first place. Possible remedies are removing collinear features of X or increasing the penalization strengths.\n",
      "The original Linear Algebra message was:\n",
      "Ill-conditioned matrix (rcond=2.61239e-17): result may not be accurate.\n",
      "  warnings.warn(\n",
      "C:\\Users\\tpooz\\anaconda3\\lib\\site-packages\\sklearn\\linear_model\\_logistic.py:1181: UserWarning: Setting penalty=None will ignore the C and l1_ratio parameters\n",
      "  warnings.warn(\n",
      "C:\\Users\\tpooz\\anaconda3\\lib\\site-packages\\sklearn\\linear_model\\_logistic.py:1181: UserWarning: Setting penalty=None will ignore the C and l1_ratio parameters\n",
      "  warnings.warn(\n"
     ]
    },
    {
     "name": "stderr",
     "output_type": "stream",
     "text": [
      "C:\\Users\\tpooz\\anaconda3\\lib\\site-packages\\sklearn\\linear_model\\_logistic.py:1181: UserWarning: Setting penalty=None will ignore the C and l1_ratio parameters\n",
      "  warnings.warn(\n",
      "C:\\Users\\tpooz\\anaconda3\\lib\\site-packages\\sklearn\\linear_model\\_logistic.py:1181: UserWarning: Setting penalty=None will ignore the C and l1_ratio parameters\n",
      "  warnings.warn(\n",
      "C:\\Users\\tpooz\\anaconda3\\lib\\site-packages\\sklearn\\linear_model\\_logistic.py:1181: UserWarning: Setting penalty=None will ignore the C and l1_ratio parameters\n",
      "  warnings.warn(\n",
      "C:\\Users\\tpooz\\anaconda3\\lib\\site-packages\\sklearn\\linear_model\\_logistic.py:1181: UserWarning: Setting penalty=None will ignore the C and l1_ratio parameters\n",
      "  warnings.warn(\n",
      "C:\\Users\\tpooz\\anaconda3\\lib\\site-packages\\sklearn\\linear_model\\_logistic.py:1181: UserWarning: Setting penalty=None will ignore the C and l1_ratio parameters\n",
      "  warnings.warn(\n",
      "C:\\Users\\tpooz\\anaconda3\\lib\\site-packages\\sklearn\\linear_model\\_logistic.py:1181: UserWarning: Setting penalty=None will ignore the C and l1_ratio parameters\n",
      "  warnings.warn(\n",
      "C:\\Users\\tpooz\\anaconda3\\lib\\site-packages\\sklearn\\linear_model\\_logistic.py:1181: UserWarning: Setting penalty=None will ignore the C and l1_ratio parameters\n",
      "  warnings.warn(\n",
      "C:\\Users\\tpooz\\anaconda3\\lib\\site-packages\\sklearn\\linear_model\\_logistic.py:1181: UserWarning: Setting penalty=None will ignore the C and l1_ratio parameters\n",
      "  warnings.warn(\n",
      "C:\\Users\\tpooz\\anaconda3\\lib\\site-packages\\sklearn\\linear_model\\_glm\\_newton_solver.py:491: LinAlgWarning: The inner solver of NewtonCholeskySolver stumbled upon a singular or very ill-conditioned Hessian matrix at iteration #1. It will now resort to lbfgs instead.\n",
      "Further options are to use another solver or to avoid such situation in the first place. Possible remedies are removing collinear features of X or increasing the penalization strengths.\n",
      "The original Linear Algebra message was:\n",
      "Ill-conditioned matrix (rcond=5.33372e-18): result may not be accurate.\n",
      "  warnings.warn(\n",
      "C:\\Users\\tpooz\\anaconda3\\lib\\site-packages\\sklearn\\linear_model\\_glm\\_newton_solver.py:491: LinAlgWarning: The inner solver of NewtonCholeskySolver stumbled upon a singular or very ill-conditioned Hessian matrix at iteration #1. It will now resort to lbfgs instead.\n",
      "Further options are to use another solver or to avoid such situation in the first place. Possible remedies are removing collinear features of X or increasing the penalization strengths.\n",
      "The original Linear Algebra message was:\n",
      "Ill-conditioned matrix (rcond=9.34386e-18): result may not be accurate.\n",
      "  warnings.warn(\n",
      "C:\\Users\\tpooz\\anaconda3\\lib\\site-packages\\sklearn\\linear_model\\_glm\\_newton_solver.py:491: LinAlgWarning: The inner solver of NewtonCholeskySolver stumbled upon a singular or very ill-conditioned Hessian matrix at iteration #1. It will now resort to lbfgs instead.\n",
      "Further options are to use another solver or to avoid such situation in the first place. Possible remedies are removing collinear features of X or increasing the penalization strengths.\n",
      "The original Linear Algebra message was:\n",
      "Ill-conditioned matrix (rcond=1.48498e-17): result may not be accurate.\n",
      "  warnings.warn(\n",
      "C:\\Users\\tpooz\\anaconda3\\lib\\site-packages\\sklearn\\linear_model\\_glm\\_newton_solver.py:491: LinAlgWarning: The inner solver of NewtonCholeskySolver stumbled upon a singular or very ill-conditioned Hessian matrix at iteration #1. It will now resort to lbfgs instead.\n",
      "Further options are to use another solver or to avoid such situation in the first place. Possible remedies are removing collinear features of X or increasing the penalization strengths.\n",
      "The original Linear Algebra message was:\n",
      "Ill-conditioned matrix (rcond=5.61342e-17): result may not be accurate.\n",
      "  warnings.warn(\n",
      "C:\\Users\\tpooz\\anaconda3\\lib\\site-packages\\sklearn\\linear_model\\_glm\\_newton_solver.py:491: LinAlgWarning: The inner solver of NewtonCholeskySolver stumbled upon a singular or very ill-conditioned Hessian matrix at iteration #1. It will now resort to lbfgs instead.\n",
      "Further options are to use another solver or to avoid such situation in the first place. Possible remedies are removing collinear features of X or increasing the penalization strengths.\n",
      "The original Linear Algebra message was:\n",
      "Ill-conditioned matrix (rcond=2.61239e-17): result may not be accurate.\n",
      "  warnings.warn(\n",
      "C:\\Users\\tpooz\\anaconda3\\lib\\site-packages\\sklearn\\linear_model\\_logistic.py:1181: UserWarning: Setting penalty=None will ignore the C and l1_ratio parameters\n",
      "  warnings.warn(\n",
      "C:\\Users\\tpooz\\anaconda3\\lib\\site-packages\\sklearn\\linear_model\\_logistic.py:1181: UserWarning: Setting penalty=None will ignore the C and l1_ratio parameters\n",
      "  warnings.warn(\n",
      "C:\\Users\\tpooz\\anaconda3\\lib\\site-packages\\sklearn\\linear_model\\_logistic.py:1181: UserWarning: Setting penalty=None will ignore the C and l1_ratio parameters\n",
      "  warnings.warn(\n",
      "C:\\Users\\tpooz\\anaconda3\\lib\\site-packages\\sklearn\\linear_model\\_logistic.py:1181: UserWarning: Setting penalty=None will ignore the C and l1_ratio parameters\n",
      "  warnings.warn(\n",
      "C:\\Users\\tpooz\\anaconda3\\lib\\site-packages\\sklearn\\linear_model\\_logistic.py:1181: UserWarning: Setting penalty=None will ignore the C and l1_ratio parameters\n",
      "  warnings.warn(\n",
      "C:\\Users\\tpooz\\anaconda3\\lib\\site-packages\\sklearn\\linear_model\\_logistic.py:1181: UserWarning: Setting penalty=None will ignore the C and l1_ratio parameters\n",
      "  warnings.warn(\n",
      "C:\\Users\\tpooz\\anaconda3\\lib\\site-packages\\sklearn\\linear_model\\_glm\\_newton_solver.py:491: LinAlgWarning: The inner solver of NewtonCholeskySolver stumbled upon a singular or very ill-conditioned Hessian matrix at iteration #1. It will now resort to lbfgs instead.\n",
      "Further options are to use another solver or to avoid such situation in the first place. Possible remedies are removing collinear features of X or increasing the penalization strengths.\n",
      "The original Linear Algebra message was:\n",
      "Ill-conditioned matrix (rcond=5.33372e-18): result may not be accurate.\n",
      "  warnings.warn(\n",
      "C:\\Users\\tpooz\\anaconda3\\lib\\site-packages\\sklearn\\linear_model\\_logistic.py:1181: UserWarning: Setting penalty=None will ignore the C and l1_ratio parameters\n",
      "  warnings.warn(\n",
      "C:\\Users\\tpooz\\anaconda3\\lib\\site-packages\\sklearn\\linear_model\\_glm\\_newton_solver.py:491: LinAlgWarning: The inner solver of NewtonCholeskySolver stumbled upon a singular or very ill-conditioned Hessian matrix at iteration #1. It will now resort to lbfgs instead.\n",
      "Further options are to use another solver or to avoid such situation in the first place. Possible remedies are removing collinear features of X or increasing the penalization strengths.\n",
      "The original Linear Algebra message was:\n",
      "Ill-conditioned matrix (rcond=9.34386e-18): result may not be accurate.\n",
      "  warnings.warn(\n",
      "C:\\Users\\tpooz\\anaconda3\\lib\\site-packages\\sklearn\\linear_model\\_logistic.py:1181: UserWarning: Setting penalty=None will ignore the C and l1_ratio parameters\n",
      "  warnings.warn(\n",
      "C:\\Users\\tpooz\\anaconda3\\lib\\site-packages\\sklearn\\linear_model\\_glm\\_newton_solver.py:491: LinAlgWarning: The inner solver of NewtonCholeskySolver stumbled upon a singular or very ill-conditioned Hessian matrix at iteration #1. It will now resort to lbfgs instead.\n",
      "Further options are to use another solver or to avoid such situation in the first place. Possible remedies are removing collinear features of X or increasing the penalization strengths.\n",
      "The original Linear Algebra message was:\n",
      "Ill-conditioned matrix (rcond=1.48498e-17): result may not be accurate.\n",
      "  warnings.warn(\n",
      "C:\\Users\\tpooz\\anaconda3\\lib\\site-packages\\sklearn\\linear_model\\_logistic.py:1181: UserWarning: Setting penalty=None will ignore the C and l1_ratio parameters\n",
      "  warnings.warn(\n",
      "C:\\Users\\tpooz\\anaconda3\\lib\\site-packages\\sklearn\\linear_model\\_glm\\_newton_solver.py:491: LinAlgWarning: The inner solver of NewtonCholeskySolver stumbled upon a singular or very ill-conditioned Hessian matrix at iteration #1. It will now resort to lbfgs instead.\n",
      "Further options are to use another solver or to avoid such situation in the first place. Possible remedies are removing collinear features of X or increasing the penalization strengths.\n",
      "The original Linear Algebra message was:\n",
      "Ill-conditioned matrix (rcond=5.61342e-17): result may not be accurate.\n",
      "  warnings.warn(\n",
      "C:\\Users\\tpooz\\anaconda3\\lib\\site-packages\\sklearn\\linear_model\\_logistic.py:1181: UserWarning: Setting penalty=None will ignore the C and l1_ratio parameters\n",
      "  warnings.warn(\n",
      "C:\\Users\\tpooz\\anaconda3\\lib\\site-packages\\sklearn\\linear_model\\_glm\\_newton_solver.py:491: LinAlgWarning: The inner solver of NewtonCholeskySolver stumbled upon a singular or very ill-conditioned Hessian matrix at iteration #1. It will now resort to lbfgs instead.\n",
      "Further options are to use another solver or to avoid such situation in the first place. Possible remedies are removing collinear features of X or increasing the penalization strengths.\n",
      "The original Linear Algebra message was:\n",
      "Ill-conditioned matrix (rcond=2.61239e-17): result may not be accurate.\n",
      "  warnings.warn(\n",
      "C:\\Users\\tpooz\\anaconda3\\lib\\site-packages\\sklearn\\linear_model\\_logistic.py:1181: UserWarning: Setting penalty=None will ignore the C and l1_ratio parameters\n",
      "  warnings.warn(\n",
      "C:\\Users\\tpooz\\anaconda3\\lib\\site-packages\\sklearn\\linear_model\\_logistic.py:1181: UserWarning: Setting penalty=None will ignore the C and l1_ratio parameters\n",
      "  warnings.warn(\n"
     ]
    },
    {
     "name": "stderr",
     "output_type": "stream",
     "text": [
      "C:\\Users\\tpooz\\anaconda3\\lib\\site-packages\\sklearn\\linear_model\\_logistic.py:1181: UserWarning: Setting penalty=None will ignore the C and l1_ratio parameters\n",
      "  warnings.warn(\n",
      "C:\\Users\\tpooz\\anaconda3\\lib\\site-packages\\sklearn\\linear_model\\_logistic.py:1181: UserWarning: Setting penalty=None will ignore the C and l1_ratio parameters\n",
      "  warnings.warn(\n",
      "C:\\Users\\tpooz\\anaconda3\\lib\\site-packages\\sklearn\\linear_model\\_logistic.py:1181: UserWarning: Setting penalty=None will ignore the C and l1_ratio parameters\n",
      "  warnings.warn(\n",
      "C:\\Users\\tpooz\\anaconda3\\lib\\site-packages\\sklearn\\linear_model\\_logistic.py:1181: UserWarning: Setting penalty=None will ignore the C and l1_ratio parameters\n",
      "  warnings.warn(\n",
      "C:\\Users\\tpooz\\anaconda3\\lib\\site-packages\\sklearn\\linear_model\\_logistic.py:1181: UserWarning: Setting penalty=None will ignore the C and l1_ratio parameters\n",
      "  warnings.warn(\n",
      "C:\\Users\\tpooz\\anaconda3\\lib\\site-packages\\sklearn\\linear_model\\_logistic.py:1181: UserWarning: Setting penalty=None will ignore the C and l1_ratio parameters\n",
      "  warnings.warn(\n",
      "C:\\Users\\tpooz\\anaconda3\\lib\\site-packages\\sklearn\\linear_model\\_logistic.py:1181: UserWarning: Setting penalty=None will ignore the C and l1_ratio parameters\n",
      "  warnings.warn(\n",
      "C:\\Users\\tpooz\\anaconda3\\lib\\site-packages\\sklearn\\linear_model\\_logistic.py:1181: UserWarning: Setting penalty=None will ignore the C and l1_ratio parameters\n",
      "  warnings.warn(\n",
      "C:\\Users\\tpooz\\anaconda3\\lib\\site-packages\\sklearn\\model_selection\\_validation.py:378: FitFailedWarning: \n",
      "450 fits failed out of a total of 720.\n",
      "The score on these train-test partitions for these parameters will be set to nan.\n",
      "If these failures are not expected, you can try to debug them by setting error_score='raise'.\n",
      "\n",
      "Below are more details about the failures:\n",
      "--------------------------------------------------------------------------------\n",
      "30 fits failed with the following error:\n",
      "Traceback (most recent call last):\n",
      "  File \"C:\\Users\\tpooz\\anaconda3\\lib\\site-packages\\sklearn\\model_selection\\_validation.py\", line 686, in _fit_and_score\n",
      "    estimator.fit(X_train, y_train, **fit_params)\n",
      "  File \"C:\\Users\\tpooz\\anaconda3\\lib\\site-packages\\sklearn\\linear_model\\_logistic.py\", line 1162, in fit\n",
      "    solver = _check_solver(self.solver, self.penalty, self.dual)\n",
      "  File \"C:\\Users\\tpooz\\anaconda3\\lib\\site-packages\\sklearn\\linear_model\\_logistic.py\", line 54, in _check_solver\n",
      "    raise ValueError(\n",
      "ValueError: Solver lbfgs supports only 'l2' or 'none' penalties, got l1 penalty.\n",
      "\n",
      "--------------------------------------------------------------------------------\n",
      "120 fits failed with the following error:\n",
      "Traceback (most recent call last):\n",
      "  File \"C:\\Users\\tpooz\\anaconda3\\lib\\site-packages\\sklearn\\model_selection\\_validation.py\", line 686, in _fit_and_score\n",
      "    estimator.fit(X_train, y_train, **fit_params)\n",
      "  File \"C:\\Users\\tpooz\\anaconda3\\lib\\site-packages\\sklearn\\linear_model\\_logistic.py\", line 1160, in fit\n",
      "    self._validate_params()\n",
      "  File \"C:\\Users\\tpooz\\anaconda3\\lib\\site-packages\\sklearn\\base.py\", line 581, in _validate_params\n",
      "    validate_parameter_constraints(\n",
      "  File \"C:\\Users\\tpooz\\anaconda3\\lib\\site-packages\\sklearn\\utils\\_param_validation.py\", line 97, in validate_parameter_constraints\n",
      "    raise InvalidParameterError(\n",
      "sklearn.utils._param_validation.InvalidParameterError: The 'solver' parameter of LogisticRegression must be a str among {'newton-cholesky', 'saga', 'sag', 'newton-cg', 'liblinear', 'lbfgs'}. Got 'liblineaer' instead.\n",
      "\n",
      "--------------------------------------------------------------------------------\n",
      "120 fits failed with the following error:\n",
      "Traceback (most recent call last):\n",
      "  File \"C:\\Users\\tpooz\\anaconda3\\lib\\site-packages\\sklearn\\model_selection\\_validation.py\", line 686, in _fit_and_score\n",
      "    estimator.fit(X_train, y_train, **fit_params)\n",
      "  File \"C:\\Users\\tpooz\\anaconda3\\lib\\site-packages\\sklearn\\linear_model\\_logistic.py\", line 1160, in fit\n",
      "    self._validate_params()\n",
      "  File \"C:\\Users\\tpooz\\anaconda3\\lib\\site-packages\\sklearn\\base.py\", line 581, in _validate_params\n",
      "    validate_parameter_constraints(\n",
      "  File \"C:\\Users\\tpooz\\anaconda3\\lib\\site-packages\\sklearn\\utils\\_param_validation.py\", line 97, in validate_parameter_constraints\n",
      "    raise InvalidParameterError(\n",
      "sklearn.utils._param_validation.InvalidParameterError: The 'solver' parameter of LogisticRegression must be a str among {'newton-cholesky', 'saga', 'sag', 'newton-cg', 'liblinear', 'lbfgs'}. Got 'netwon-cg' instead.\n",
      "\n",
      "--------------------------------------------------------------------------------\n",
      "30 fits failed with the following error:\n",
      "Traceback (most recent call last):\n",
      "  File \"C:\\Users\\tpooz\\anaconda3\\lib\\site-packages\\sklearn\\model_selection\\_validation.py\", line 686, in _fit_and_score\n",
      "    estimator.fit(X_train, y_train, **fit_params)\n",
      "  File \"C:\\Users\\tpooz\\anaconda3\\lib\\site-packages\\sklearn\\linear_model\\_logistic.py\", line 1162, in fit\n",
      "    solver = _check_solver(self.solver, self.penalty, self.dual)\n",
      "  File \"C:\\Users\\tpooz\\anaconda3\\lib\\site-packages\\sklearn\\linear_model\\_logistic.py\", line 54, in _check_solver\n",
      "    raise ValueError(\n",
      "ValueError: Solver newton-cholesky supports only 'l2' or 'none' penalties, got l1 penalty.\n",
      "\n",
      "--------------------------------------------------------------------------------\n",
      "30 fits failed with the following error:\n",
      "Traceback (most recent call last):\n",
      "  File \"C:\\Users\\tpooz\\anaconda3\\lib\\site-packages\\sklearn\\model_selection\\_validation.py\", line 686, in _fit_and_score\n",
      "    estimator.fit(X_train, y_train, **fit_params)\n",
      "  File \"C:\\Users\\tpooz\\anaconda3\\lib\\site-packages\\sklearn\\linear_model\\_logistic.py\", line 1162, in fit\n",
      "    solver = _check_solver(self.solver, self.penalty, self.dual)\n",
      "  File \"C:\\Users\\tpooz\\anaconda3\\lib\\site-packages\\sklearn\\linear_model\\_logistic.py\", line 54, in _check_solver\n",
      "    raise ValueError(\n",
      "ValueError: Solver sag supports only 'l2' or 'none' penalties, got l1 penalty.\n",
      "\n",
      "--------------------------------------------------------------------------------\n",
      "30 fits failed with the following error:\n",
      "Traceback (most recent call last):\n",
      "  File \"C:\\Users\\tpooz\\anaconda3\\lib\\site-packages\\sklearn\\model_selection\\_validation.py\", line 686, in _fit_and_score\n",
      "    estimator.fit(X_train, y_train, **fit_params)\n",
      "  File \"C:\\Users\\tpooz\\anaconda3\\lib\\site-packages\\sklearn\\linear_model\\_logistic.py\", line 1162, in fit\n",
      "    solver = _check_solver(self.solver, self.penalty, self.dual)\n",
      "  File \"C:\\Users\\tpooz\\anaconda3\\lib\\site-packages\\sklearn\\linear_model\\_logistic.py\", line 54, in _check_solver\n",
      "    raise ValueError(\n",
      "ValueError: Solver lbfgs supports only 'l2' or 'none' penalties, got elasticnet penalty.\n",
      "\n",
      "--------------------------------------------------------------------------------\n",
      "30 fits failed with the following error:\n",
      "Traceback (most recent call last):\n",
      "  File \"C:\\Users\\tpooz\\anaconda3\\lib\\site-packages\\sklearn\\model_selection\\_validation.py\", line 686, in _fit_and_score\n",
      "    estimator.fit(X_train, y_train, **fit_params)\n",
      "  File \"C:\\Users\\tpooz\\anaconda3\\lib\\site-packages\\sklearn\\linear_model\\_logistic.py\", line 1162, in fit\n",
      "    solver = _check_solver(self.solver, self.penalty, self.dual)\n",
      "  File \"C:\\Users\\tpooz\\anaconda3\\lib\\site-packages\\sklearn\\linear_model\\_logistic.py\", line 54, in _check_solver\n",
      "    raise ValueError(\n",
      "ValueError: Solver newton-cholesky supports only 'l2' or 'none' penalties, got elasticnet penalty.\n",
      "\n",
      "--------------------------------------------------------------------------------\n",
      "30 fits failed with the following error:\n",
      "Traceback (most recent call last):\n",
      "  File \"C:\\Users\\tpooz\\anaconda3\\lib\\site-packages\\sklearn\\model_selection\\_validation.py\", line 686, in _fit_and_score\n",
      "    estimator.fit(X_train, y_train, **fit_params)\n",
      "  File \"C:\\Users\\tpooz\\anaconda3\\lib\\site-packages\\sklearn\\linear_model\\_logistic.py\", line 1162, in fit\n",
      "    solver = _check_solver(self.solver, self.penalty, self.dual)\n",
      "  File \"C:\\Users\\tpooz\\anaconda3\\lib\\site-packages\\sklearn\\linear_model\\_logistic.py\", line 54, in _check_solver\n",
      "    raise ValueError(\n",
      "ValueError: Solver sag supports only 'l2' or 'none' penalties, got elasticnet penalty.\n",
      "\n",
      "--------------------------------------------------------------------------------\n",
      "30 fits failed with the following error:\n",
      "Traceback (most recent call last):\n",
      "  File \"C:\\Users\\tpooz\\anaconda3\\lib\\site-packages\\sklearn\\model_selection\\_validation.py\", line 686, in _fit_and_score\n",
      "    estimator.fit(X_train, y_train, **fit_params)\n",
      "  File \"C:\\Users\\tpooz\\anaconda3\\lib\\site-packages\\sklearn\\linear_model\\_logistic.py\", line 1291, in fit\n",
      "    fold_coefs_ = Parallel(n_jobs=self.n_jobs, verbose=self.verbose, prefer=prefer)(\n",
      "  File \"C:\\Users\\tpooz\\anaconda3\\lib\\site-packages\\sklearn\\utils\\parallel.py\", line 63, in __call__\n",
      "    return super().__call__(iterable_with_config)\n",
      "  File \"C:\\Users\\tpooz\\anaconda3\\lib\\site-packages\\joblib\\parallel.py\", line 1048, in __call__\n",
      "    if self.dispatch_one_batch(iterator):\n",
      "  File \"C:\\Users\\tpooz\\anaconda3\\lib\\site-packages\\joblib\\parallel.py\", line 864, in dispatch_one_batch\n",
      "    self._dispatch(tasks)\n",
      "  File \"C:\\Users\\tpooz\\anaconda3\\lib\\site-packages\\joblib\\parallel.py\", line 782, in _dispatch\n",
      "    job = self._backend.apply_async(batch, callback=cb)\n",
      "  File \"C:\\Users\\tpooz\\anaconda3\\lib\\site-packages\\joblib\\_parallel_backends.py\", line 208, in apply_async\n",
      "    result = ImmediateResult(func)\n",
      "  File \"C:\\Users\\tpooz\\anaconda3\\lib\\site-packages\\joblib\\_parallel_backends.py\", line 572, in __init__\n",
      "    self.results = batch()\n",
      "  File \"C:\\Users\\tpooz\\anaconda3\\lib\\site-packages\\joblib\\parallel.py\", line 263, in __call__\n",
      "    return [func(*args, **kwargs)\n",
      "  File \"C:\\Users\\tpooz\\anaconda3\\lib\\site-packages\\joblib\\parallel.py\", line 263, in <listcomp>\n",
      "    return [func(*args, **kwargs)\n",
      "  File \"C:\\Users\\tpooz\\anaconda3\\lib\\site-packages\\sklearn\\utils\\parallel.py\", line 123, in __call__\n",
      "    return self.function(*args, **kwargs)\n",
      "  File \"C:\\Users\\tpooz\\anaconda3\\lib\\site-packages\\sklearn\\linear_model\\_logistic.py\", line 521, in _logistic_regression_path\n",
      "    alpha = (1.0 / C) * (1 - l1_ratio)\n",
      "TypeError: unsupported operand type(s) for -: 'int' and 'NoneType'\n",
      "\n",
      "  warnings.warn(some_fits_failed_message, FitFailedWarning)\n",
      "C:\\Users\\tpooz\\anaconda3\\lib\\site-packages\\sklearn\\model_selection\\_search.py:952: UserWarning: One or more of the test scores are non-finite: [       nan        nan        nan        nan        nan 0.83781076\n",
      " 0.83981955        nan        nan 0.83981955 0.83981955 0.83981955\n",
      "        nan        nan        nan        nan        nan        nan\n",
      " 0.89907064        nan        nan 0.89907064 0.89907064 0.89932158\n",
      "        nan        nan        nan        nan        nan 0.87873685\n",
      " 0.89304458        nan        nan 0.89304458 0.89304458 0.89304458\n",
      "        nan        nan        nan        nan        nan        nan\n",
      " 0.89907064        nan        nan 0.89907064 0.89907064 0.89932158\n",
      "        nan        nan        nan        nan        nan 0.89756436\n",
      " 0.8980653         nan        nan 0.8980653  0.89781404 0.89781404\n",
      "        nan        nan        nan        nan        nan        nan\n",
      " 0.89907064        nan        nan 0.89907064 0.89907064 0.89932158\n",
      "        nan        nan        nan        nan        nan 0.89907064\n",
      " 0.89932158        nan        nan 0.89932158 0.89932158 0.89932158\n",
      "        nan        nan        nan        nan        nan        nan\n",
      " 0.89907064        nan        nan 0.89907064 0.89907064 0.89932158\n",
      "        nan        nan        nan        nan        nan 0.89881969\n",
      " 0.89907032        nan        nan 0.89907032 0.89907032 0.89907032\n",
      "        nan        nan        nan        nan        nan        nan\n",
      " 0.89907064        nan        nan 0.89907064 0.89907064 0.89932158\n",
      "        nan        nan        nan        nan        nan 0.89932158\n",
      " 0.89907064        nan        nan 0.89907064 0.89932158 0.89907064\n",
      "        nan        nan        nan        nan        nan        nan\n",
      " 0.89907064        nan        nan 0.89907064 0.89907064 0.89932158]\n",
      "  warnings.warn(\n",
      "C:\\Users\\tpooz\\anaconda3\\lib\\site-packages\\sklearn\\linear_model\\_logistic.py:1181: UserWarning: Setting penalty=None will ignore the C and l1_ratio parameters\n",
      "  warnings.warn(\n"
     ]
    }
   ],
   "source": [
    "#Apply same parameters to build Logistic Regression Model for Dropped Bank Churn datasets to assess performance\n",
    "log_reg_dropped_params , logreg_dropped_score, time_log_dropped = logregmodel(X_train_dropped, y_train_dropped)"
   ]
  },
  {
   "cell_type": "code",
   "execution_count": 25,
   "metadata": {},
   "outputs": [
    {
     "name": "stdout",
     "output_type": "stream",
     "text": [
      "Approximate Logistic Regression Model Build Time with GridSearch CV : 14.31 seconds\n",
      "Logistic Regression Model Best Parameters given Dropped Dataset: {'C': 0.001, 'penalty': None, 'solver': 'saga'}\n",
      "Logistic Regression Model Best Parameter Score given Dropped Dataset: 0.8993215765149462\n"
     ]
    }
   ],
   "source": [
    "print(f\"Approximate Logistic Regression Model Build Time with GridSearch CV : {round(time_log_dropped , 2)} seconds\")\n",
    "print(f\"Logistic Regression Model Best Parameters given Dropped Dataset: {log_reg_dropped_params}\")\n",
    "print(f\"Logistic Regression Model Best Parameter Score given Dropped Dataset: {logreg_dropped_score}\")"
   ]
  },
  {
   "cell_type": "code",
   "execution_count": 26,
   "metadata": {},
   "outputs": [
    {
     "name": "stdout",
     "output_type": "stream",
     "text": [
      "0.9144698301113063\n",
      "              precision    recall  f1-score   support\n",
      "\n",
      "       churn       0.76      0.59      0.66       244\n",
      " not_churned       0.93      0.97      0.95      1463\n",
      "\n",
      "    accuracy                           0.91      1707\n",
      "   macro avg       0.85      0.78      0.81      1707\n",
      "weighted avg       0.91      0.91      0.91      1707\n",
      "\n"
     ]
    },
    {
     "name": "stderr",
     "output_type": "stream",
     "text": [
      "C:\\Users\\tpooz\\anaconda3\\lib\\site-packages\\sklearn\\linear_model\\_logistic.py:1181: UserWarning: Setting penalty=None will ignore the C and l1_ratio parameters\n",
      "  warnings.warn(\n"
     ]
    }
   ],
   "source": [
    "log_reg_dropped_best = LogisticRegression(random_state=random_state, solver='saga', C=0.001, penalty=None)\n",
    "log_reg_dropped_best.fit(X_train_dropped, y_train_dropped.values.ravel())\n",
    "y_pred_log_dropped = log_reg_dropped_best.predict(X_test_dropped)\n",
    "\n",
    "print(accuracy_score(y_test_dropped, y_pred_log_dropped))\n",
    "print(classification_report(y_test_dropped, y_pred_log_dropped, target_names=['churn', 'not_churned']))"
   ]
  },
  {
   "cell_type": "markdown",
   "metadata": {},
   "source": [
    "Looking at the above assessment, it seems the Logistic Regression model has high accuracy however it is not the best at predicting when the user has churned. This might be due to the reality that there is class imbalance where there are siginificatly more not churned users than churned in the dataset. Therefore applying a logistic regression model might not be the best in terms of determing an overall generalizable predictive model to determine bank churn rate. \n",
    "\n",
    "However, the dataset where the null valued rows were dropped, had a slighlty better precision and recall in terms of predicting churn regarding customers in the dataset. This might be due to the reality that having less data might incur less imbalance in the dataset, thereby increasing the precision and recall. It also seemed accuracy increased as well."
   ]
  },
  {
   "cell_type": "markdown",
   "metadata": {},
   "source": [
    "### 5.5.2 Random Forest Classifier"
   ]
  },
  {
   "cell_type": "markdown",
   "metadata": {},
   "source": [
    "Buidling Random Forest Classifier model and fitting with X_train and y_train datasets for missing and dropped."
   ]
  },
  {
   "cell_type": "code",
   "execution_count": 27,
   "metadata": {},
   "outputs": [],
   "source": [
    "#Build RandomForestClassifier model with list of n # of tress, and different criterion to split with max_depth being a range from 0 to 1000 with 5 fold cv.\n",
    "def randforestmodel(X_train, y_train):\n",
    "    start = time.time()\n",
    "    randForest = RandomForestClassifier(random_state=random_state)\n",
    "    params_randForest = {'n_estimators':[1,10,100], 'criterion':['gini', 'entropy', 'log_loss'], 'max_depth':list(range(1,10))}\n",
    "    randForest_GS = GridSearchCV(estimator = randForest, param_grid = params_randForest, cv=5)\n",
    "    randForest_GS.fit(X_train, y_train.values.ravel())\n",
    "    end = time.time() - start\n",
    "    return randForest_GS.best_params_ , randForest_GS.best_score_ , end"
   ]
  },
  {
   "cell_type": "code",
   "execution_count": 28,
   "metadata": {},
   "outputs": [],
   "source": [
    "#Applied Random Forest Classifier model to 'missing' bank churn X and y training data\n",
    "randForestparams_missing , randForestScore_missing , randForestTime_missing = randforestmodel(X_train_missing, y_train_missing)"
   ]
  },
  {
   "cell_type": "code",
   "execution_count": 29,
   "metadata": {},
   "outputs": [
    {
     "name": "stdout",
     "output_type": "stream",
     "text": [
      "Approximate Random Forest Classifier Model Build Time with GridSearchCV : 62.87 seconds\n",
      "Random Forest Classifier Model Best Parameters given Missing Dataset: {'criterion': 'entropy', 'max_depth': 9, 'n_estimators': 100}\n",
      "Random Forest Classifier Model Best Parameter Score given Missing Dataset: 0.9409171075837742\n"
     ]
    }
   ],
   "source": [
    "print(f\"Approximate Random Forest Classifier Model Build Time with GridSearchCV : {round(randForestTime_missing , 2)} seconds\")\n",
    "print(f\"Random Forest Classifier Model Best Parameters given Missing Dataset: {randForestparams_missing}\")\n",
    "print(f\"Random Forest Classifier Model Best Parameter Score given Missing Dataset: {randForestScore_missing}\")"
   ]
  },
  {
   "cell_type": "code",
   "execution_count": 30,
   "metadata": {
    "scrolled": true
   },
   "outputs": [
    {
     "name": "stdout",
     "output_type": "stream",
     "text": [
      "0.9391197038255862\n",
      "              precision    recall  f1-score   support\n",
      "\n",
      "       churn       0.89      0.68      0.77       360\n",
      " not_churned       0.95      0.99      0.96      2071\n",
      "\n",
      "    accuracy                           0.94      2431\n",
      "   macro avg       0.92      0.83      0.87      2431\n",
      "weighted avg       0.94      0.94      0.94      2431\n",
      "\n"
     ]
    }
   ],
   "source": [
    "#Applying best params for RandomForestClassifier for X_train_missing and y_train_missing\n",
    "randForest_missing = RandomForestClassifier(n_estimators = 100, random_state=random_state, criterion='entropy', max_depth=9)\n",
    "randForest_missing.fit(X_train_missing, y_train_missing.values.ravel())\n",
    "y_pred_randForest_missing = randForest_missing.predict(X_test_missing)\n",
    "print(accuracy_score(y_test_missing, y_pred_randForest_missing))\n",
    "print(classification_report(y_test_missing, y_pred_randForest_missing, target_names=['churn', 'not_churned']))"
   ]
  },
  {
   "cell_type": "code",
   "execution_count": 31,
   "metadata": {},
   "outputs": [],
   "source": [
    "#Applied Random Forest Classifier model to 'dropped' bank churn X and y training data\n",
    "randForestparams_dropped , randForestScore_dropped , randForestTime_dropped = randforestmodel(X_train_dropped, y_train_dropped)"
   ]
  },
  {
   "cell_type": "code",
   "execution_count": 32,
   "metadata": {},
   "outputs": [
    {
     "name": "stdout",
     "output_type": "stream",
     "text": [
      "Approximate Random Forest Classifier Model Build Time with GridSearchCV : 52.23 seconds\n",
      "Random Forest Classifier Model Best Parameters given Missing Dataset: {'criterion': 'entropy', 'max_depth': 9, 'n_estimators': 100}\n",
      "Random Forest Classifier Model Best Parameter Score given Missing Dataset: 0.9399932535954554\n"
     ]
    }
   ],
   "source": [
    "print(f\"Approximate Random Forest Classifier Model Build Time with GridSearchCV : {round(randForestTime_dropped , 2)} seconds\")\n",
    "print(f\"Random Forest Classifier Model Best Parameters given Missing Dataset: {randForestparams_dropped}\")\n",
    "print(f\"Random Forest Classifier Model Best Parameter Score given Missing Dataset: {randForestScore_dropped}\")"
   ]
  },
  {
   "cell_type": "code",
   "execution_count": 33,
   "metadata": {},
   "outputs": [
    {
     "name": "stdout",
     "output_type": "stream",
     "text": [
      "0.9496192149970709\n",
      "              precision    recall  f1-score   support\n",
      "\n",
      "       churn       0.96      0.68      0.79       244\n",
      " not_churned       0.95      1.00      0.97      1463\n",
      "\n",
      "    accuracy                           0.95      1707\n",
      "   macro avg       0.95      0.84      0.88      1707\n",
      "weighted avg       0.95      0.95      0.95      1707\n",
      "\n"
     ]
    }
   ],
   "source": [
    "#Applying best params for RandomForestClassifier for X_train_dropped and y_train_dropped\n",
    "randForest_dropped = RandomForestClassifier(n_estimators = 100, random_state=random_state, criterion='entropy', max_depth=9)\n",
    "randForest_dropped.fit(X_train_dropped, y_train_dropped.values.ravel())\n",
    "y_pred_randForest_dropped = randForest_dropped.predict(X_test_dropped)\n",
    "\n",
    "print(accuracy_score(y_test_dropped, y_pred_randForest_dropped))\n",
    "print(classification_report(y_test_dropped, y_pred_randForest_dropped, target_names=['churn', 'not_churned']))"
   ]
  },
  {
   "cell_type": "markdown",
   "metadata": {},
   "source": [
    "Looking at the above results regarding the RandomForestClassifier model for both missing and dropped datasets, it seems that the model as a whole siginificantly improved in prediction with the RandomForestClassifier model as compared with logistic regression. And it seems that overall precision for the 'dropped' dataset seemed to be better than the missing. This might be again due to size of the respective datasets as the 'dropped' being smaller might lead to having a larger prediction score than just imputing the null values as 'missing.' Again the accuracy for the 'dropped' dataset is slighltly higher than the 'missing' dataset for potentially the same reason of having less data to predict."
   ]
  },
  {
   "cell_type": "markdown",
   "metadata": {},
   "source": [
    "### 5.5.3 Gradient Boosting Classifier"
   ]
  },
  {
   "cell_type": "markdown",
   "metadata": {},
   "source": [
    "Buidling Gradient Boosting Classifier model and fitting with X_train and y_train datasets for missing and dropped."
   ]
  },
  {
   "cell_type": "code",
   "execution_count": 34,
   "metadata": {},
   "outputs": [],
   "source": [
    "#Build GradientBoostingClassifier model with list learning rates and of n # of tress, and different criterion to split with max_depth being a range from 0 to 10 with 5 fold cv.\n",
    "def gradboostmodel(X_train, y_train):\n",
    "    start = time.time()\n",
    "    gradBoost = GradientBoostingClassifier(random_state=random_state)\n",
    "    params_gradBoost = {'learning_rate':[0.001, 0.1, 1, 10], 'n_estimators':[1,10,100], 'criterion':['friedman_mse', 'squared_error'], 'max_depth':list(range(1,10))}\n",
    "    gradBoost_GS = GridSearchCV(estimator = gradBoost, param_grid = params_gradBoost, cv=5)\n",
    "    gradBoost_GS.fit(X_train, y_train.values.ravel())\n",
    "    end = time.time() - start\n",
    "    return gradBoost_GS.best_params_ , gradBoost_GS.best_score_ , end"
   ]
  },
  {
   "cell_type": "code",
   "execution_count": 35,
   "metadata": {},
   "outputs": [],
   "source": [
    "#Applied GradientBoosting Classifier model to 'missing' bank churn X and y training data\n",
    "gradBoostparams_missing , gradBoostScore_missing , gradBoostTime_missing = gradboostmodel(X_train_missing, y_train_missing)"
   ]
  },
  {
   "cell_type": "code",
   "execution_count": 36,
   "metadata": {},
   "outputs": [
    {
     "name": "stdout",
     "output_type": "stream",
     "text": [
      "Approximate Gradient Boosting Classifier Model Build Time with GridSearchCV : 846.87 seconds\n",
      "Gradient Boosting Classifier Model Best Parameters given Missing Dataset: {'criterion': 'squared_error', 'learning_rate': 0.1, 'max_depth': 6, 'n_estimators': 100}\n",
      "Gradient Boosting Classifier Model Best Parameter Score given Missing Dataset: 0.9682539682539681\n"
     ]
    }
   ],
   "source": [
    "print(f\"Approximate Gradient Boosting Classifier Model Build Time with GridSearchCV : {round(gradBoostTime_missing , 2)} seconds\")\n",
    "print(f\"Gradient Boosting Classifier Model Best Parameters given Missing Dataset: {gradBoostparams_missing}\")\n",
    "print(f\"Gradient Boosting Classifier Model Best Parameter Score given Missing Dataset: {gradBoostScore_missing}\")"
   ]
  },
  {
   "cell_type": "code",
   "execution_count": 37,
   "metadata": {},
   "outputs": [
    {
     "name": "stdout",
     "output_type": "stream",
     "text": [
      "0.9679144385026738\n",
      "              precision    recall  f1-score   support\n",
      "\n",
      "       churn       0.93      0.85      0.89       360\n",
      " not_churned       0.97      0.99      0.98      2071\n",
      "\n",
      "    accuracy                           0.97      2431\n",
      "   macro avg       0.95      0.92      0.93      2431\n",
      "weighted avg       0.97      0.97      0.97      2431\n",
      "\n"
     ]
    }
   ],
   "source": [
    "#Applying best params for GradientBoostingClassifier model for X_train_missing and y_train_missing\n",
    "gradBoost_missing = GradientBoostingClassifier(n_estimators = 100, learning_rate=0.1, random_state=random_state, criterion='squared_error', max_depth=6)\n",
    "gradBoost_missing.fit(X_train_missing, y_train_missing.values.ravel())\n",
    "y_pred_gradBoost_missing = gradBoost_missing.predict(X_test_missing)\n",
    "\n",
    "print(accuracy_score(y_test_missing, y_pred_gradBoost_missing))\n",
    "print(classification_report(y_test_missing, y_pred_gradBoost_missing, target_names=['churn', 'not_churned']))"
   ]
  },
  {
   "cell_type": "code",
   "execution_count": 38,
   "metadata": {},
   "outputs": [],
   "source": [
    "#Applied GradientBoosting Classifier model to 'dropped' bank churn X and y training data\n",
    "gradBoostparams_dropped , gradBoostScore_dropped , gradBoostTime_dropped = gradboostmodel(X_train_dropped, y_train_dropped)"
   ]
  },
  {
   "cell_type": "code",
   "execution_count": 39,
   "metadata": {},
   "outputs": [
    {
     "name": "stdout",
     "output_type": "stream",
     "text": [
      "Approximate Gradient Boosting Classifier Model Build Time with GridSearchCV : 603.65 seconds\n",
      "Gradient Boosting Classifier Model Best Parameters given Dropped Dataset: {'criterion': 'friedman_mse', 'learning_rate': 0.1, 'max_depth': 5, 'n_estimators': 100}\n",
      "Gradient Boosting Classifier Model Best Parameter Score given Dropped Dataset: 0.9671109625921325\n"
     ]
    }
   ],
   "source": [
    "print(f\"Approximate Gradient Boosting Classifier Model Build Time with GridSearchCV : {round(gradBoostTime_dropped , 2)} seconds\")\n",
    "print(f\"Gradient Boosting Classifier Model Best Parameters given Dropped Dataset: {gradBoostparams_dropped}\")\n",
    "print(f\"Gradient Boosting Classifier Model Best Parameter Score given Dropped Dataset: {gradBoostScore_dropped}\")"
   ]
  },
  {
   "cell_type": "code",
   "execution_count": 40,
   "metadata": {
    "scrolled": true
   },
   "outputs": [
    {
     "name": "stdout",
     "output_type": "stream",
     "text": [
      "0.968365553602812\n",
      "              precision    recall  f1-score   support\n",
      "\n",
      "       churn       0.94      0.84      0.88       244\n",
      " not_churned       0.97      0.99      0.98      1463\n",
      "\n",
      "    accuracy                           0.97      1707\n",
      "   macro avg       0.95      0.91      0.93      1707\n",
      "weighted avg       0.97      0.97      0.97      1707\n",
      "\n"
     ]
    }
   ],
   "source": [
    "#Applying best params for GradientBoostingClassifier model for X_train_dropped and y_train_dropped\n",
    "gradBoost_dropped = GradientBoostingClassifier(n_estimators = 100, learning_rate=0.1, random_state=random_state, criterion='friedman_mse', max_depth=5)\n",
    "gradBoost_dropped.fit(X_train_dropped, y_train_dropped.values.ravel())\n",
    "y_pred_gradBoost_dropped = gradBoost_dropped.predict(X_test_dropped)\n",
    "\n",
    "print(accuracy_score(y_test_dropped, y_pred_gradBoost_dropped))\n",
    "print(classification_report(y_test_dropped, y_pred_gradBoost_dropped, target_names=['churn', 'not_churned']))"
   ]
  },
  {
   "cell_type": "markdown",
   "metadata": {},
   "source": [
    "Looking at the above results, it seems GradientBoosting Classifier though has longer computation time, was able to improve predictability over just the RandomForestClassifier Model in terms of precision and recall for predicting churn in the datasets. And the overall accuracy increased as well from the RandomForestClassifer.  \n",
    "\n",
    "Between the 'missing' and 'dropped' datasets it seems again that in dropping the missing values, there is a higher precision but recall is slightly less for the dropped versus the dataset. This might be due to the size of the dropped dataset being smaller so there is less confidence in being able to predict values for churn in the Attrition_Flag column."
   ]
  },
  {
   "cell_type": "markdown",
   "metadata": {},
   "source": [
    "### 5.5.4 Support Vector Classifier (SVC) "
   ]
  },
  {
   "cell_type": "markdown",
   "metadata": {},
   "source": [
    "Buidling Support Vector Classifier model and fitting with X_train and y_train datasets for missing and dropped."
   ]
  },
  {
   "cell_type": "code",
   "execution_count": 41,
   "metadata": {},
   "outputs": [],
   "source": [
    "#Build Support Vector Machine model with list of C values as well as kernel and gamma methods with 5 fold cv.\n",
    "#Assistance regarding appropriate params to test SVC found on https://stackoverflow.com/questions/36306555/scikit-learn-grid-search-with-svm-regression\n",
    "def svcmodel(X_train, y_train):\n",
    "    start = time.time()\n",
    "    svcmodel = SVC(random_state=random_state)\n",
    "    params_SVC = {'C':[0.001, 0.1, 1, 10], 'kernel':['linear', 'poly', 'rbf', 'sigmoid'], 'gamma':['scale', 'auto']}\n",
    "    svc_GS = GridSearchCV(estimator = svcmodel, param_grid = params_SVC, cv=5)\n",
    "    svc_GS.fit(X_train, y_train.values.ravel())\n",
    "    end = time.time() - start\n",
    "    return svc_GS.best_params_ , svc_GS.best_score_ , end"
   ]
  },
  {
   "cell_type": "code",
   "execution_count": 42,
   "metadata": {
    "scrolled": true
   },
   "outputs": [],
   "source": [
    "#Applied Support Vector Classifier model to 'missing' bank churn X and y training data\n",
    "svcparams_missing , svcScore_missing , svcTime_missing = svcmodel(X_train_missing, y_train_missing)"
   ]
  },
  {
   "cell_type": "code",
   "execution_count": 43,
   "metadata": {
    "scrolled": true
   },
   "outputs": [
    {
     "name": "stdout",
     "output_type": "stream",
     "text": [
      "Approximate Support Vector Classifier Model Build Time with GridSearchCV : 80.43 seconds\n",
      "Support Vector Classifier Model Best Parameters given Missing Dataset: {'C': 10, 'gamma': 'scale', 'kernel': 'rbf'}\n",
      "Support Vector Classifier Model Best Parameter Score given Missing Dataset: 0.9171075837742505\n"
     ]
    }
   ],
   "source": [
    "print(f\"Approximate Support Vector Classifier Model Build Time with GridSearchCV : {round(svcTime_missing , 2)} seconds\")\n",
    "print(f\"Support Vector Classifier Model Best Parameters given Missing Dataset: {svcparams_missing}\")\n",
    "print(f\"Support Vector Classifier Model Best Parameter Score given Missing Dataset: {svcScore_missing}\")"
   ]
  },
  {
   "cell_type": "code",
   "execution_count": 44,
   "metadata": {},
   "outputs": [
    {
     "name": "stdout",
     "output_type": "stream",
     "text": [
      "0.9156725627313863\n",
      "              precision    recall  f1-score   support\n",
      "\n",
      "       churn       0.73      0.69      0.71       360\n",
      " not_churned       0.95      0.95      0.95      2071\n",
      "\n",
      "    accuracy                           0.92      2431\n",
      "   macro avg       0.84      0.82      0.83      2431\n",
      "weighted avg       0.91      0.92      0.91      2431\n",
      "\n"
     ]
    }
   ],
   "source": [
    "#Applying best params for Support Vector Classifier model for X_train_missing and y_train_missing\n",
    "svc_missing = SVC(C=10, gamma = 'scale', kernel='rbf', random_state=random_state)\n",
    "svc_missing.fit(X_train_missing, y_train_missing.values.ravel())\n",
    "y_pred_svc_missing = svc_missing.predict(X_test_missing)\n",
    "\n",
    "print(accuracy_score(y_test_missing, y_pred_svc_missing))\n",
    "print(classification_report(y_test_missing, y_pred_svc_missing, target_names=['churn', 'not_churned']))"
   ]
  },
  {
   "cell_type": "code",
   "execution_count": 45,
   "metadata": {},
   "outputs": [],
   "source": [
    "#Applied Support Vector Classifier model to 'dropped' bank churn X and y training data\n",
    "svcparams_dropped , svcScore_dropped , svcTime_dropped = svcmodel(X_train_dropped, y_train_dropped)"
   ]
  },
  {
   "cell_type": "code",
   "execution_count": 46,
   "metadata": {},
   "outputs": [
    {
     "name": "stdout",
     "output_type": "stream",
     "text": [
      "Approximate Support Vector Classifier Model Build Time with GridSearchCV : 40.19 seconds\n",
      "Support Vector Classifier Model Best Parameters given Dropped Dataset: {'C': 10, 'gamma': 'scale', 'kernel': 'rbf'}\n",
      "Support Vector Classifier Model Best Parameter Score given Dropped Dataset: 0.9088633254099859\n"
     ]
    }
   ],
   "source": [
    "print(f\"Approximate Support Vector Classifier Model Build Time with GridSearchCV : {round(svcTime_dropped , 2)} seconds\")\n",
    "print(f\"Support Vector Classifier Model Best Parameters given Dropped Dataset: {svcparams_dropped}\")\n",
    "print(f\"Support Vector Classifier Model Best Parameter Score given Dropped Dataset: {svcScore_dropped}\")"
   ]
  },
  {
   "cell_type": "code",
   "execution_count": 47,
   "metadata": {},
   "outputs": [
    {
     "name": "stdout",
     "output_type": "stream",
     "text": [
      "0.9302870533099004\n",
      "              precision    recall  f1-score   support\n",
      "\n",
      "       churn       0.80      0.69      0.74       244\n",
      " not_churned       0.95      0.97      0.96      1463\n",
      "\n",
      "    accuracy                           0.93      1707\n",
      "   macro avg       0.87      0.83      0.85      1707\n",
      "weighted avg       0.93      0.93      0.93      1707\n",
      "\n"
     ]
    }
   ],
   "source": [
    "#Applying best params for Support Vector Classifier model for X_train_missing and y_train_missing\n",
    "svc_dropped = SVC(C=10, gamma = 'scale', kernel='rbf', random_state=random_state)\n",
    "svc_dropped.fit(X_train_dropped, y_train_dropped.values.ravel())\n",
    "y_pred_svc_dropped = svc_dropped.predict(X_test_dropped)\n",
    "\n",
    "print(accuracy_score(y_test_dropped, y_pred_svc_dropped))\n",
    "print(classification_report(y_test_dropped, y_pred_svc_dropped, target_names=['churn', 'not_churned']))"
   ]
  },
  {
   "cell_type": "markdown",
   "metadata": {},
   "source": [
    "Looking at the above results regarding the Support Vector Classifier model, it seems overall it performs not as well as the Gradient Boosting Classifier model and also performance is slightly lower than the Random Forest Model as per precision and recall for predictability. The accuracy is similar to the Random Forest model. \n",
    "\n",
    "Looking at both the dropped and missing dataset results, it seems for the Support Vector Classifier the trend returns of the dropped dataset having a better accuracy and precision which again might be due to the size of the dataset being smaller in terms of determing overall level of predictions."
   ]
  },
  {
   "cell_type": "markdown",
   "metadata": {},
   "source": [
    "### 5.5.5 Improve Random Forest and GradientBoosting with AdaBoost Classifier"
   ]
  },
  {
   "cell_type": "code",
   "execution_count": 48,
   "metadata": {},
   "outputs": [],
   "source": [
    "#Build AdaBoost Classifier models with each RandomForest and GradientBoosting Models to improve existing models with 5 fold cv with list of estimaros and learning rates.\n",
    "#Each of the AdaBoost Models have the intial base model being the most optimized of each Random Forest or Gradient Boosting \n",
    "#depending on the dropped or missing datasets.\n",
    "def adaboost_decision_missing(X_train, y_train):\n",
    "    start = time.time()\n",
    "    randForest_missing = RandomForestClassifier(n_estimators = 100, random_state=random_state, criterion='entropy', max_depth=9)\n",
    "    adaboostmodel = AdaBoostClassifier(estimator = randForest_missing, random_state=random_state)\n",
    "    params_adaboost = {'n_estimators':[1, 10, 50, 100], 'learning_rate':[0.01, 0.1, 1, 10]}\n",
    "    adaboost_GS = GridSearchCV(estimator = adaboostmodel, param_grid = params_adaboost, cv=5)\n",
    "    adaboost_GS.fit(X_train, y_train.values.ravel())\n",
    "    end = time.time() - start\n",
    "    return adaboost_GS.best_params_ , adaboost_GS.best_score_ , end\n",
    "\n",
    "def adaboost_decision_dropped(X_train, y_train):\n",
    "    start = time.time()\n",
    "    randForest_dropped = RandomForestClassifier(n_estimators = 100, random_state=random_state, criterion='entropy', max_depth=9)\n",
    "    adaboostmodel = AdaBoostClassifier(estimator = randForest_dropped, random_state=random_state)\n",
    "    params_adaboost = {'n_estimators':[1, 10, 50, 100], 'learning_rate':[0.01, 0.1, 1, 10]}\n",
    "    adaboost_GS = GridSearchCV(estimator = adaboostmodel, param_grid = params_adaboost, cv=5)\n",
    "    adaboost_GS.fit(X_train, y_train.values.ravel())\n",
    "    end = time.time() - start\n",
    "    return adaboost_GS.best_params_ , adaboost_GS.best_score_ , end\n",
    "\n",
    "def adaboost_gradient_missing(X_train, y_train):\n",
    "    start = time.time()\n",
    "    gradBoost_missing = GradientBoostingClassifier(n_estimators = 100, learning_rate=0.1, random_state=random_state, criterion='squared_error', max_depth=6)\n",
    "    adaboostmodel = AdaBoostClassifier(estimator = gradBoost_missing, random_state=random_state)\n",
    "    params_adaboost = {'n_estimators':[1, 10, 50, 100], 'learning_rate':[0.01, 0.1, 1, 10]}\n",
    "    adaboost_GS = GridSearchCV(estimator = adaboostmodel, param_grid = params_adaboost, cv=5)\n",
    "    adaboost_GS.fit(X_train, y_train.values.ravel())\n",
    "    end = time.time() - start\n",
    "    return adaboost_GS.best_params_ , adaboost_GS.best_score_ , end\n",
    "\n",
    "def adaboost_gradient_dropped(X_train, y_train):\n",
    "    start = time.time()\n",
    "    gradBoost_dropped = GradientBoostingClassifier(n_estimators = 100, learning_rate=0.1, random_state=random_state, criterion='friedman_mse', max_depth=5)\n",
    "    adaboostmodel = AdaBoostClassifier(estimator = gradBoost_dropped, random_state=random_state)\n",
    "    params_adaboost = {'n_estimators':[1, 10, 50, 100], 'learning_rate':[0.01, 0.1, 1, 10]}\n",
    "    adaboost_GS = GridSearchCV(estimator = adaboostmodel, param_grid = params_adaboost, cv=5)\n",
    "    adaboost_GS.fit(X_train, y_train.values.ravel())\n",
    "    end = time.time() - start\n",
    "    return adaboost_GS.best_params_ , adaboost_GS.best_score_ , end"
   ]
  },
  {
   "cell_type": "code",
   "execution_count": 49,
   "metadata": {
    "scrolled": true
   },
   "outputs": [],
   "source": [
    "#Applied AdaBoost Classifier model with RandomForest Classifier Base Model to 'missing' bank churn X and y training data\n",
    "adaboostparams_decision_missing , adaboostScore_decision_missing , adaBoostTime_decision_missing = adaboost_decision_missing(X_train_missing, y_train_missing)"
   ]
  },
  {
   "cell_type": "code",
   "execution_count": 50,
   "metadata": {},
   "outputs": [
    {
     "name": "stdout",
     "output_type": "stream",
     "text": [
      "Approximate AdaBoost Classifier Model with Random Forest Base Build Time with GridSearchCV : 1535.73 seconds\n",
      "AdaBoost Classifier with Random Forest Base Model Best Parameters given Missing Dataset: {'learning_rate': 1, 'n_estimators': 10}\n",
      "AdaBoost Classifier with RandomForest Base Model Best Parameter Score given Missing Dataset: 0.9624338624338625\n"
     ]
    }
   ],
   "source": [
    "print(f\"Approximate AdaBoost Classifier Model with Random Forest Base Build Time with GridSearchCV : {round(adaBoostTime_decision_missing , 2)} seconds\")\n",
    "print(f\"AdaBoost Classifier with Random Forest Base Model Best Parameters given Missing Dataset: {adaboostparams_decision_missing}\")\n",
    "print(f\"AdaBoost Classifier with RandomForest Base Model Best Parameter Score given Missing Dataset: {adaboostScore_decision_missing}\")"
   ]
  },
  {
   "cell_type": "code",
   "execution_count": 51,
   "metadata": {},
   "outputs": [
    {
     "name": "stdout",
     "output_type": "stream",
     "text": [
      "0.9638009049773756\n",
      "              precision    recall  f1-score   support\n",
      "\n",
      "       churn       0.94      0.80      0.87       360\n",
      " not_churned       0.97      0.99      0.98      2071\n",
      "\n",
      "    accuracy                           0.96      2431\n",
      "   macro avg       0.96      0.90      0.92      2431\n",
      "weighted avg       0.96      0.96      0.96      2431\n",
      "\n"
     ]
    }
   ],
   "source": [
    "#Applying best params for AdaBoostClassifier model for X_train_missing and y_train_missing with RandformForestClassifier Base\n",
    "randForest_missing = RandomForestClassifier(n_estimators = 100, random_state=random_state, criterion='entropy', max_depth=9)\n",
    "adaBoost_decision_missing = AdaBoostClassifier(estimator = randForest_missing, learning_rate=1, n_estimators = 10, random_state=random_state)\n",
    "adaBoost_decision_missing.fit(X_train_missing, y_train_missing.values.ravel())\n",
    "y_pred_adaBoost_decision_missing = adaBoost_decision_missing.predict(X_test_missing)\n",
    "\n",
    "print(accuracy_score(y_test_missing, y_pred_adaBoost_decision_missing))\n",
    "print(classification_report(y_test_missing, y_pred_adaBoost_decision_missing, target_names=['churn', 'not_churned']))"
   ]
  },
  {
   "cell_type": "code",
   "execution_count": 52,
   "metadata": {
    "scrolled": true
   },
   "outputs": [],
   "source": [
    "#Applied AdaBoost Classifier model for RandomForest Classifier Base Model with 'dropped' bank churn X and y training data\n",
    "adaboostparams_decision_dropped , adaboostScore_decision_dropped , adaBoostTime_decision_dropped = adaboost_decision_dropped(X_train_dropped, y_train_dropped)"
   ]
  },
  {
   "cell_type": "code",
   "execution_count": 53,
   "metadata": {},
   "outputs": [
    {
     "name": "stdout",
     "output_type": "stream",
     "text": [
      "Approximate AdaBoost Classifier with RandomForest Base Model Build Time with GridSearchCV : 1171.65 seconds\n",
      "AdaBoost Classifier Model Best Parameters with RandomForest Base given Dropped Dataset: {'learning_rate': 1, 'n_estimators': 10}\n",
      "AdaBoost Classifier Model with RandomForest Base Best Parameter Score given Dropped Dataset: 0.9598298897246584\n"
     ]
    }
   ],
   "source": [
    "print(f\"Approximate AdaBoost Classifier with RandomForest Base Model Build Time with GridSearchCV : {round(adaBoostTime_decision_dropped , 2)} seconds\")\n",
    "print(f\"AdaBoost Classifier Model Best Parameters with RandomForest Base given Dropped Dataset: {adaboostparams_decision_dropped}\")\n",
    "print(f\"AdaBoost Classifier Model with RandomForest Base Best Parameter Score given Dropped Dataset: {adaboostScore_decision_dropped}\")"
   ]
  },
  {
   "cell_type": "code",
   "execution_count": 55,
   "metadata": {},
   "outputs": [
    {
     "name": "stdout",
     "output_type": "stream",
     "text": [
      "0.9619214997070885\n",
      "              precision    recall  f1-score   support\n",
      "\n",
      "       churn       0.96      0.76      0.85       244\n",
      " not_churned       0.96      1.00      0.98      1463\n",
      "\n",
      "    accuracy                           0.96      1707\n",
      "   macro avg       0.96      0.88      0.91      1707\n",
      "weighted avg       0.96      0.96      0.96      1707\n",
      "\n"
     ]
    }
   ],
   "source": [
    "#Applying best params for AdaBoostClassifier model for X_train_dropped and y_train_dropped with RandForestClassifier Base \n",
    "randForest_dropped = RandomForestClassifier(n_estimators = 100, random_state=random_state, criterion='entropy', max_depth=9)\n",
    "adaboost_decision_dropped = AdaBoostClassifier(estimator = randForest_dropped, learning_rate=1, n_estimators=10, random_state=random_state)\n",
    "adaboost_decision_dropped.fit(X_train_dropped, y_train_dropped.values.ravel())\n",
    "y_pred_adaBoost_decision_dropped = adaboost_decision_dropped.predict(X_test_dropped)\n",
    "\n",
    "print(accuracy_score(y_test_dropped, y_pred_adaBoost_decision_dropped))\n",
    "print(classification_report(y_test_dropped, y_pred_adaBoost_decision_dropped, target_names=['churn', 'not_churned']))"
   ]
  },
  {
   "cell_type": "code",
   "execution_count": 56,
   "metadata": {},
   "outputs": [],
   "source": [
    "#Applied AdaBoost Classifier model to 'missing' bank churn X and y training data for GradientBoosting Base Model\n",
    "adaboostparams_gradient_missing , adaboostScore_gradient_missing , adaBoostTime_gradient_missing = adaboost_gradient_missing(X_train_missing, y_train_missing)"
   ]
  },
  {
   "cell_type": "code",
   "execution_count": 57,
   "metadata": {},
   "outputs": [
    {
     "name": "stdout",
     "output_type": "stream",
     "text": [
      "Approximate AdaBoost Classifier Model Build Time with GridSearchCV : 213.5 seconds\n",
      "AdaBoost Classifier Model Best Parameters given Missing Dataset and Gradient Boosting Base: {'learning_rate': 0.01, 'n_estimators': 1}\n",
      "AdaBoost Classifier Model Best Parameter Score given Missing Dataset and Gradient Boosting Base: 0.9679012345679012\n"
     ]
    }
   ],
   "source": [
    "print(f\"Approximate AdaBoost Classifier Model Build Time with GridSearchCV : {round(adaBoostTime_gradient_missing , 2)} seconds\")\n",
    "print(f\"AdaBoost Classifier Model Best Parameters given Missing Dataset and Gradient Boosting Base: {adaboostparams_gradient_missing}\")\n",
    "print(f\"AdaBoost Classifier Model Best Parameter Score given Missing Dataset and Gradient Boosting Base: {adaboostScore_gradient_missing}\")"
   ]
  },
  {
   "cell_type": "code",
   "execution_count": 58,
   "metadata": {},
   "outputs": [
    {
     "name": "stdout",
     "output_type": "stream",
     "text": [
      "0.9691484985602633\n",
      "              precision    recall  f1-score   support\n",
      "\n",
      "       churn       0.93      0.86      0.89       360\n",
      " not_churned       0.98      0.99      0.98      2071\n",
      "\n",
      "    accuracy                           0.97      2431\n",
      "   macro avg       0.95      0.92      0.94      2431\n",
      "weighted avg       0.97      0.97      0.97      2431\n",
      "\n"
     ]
    }
   ],
   "source": [
    "#Applying best params for AdaBoost Classifier model for X_train_missing and y_train_missing with GradientBoosting Base\n",
    "gradBoost_missing = GradientBoostingClassifier(n_estimators = 100, learning_rate=0.1, random_state=random_state, criterion='squared_error', max_depth=6)\n",
    "adaBoost_gradient_missing = AdaBoostClassifier(estimator=gradBoost_missing, learning_rate=0.01, n_estimators=1, random_state=random_state)\n",
    "adaBoost_gradient_missing.fit(X_train_missing, y_train_missing.values.ravel())\n",
    "y_pred_adaBoost_gradient_missing = adaBoost_gradient_missing.predict(X_test_missing)\n",
    "\n",
    "print(accuracy_score(y_test_missing, y_pred_adaBoost_gradient_missing))\n",
    "print(classification_report(y_test_missing, y_pred_adaBoost_gradient_missing, target_names=['churn', 'not_churned']))"
   ]
  },
  {
   "cell_type": "code",
   "execution_count": 59,
   "metadata": {
    "scrolled": true
   },
   "outputs": [],
   "source": [
    "#Applied AdaBoost Classifier model to 'dropped' bank churn X and y training data for GradientBoosting Base Model\n",
    "adaboostparams_gradient_dropped , adaboostScore_gradient_dropped , adaBoostTime_gradient_dropped = adaboost_gradient_dropped(X_train_dropped, y_train_dropped)"
   ]
  },
  {
   "cell_type": "code",
   "execution_count": 60,
   "metadata": {},
   "outputs": [
    {
     "name": "stdout",
     "output_type": "stream",
     "text": [
      "Approximate AdaBoost Classifier Model with Gradient Boosting Base Build Time with GridSearchCV : 926.41 seconds\n",
      "AdaBoost Classifier Model Best Parameters given Dropped Dataset and Gradient Boosting Base: {'learning_rate': 1, 'n_estimators': 10}\n",
      "AdaBoost Classifier Model Best Parameter Score given Dropped Dataset and Gradient Boosting Base: 0.968869441309433\n"
     ]
    }
   ],
   "source": [
    "print(f\"Approximate AdaBoost Classifier Model with Gradient Boosting Base Build Time with GridSearchCV : {round(adaBoostTime_gradient_dropped , 2)} seconds\")\n",
    "print(f\"AdaBoost Classifier Model Best Parameters given Dropped Dataset and Gradient Boosting Base: {adaboostparams_gradient_dropped}\")\n",
    "print(f\"AdaBoost Classifier Model Best Parameter Score given Dropped Dataset and Gradient Boosting Base: {adaboostScore_gradient_dropped}\")"
   ]
  },
  {
   "cell_type": "code",
   "execution_count": 61,
   "metadata": {},
   "outputs": [
    {
     "name": "stdout",
     "output_type": "stream",
     "text": [
      "0.9718804920913884\n",
      "              precision    recall  f1-score   support\n",
      "\n",
      "       churn       0.95      0.85      0.90       244\n",
      " not_churned       0.98      0.99      0.98      1463\n",
      "\n",
      "    accuracy                           0.97      1707\n",
      "   macro avg       0.96      0.92      0.94      1707\n",
      "weighted avg       0.97      0.97      0.97      1707\n",
      "\n"
     ]
    }
   ],
   "source": [
    "#Applying best params for AdaBoost Classifier model model for X_train_missing and y_train_missing with GradientBoosting Base \n",
    "gradBoost_dropped = GradientBoostingClassifier(n_estimators = 100, learning_rate=0.1, random_state=random_state, criterion='friedman_mse', max_depth=5)\n",
    "adaBoost_gradient_dropped = AdaBoostClassifier(estimator=gradBoost_dropped, learning_rate=1, n_estimators=10, random_state=random_state)\n",
    "adaBoost_gradient_dropped.fit(X_train_dropped, y_train_dropped.values.ravel())\n",
    "y_pred_adaBoost_gradient_dropped = adaBoost_gradient_dropped.predict(X_test_dropped)\n",
    "\n",
    "print(accuracy_score(y_test_dropped, y_pred_adaBoost_gradient_dropped))\n",
    "print(classification_report(y_test_dropped, y_pred_adaBoost_gradient_dropped, target_names=['churn', 'not_churned']))"
   ]
  },
  {
   "cell_type": "markdown",
   "metadata": {},
   "source": [
    "It seems adding the AdaBoost Classifier for the respective RandomForest and GradientBoosting Models improved the respective models slightly. And based on the analysis for each of the models, it seems that applying a GradientBoosting Model with AdaBoost Classifer lead to a better performing model that seems to predict churn at a reasonable level of above 0.90 for precision and 0.86 for recall. The model being applied to both the imputed missing and dropped missing datasets gives further confidence that the model seems to perform well in each enviornment of having a 0.95 precision for the dropped dataset and 0.85 regarding recall for predicting churn. "
   ]
  },
  {
   "cell_type": "markdown",
   "metadata": {},
   "source": [
    "### 5.5.6 Neural Network Classifier (Multi-Layer Perceptron)"
   ]
  },
  {
   "cell_type": "markdown",
   "metadata": {},
   "source": [
    "Applying Neural Network Classifier model for X_train and y_train datasets for both missing and dropped."
   ]
  },
  {
   "cell_type": "code",
   "execution_count": 62,
   "metadata": {},
   "outputs": [],
   "source": [
    "#Function to build and retrieve best values for neural network model inputting X_train and y_train datasets for 5 fold cv.\n",
    "def mlpmodel(X_train, y_train):\n",
    "    start = time.time()\n",
    "    mlpmodel = MLPClassifier(random_state=random_state, max_iter=200 , early_stopping=False, verbose=False)\n",
    "    params_mlpmodel = {'hidden_layer_sizes':[(100,)], 'activation':['identity', 'logistic', 'tanh', 'relu'], 'solver':['lbfgs', 'sgd', 'adam'], 'alpha':[0.0001], 'learning_rate':['constant'], 'learning_rate_init':[0.001], 'power_t':[0.1, 0.5, 1], 'beta_1':[0.9], 'beta_2':[0.999]}\n",
    "    mlpmodel_GS = GridSearchCV(estimator = mlpmodel, param_grid = params_mlpmodel, cv=5)\n",
    "    mlpmodel_GS.fit(X_train, y_train.values.ravel())\n",
    "    end = time.time() - start\n",
    "    return mlpmodel_GS.best_params_ , mlpmodel_GS.best_score_ , end"
   ]
  },
  {
   "cell_type": "code",
   "execution_count": 63,
   "metadata": {},
   "outputs": [
    {
     "name": "stderr",
     "output_type": "stream",
     "text": [
      "C:\\Users\\tpooz\\anaconda3\\lib\\site-packages\\sklearn\\neural_network\\_multilayer_perceptron.py:684: ConvergenceWarning: Stochastic Optimizer: Maximum iterations (200) reached and the optimization hasn't converged yet.\n",
      "  warnings.warn(\n",
      "C:\\Users\\tpooz\\anaconda3\\lib\\site-packages\\sklearn\\neural_network\\_multilayer_perceptron.py:684: ConvergenceWarning: Stochastic Optimizer: Maximum iterations (200) reached and the optimization hasn't converged yet.\n",
      "  warnings.warn(\n",
      "C:\\Users\\tpooz\\anaconda3\\lib\\site-packages\\sklearn\\neural_network\\_multilayer_perceptron.py:684: ConvergenceWarning: Stochastic Optimizer: Maximum iterations (200) reached and the optimization hasn't converged yet.\n",
      "  warnings.warn(\n",
      "C:\\Users\\tpooz\\anaconda3\\lib\\site-packages\\sklearn\\neural_network\\_multilayer_perceptron.py:684: ConvergenceWarning: Stochastic Optimizer: Maximum iterations (200) reached and the optimization hasn't converged yet.\n",
      "  warnings.warn(\n",
      "C:\\Users\\tpooz\\anaconda3\\lib\\site-packages\\sklearn\\neural_network\\_multilayer_perceptron.py:684: ConvergenceWarning: Stochastic Optimizer: Maximum iterations (200) reached and the optimization hasn't converged yet.\n",
      "  warnings.warn(\n",
      "C:\\Users\\tpooz\\anaconda3\\lib\\site-packages\\sklearn\\neural_network\\_multilayer_perceptron.py:684: ConvergenceWarning: Stochastic Optimizer: Maximum iterations (200) reached and the optimization hasn't converged yet.\n",
      "  warnings.warn(\n",
      "C:\\Users\\tpooz\\anaconda3\\lib\\site-packages\\sklearn\\neural_network\\_multilayer_perceptron.py:684: ConvergenceWarning: Stochastic Optimizer: Maximum iterations (200) reached and the optimization hasn't converged yet.\n",
      "  warnings.warn(\n",
      "C:\\Users\\tpooz\\anaconda3\\lib\\site-packages\\sklearn\\neural_network\\_multilayer_perceptron.py:684: ConvergenceWarning: Stochastic Optimizer: Maximum iterations (200) reached and the optimization hasn't converged yet.\n",
      "  warnings.warn(\n",
      "C:\\Users\\tpooz\\anaconda3\\lib\\site-packages\\sklearn\\neural_network\\_multilayer_perceptron.py:684: ConvergenceWarning: Stochastic Optimizer: Maximum iterations (200) reached and the optimization hasn't converged yet.\n",
      "  warnings.warn(\n",
      "C:\\Users\\tpooz\\anaconda3\\lib\\site-packages\\sklearn\\neural_network\\_multilayer_perceptron.py:684: ConvergenceWarning: Stochastic Optimizer: Maximum iterations (200) reached and the optimization hasn't converged yet.\n",
      "  warnings.warn(\n",
      "C:\\Users\\tpooz\\anaconda3\\lib\\site-packages\\sklearn\\neural_network\\_multilayer_perceptron.py:684: ConvergenceWarning: Stochastic Optimizer: Maximum iterations (200) reached and the optimization hasn't converged yet.\n",
      "  warnings.warn(\n",
      "C:\\Users\\tpooz\\anaconda3\\lib\\site-packages\\sklearn\\neural_network\\_multilayer_perceptron.py:684: ConvergenceWarning: Stochastic Optimizer: Maximum iterations (200) reached and the optimization hasn't converged yet.\n",
      "  warnings.warn(\n",
      "C:\\Users\\tpooz\\anaconda3\\lib\\site-packages\\sklearn\\neural_network\\_multilayer_perceptron.py:684: ConvergenceWarning: Stochastic Optimizer: Maximum iterations (200) reached and the optimization hasn't converged yet.\n",
      "  warnings.warn(\n",
      "C:\\Users\\tpooz\\anaconda3\\lib\\site-packages\\sklearn\\neural_network\\_multilayer_perceptron.py:684: ConvergenceWarning: Stochastic Optimizer: Maximum iterations (200) reached and the optimization hasn't converged yet.\n",
      "  warnings.warn(\n",
      "C:\\Users\\tpooz\\anaconda3\\lib\\site-packages\\sklearn\\neural_network\\_multilayer_perceptron.py:684: ConvergenceWarning: Stochastic Optimizer: Maximum iterations (200) reached and the optimization hasn't converged yet.\n",
      "  warnings.warn(\n",
      "C:\\Users\\tpooz\\anaconda3\\lib\\site-packages\\sklearn\\neural_network\\_multilayer_perceptron.py:684: ConvergenceWarning: Stochastic Optimizer: Maximum iterations (200) reached and the optimization hasn't converged yet.\n",
      "  warnings.warn(\n",
      "C:\\Users\\tpooz\\anaconda3\\lib\\site-packages\\sklearn\\neural_network\\_multilayer_perceptron.py:684: ConvergenceWarning: Stochastic Optimizer: Maximum iterations (200) reached and the optimization hasn't converged yet.\n",
      "  warnings.warn(\n",
      "C:\\Users\\tpooz\\anaconda3\\lib\\site-packages\\sklearn\\neural_network\\_multilayer_perceptron.py:684: ConvergenceWarning: Stochastic Optimizer: Maximum iterations (200) reached and the optimization hasn't converged yet.\n",
      "  warnings.warn(\n",
      "C:\\Users\\tpooz\\anaconda3\\lib\\site-packages\\sklearn\\neural_network\\_multilayer_perceptron.py:684: ConvergenceWarning: Stochastic Optimizer: Maximum iterations (200) reached and the optimization hasn't converged yet.\n",
      "  warnings.warn(\n",
      "C:\\Users\\tpooz\\anaconda3\\lib\\site-packages\\sklearn\\neural_network\\_multilayer_perceptron.py:684: ConvergenceWarning: Stochastic Optimizer: Maximum iterations (200) reached and the optimization hasn't converged yet.\n",
      "  warnings.warn(\n",
      "C:\\Users\\tpooz\\anaconda3\\lib\\site-packages\\sklearn\\neural_network\\_multilayer_perceptron.py:684: ConvergenceWarning: Stochastic Optimizer: Maximum iterations (200) reached and the optimization hasn't converged yet.\n",
      "  warnings.warn(\n",
      "C:\\Users\\tpooz\\anaconda3\\lib\\site-packages\\sklearn\\neural_network\\_multilayer_perceptron.py:684: ConvergenceWarning: Stochastic Optimizer: Maximum iterations (200) reached and the optimization hasn't converged yet.\n",
      "  warnings.warn(\n",
      "C:\\Users\\tpooz\\anaconda3\\lib\\site-packages\\sklearn\\neural_network\\_multilayer_perceptron.py:684: ConvergenceWarning: Stochastic Optimizer: Maximum iterations (200) reached and the optimization hasn't converged yet.\n",
      "  warnings.warn(\n",
      "C:\\Users\\tpooz\\anaconda3\\lib\\site-packages\\sklearn\\neural_network\\_multilayer_perceptron.py:684: ConvergenceWarning: Stochastic Optimizer: Maximum iterations (200) reached and the optimization hasn't converged yet.\n",
      "  warnings.warn(\n",
      "C:\\Users\\tpooz\\anaconda3\\lib\\site-packages\\sklearn\\neural_network\\_multilayer_perceptron.py:684: ConvergenceWarning: Stochastic Optimizer: Maximum iterations (200) reached and the optimization hasn't converged yet.\n",
      "  warnings.warn(\n",
      "C:\\Users\\tpooz\\anaconda3\\lib\\site-packages\\sklearn\\neural_network\\_multilayer_perceptron.py:684: ConvergenceWarning: Stochastic Optimizer: Maximum iterations (200) reached and the optimization hasn't converged yet.\n",
      "  warnings.warn(\n",
      "C:\\Users\\tpooz\\anaconda3\\lib\\site-packages\\sklearn\\neural_network\\_multilayer_perceptron.py:684: ConvergenceWarning: Stochastic Optimizer: Maximum iterations (200) reached and the optimization hasn't converged yet.\n",
      "  warnings.warn(\n",
      "C:\\Users\\tpooz\\anaconda3\\lib\\site-packages\\sklearn\\neural_network\\_multilayer_perceptron.py:684: ConvergenceWarning: Stochastic Optimizer: Maximum iterations (200) reached and the optimization hasn't converged yet.\n",
      "  warnings.warn(\n",
      "C:\\Users\\tpooz\\anaconda3\\lib\\site-packages\\sklearn\\neural_network\\_multilayer_perceptron.py:684: ConvergenceWarning: Stochastic Optimizer: Maximum iterations (200) reached and the optimization hasn't converged yet.\n",
      "  warnings.warn(\n",
      "C:\\Users\\tpooz\\anaconda3\\lib\\site-packages\\sklearn\\neural_network\\_multilayer_perceptron.py:684: ConvergenceWarning: Stochastic Optimizer: Maximum iterations (200) reached and the optimization hasn't converged yet.\n",
      "  warnings.warn(\n",
      "C:\\Users\\tpooz\\anaconda3\\lib\\site-packages\\sklearn\\neural_network\\_multilayer_perceptron.py:684: ConvergenceWarning: Stochastic Optimizer: Maximum iterations (200) reached and the optimization hasn't converged yet.\n",
      "  warnings.warn(\n",
      "C:\\Users\\tpooz\\anaconda3\\lib\\site-packages\\sklearn\\neural_network\\_multilayer_perceptron.py:684: ConvergenceWarning: Stochastic Optimizer: Maximum iterations (200) reached and the optimization hasn't converged yet.\n",
      "  warnings.warn(\n",
      "C:\\Users\\tpooz\\anaconda3\\lib\\site-packages\\sklearn\\neural_network\\_multilayer_perceptron.py:684: ConvergenceWarning: Stochastic Optimizer: Maximum iterations (200) reached and the optimization hasn't converged yet.\n",
      "  warnings.warn(\n",
      "C:\\Users\\tpooz\\anaconda3\\lib\\site-packages\\sklearn\\neural_network\\_multilayer_perceptron.py:684: ConvergenceWarning: Stochastic Optimizer: Maximum iterations (200) reached and the optimization hasn't converged yet.\n",
      "  warnings.warn(\n",
      "C:\\Users\\tpooz\\anaconda3\\lib\\site-packages\\sklearn\\neural_network\\_multilayer_perceptron.py:684: ConvergenceWarning: Stochastic Optimizer: Maximum iterations (200) reached and the optimization hasn't converged yet.\n",
      "  warnings.warn(\n",
      "C:\\Users\\tpooz\\anaconda3\\lib\\site-packages\\sklearn\\neural_network\\_multilayer_perceptron.py:684: ConvergenceWarning: Stochastic Optimizer: Maximum iterations (200) reached and the optimization hasn't converged yet.\n",
      "  warnings.warn(\n"
     ]
    },
    {
     "name": "stderr",
     "output_type": "stream",
     "text": [
      "C:\\Users\\tpooz\\anaconda3\\lib\\site-packages\\sklearn\\neural_network\\_multilayer_perceptron.py:684: ConvergenceWarning: Stochastic Optimizer: Maximum iterations (200) reached and the optimization hasn't converged yet.\n",
      "  warnings.warn(\n",
      "C:\\Users\\tpooz\\anaconda3\\lib\\site-packages\\sklearn\\neural_network\\_multilayer_perceptron.py:684: ConvergenceWarning: Stochastic Optimizer: Maximum iterations (200) reached and the optimization hasn't converged yet.\n",
      "  warnings.warn(\n",
      "C:\\Users\\tpooz\\anaconda3\\lib\\site-packages\\sklearn\\neural_network\\_multilayer_perceptron.py:684: ConvergenceWarning: Stochastic Optimizer: Maximum iterations (200) reached and the optimization hasn't converged yet.\n",
      "  warnings.warn(\n",
      "C:\\Users\\tpooz\\anaconda3\\lib\\site-packages\\sklearn\\neural_network\\_multilayer_perceptron.py:684: ConvergenceWarning: Stochastic Optimizer: Maximum iterations (200) reached and the optimization hasn't converged yet.\n",
      "  warnings.warn(\n",
      "C:\\Users\\tpooz\\anaconda3\\lib\\site-packages\\sklearn\\neural_network\\_multilayer_perceptron.py:684: ConvergenceWarning: Stochastic Optimizer: Maximum iterations (200) reached and the optimization hasn't converged yet.\n",
      "  warnings.warn(\n",
      "C:\\Users\\tpooz\\anaconda3\\lib\\site-packages\\sklearn\\neural_network\\_multilayer_perceptron.py:684: ConvergenceWarning: Stochastic Optimizer: Maximum iterations (200) reached and the optimization hasn't converged yet.\n",
      "  warnings.warn(\n",
      "C:\\Users\\tpooz\\anaconda3\\lib\\site-packages\\sklearn\\neural_network\\_multilayer_perceptron.py:684: ConvergenceWarning: Stochastic Optimizer: Maximum iterations (200) reached and the optimization hasn't converged yet.\n",
      "  warnings.warn(\n",
      "C:\\Users\\tpooz\\anaconda3\\lib\\site-packages\\sklearn\\neural_network\\_multilayer_perceptron.py:684: ConvergenceWarning: Stochastic Optimizer: Maximum iterations (200) reached and the optimization hasn't converged yet.\n",
      "  warnings.warn(\n",
      "C:\\Users\\tpooz\\anaconda3\\lib\\site-packages\\sklearn\\neural_network\\_multilayer_perceptron.py:684: ConvergenceWarning: Stochastic Optimizer: Maximum iterations (200) reached and the optimization hasn't converged yet.\n",
      "  warnings.warn(\n",
      "C:\\Users\\tpooz\\anaconda3\\lib\\site-packages\\sklearn\\neural_network\\_multilayer_perceptron.py:684: ConvergenceWarning: Stochastic Optimizer: Maximum iterations (200) reached and the optimization hasn't converged yet.\n",
      "  warnings.warn(\n",
      "C:\\Users\\tpooz\\anaconda3\\lib\\site-packages\\sklearn\\neural_network\\_multilayer_perceptron.py:684: ConvergenceWarning: Stochastic Optimizer: Maximum iterations (200) reached and the optimization hasn't converged yet.\n",
      "  warnings.warn(\n",
      "C:\\Users\\tpooz\\anaconda3\\lib\\site-packages\\sklearn\\neural_network\\_multilayer_perceptron.py:684: ConvergenceWarning: Stochastic Optimizer: Maximum iterations (200) reached and the optimization hasn't converged yet.\n",
      "  warnings.warn(\n",
      "C:\\Users\\tpooz\\anaconda3\\lib\\site-packages\\sklearn\\neural_network\\_multilayer_perceptron.py:684: ConvergenceWarning: Stochastic Optimizer: Maximum iterations (200) reached and the optimization hasn't converged yet.\n",
      "  warnings.warn(\n",
      "C:\\Users\\tpooz\\anaconda3\\lib\\site-packages\\sklearn\\neural_network\\_multilayer_perceptron.py:684: ConvergenceWarning: Stochastic Optimizer: Maximum iterations (200) reached and the optimization hasn't converged yet.\n",
      "  warnings.warn(\n",
      "C:\\Users\\tpooz\\anaconda3\\lib\\site-packages\\sklearn\\neural_network\\_multilayer_perceptron.py:684: ConvergenceWarning: Stochastic Optimizer: Maximum iterations (200) reached and the optimization hasn't converged yet.\n",
      "  warnings.warn(\n",
      "C:\\Users\\tpooz\\anaconda3\\lib\\site-packages\\sklearn\\neural_network\\_multilayer_perceptron.py:684: ConvergenceWarning: Stochastic Optimizer: Maximum iterations (200) reached and the optimization hasn't converged yet.\n",
      "  warnings.warn(\n",
      "C:\\Users\\tpooz\\anaconda3\\lib\\site-packages\\sklearn\\neural_network\\_multilayer_perceptron.py:684: ConvergenceWarning: Stochastic Optimizer: Maximum iterations (200) reached and the optimization hasn't converged yet.\n",
      "  warnings.warn(\n",
      "C:\\Users\\tpooz\\anaconda3\\lib\\site-packages\\sklearn\\neural_network\\_multilayer_perceptron.py:684: ConvergenceWarning: Stochastic Optimizer: Maximum iterations (200) reached and the optimization hasn't converged yet.\n",
      "  warnings.warn(\n",
      "C:\\Users\\tpooz\\anaconda3\\lib\\site-packages\\sklearn\\neural_network\\_multilayer_perceptron.py:684: ConvergenceWarning: Stochastic Optimizer: Maximum iterations (200) reached and the optimization hasn't converged yet.\n",
      "  warnings.warn(\n",
      "C:\\Users\\tpooz\\anaconda3\\lib\\site-packages\\sklearn\\neural_network\\_multilayer_perceptron.py:684: ConvergenceWarning: Stochastic Optimizer: Maximum iterations (200) reached and the optimization hasn't converged yet.\n",
      "  warnings.warn(\n",
      "C:\\Users\\tpooz\\anaconda3\\lib\\site-packages\\sklearn\\neural_network\\_multilayer_perceptron.py:684: ConvergenceWarning: Stochastic Optimizer: Maximum iterations (200) reached and the optimization hasn't converged yet.\n",
      "  warnings.warn(\n",
      "C:\\Users\\tpooz\\anaconda3\\lib\\site-packages\\sklearn\\neural_network\\_multilayer_perceptron.py:684: ConvergenceWarning: Stochastic Optimizer: Maximum iterations (200) reached and the optimization hasn't converged yet.\n",
      "  warnings.warn(\n",
      "C:\\Users\\tpooz\\anaconda3\\lib\\site-packages\\sklearn\\neural_network\\_multilayer_perceptron.py:684: ConvergenceWarning: Stochastic Optimizer: Maximum iterations (200) reached and the optimization hasn't converged yet.\n",
      "  warnings.warn(\n",
      "C:\\Users\\tpooz\\anaconda3\\lib\\site-packages\\sklearn\\neural_network\\_multilayer_perceptron.py:684: ConvergenceWarning: Stochastic Optimizer: Maximum iterations (200) reached and the optimization hasn't converged yet.\n",
      "  warnings.warn(\n",
      "C:\\Users\\tpooz\\anaconda3\\lib\\site-packages\\sklearn\\neural_network\\_multilayer_perceptron.py:684: ConvergenceWarning: Stochastic Optimizer: Maximum iterations (200) reached and the optimization hasn't converged yet.\n",
      "  warnings.warn(\n",
      "C:\\Users\\tpooz\\anaconda3\\lib\\site-packages\\sklearn\\neural_network\\_multilayer_perceptron.py:684: ConvergenceWarning: Stochastic Optimizer: Maximum iterations (200) reached and the optimization hasn't converged yet.\n",
      "  warnings.warn(\n",
      "C:\\Users\\tpooz\\anaconda3\\lib\\site-packages\\sklearn\\neural_network\\_multilayer_perceptron.py:684: ConvergenceWarning: Stochastic Optimizer: Maximum iterations (200) reached and the optimization hasn't converged yet.\n",
      "  warnings.warn(\n",
      "C:\\Users\\tpooz\\anaconda3\\lib\\site-packages\\sklearn\\neural_network\\_multilayer_perceptron.py:684: ConvergenceWarning: Stochastic Optimizer: Maximum iterations (200) reached and the optimization hasn't converged yet.\n",
      "  warnings.warn(\n",
      "C:\\Users\\tpooz\\anaconda3\\lib\\site-packages\\sklearn\\neural_network\\_multilayer_perceptron.py:684: ConvergenceWarning: Stochastic Optimizer: Maximum iterations (200) reached and the optimization hasn't converged yet.\n",
      "  warnings.warn(\n",
      "C:\\Users\\tpooz\\anaconda3\\lib\\site-packages\\sklearn\\neural_network\\_multilayer_perceptron.py:684: ConvergenceWarning: Stochastic Optimizer: Maximum iterations (200) reached and the optimization hasn't converged yet.\n",
      "  warnings.warn(\n",
      "C:\\Users\\tpooz\\anaconda3\\lib\\site-packages\\sklearn\\neural_network\\_multilayer_perceptron.py:684: ConvergenceWarning: Stochastic Optimizer: Maximum iterations (200) reached and the optimization hasn't converged yet.\n",
      "  warnings.warn(\n",
      "C:\\Users\\tpooz\\anaconda3\\lib\\site-packages\\sklearn\\neural_network\\_multilayer_perceptron.py:684: ConvergenceWarning: Stochastic Optimizer: Maximum iterations (200) reached and the optimization hasn't converged yet.\n",
      "  warnings.warn(\n",
      "C:\\Users\\tpooz\\anaconda3\\lib\\site-packages\\sklearn\\neural_network\\_multilayer_perceptron.py:684: ConvergenceWarning: Stochastic Optimizer: Maximum iterations (200) reached and the optimization hasn't converged yet.\n",
      "  warnings.warn(\n",
      "C:\\Users\\tpooz\\anaconda3\\lib\\site-packages\\sklearn\\neural_network\\_multilayer_perceptron.py:684: ConvergenceWarning: Stochastic Optimizer: Maximum iterations (200) reached and the optimization hasn't converged yet.\n",
      "  warnings.warn(\n",
      "C:\\Users\\tpooz\\anaconda3\\lib\\site-packages\\sklearn\\neural_network\\_multilayer_perceptron.py:684: ConvergenceWarning: Stochastic Optimizer: Maximum iterations (200) reached and the optimization hasn't converged yet.\n",
      "  warnings.warn(\n",
      "C:\\Users\\tpooz\\anaconda3\\lib\\site-packages\\sklearn\\neural_network\\_multilayer_perceptron.py:684: ConvergenceWarning: Stochastic Optimizer: Maximum iterations (200) reached and the optimization hasn't converged yet.\n",
      "  warnings.warn(\n"
     ]
    },
    {
     "name": "stderr",
     "output_type": "stream",
     "text": [
      "C:\\Users\\tpooz\\anaconda3\\lib\\site-packages\\sklearn\\neural_network\\_multilayer_perceptron.py:684: ConvergenceWarning: Stochastic Optimizer: Maximum iterations (200) reached and the optimization hasn't converged yet.\n",
      "  warnings.warn(\n",
      "C:\\Users\\tpooz\\anaconda3\\lib\\site-packages\\sklearn\\neural_network\\_multilayer_perceptron.py:684: ConvergenceWarning: Stochastic Optimizer: Maximum iterations (200) reached and the optimization hasn't converged yet.\n",
      "  warnings.warn(\n",
      "C:\\Users\\tpooz\\anaconda3\\lib\\site-packages\\sklearn\\neural_network\\_multilayer_perceptron.py:684: ConvergenceWarning: Stochastic Optimizer: Maximum iterations (200) reached and the optimization hasn't converged yet.\n",
      "  warnings.warn(\n",
      "C:\\Users\\tpooz\\anaconda3\\lib\\site-packages\\sklearn\\neural_network\\_multilayer_perceptron.py:684: ConvergenceWarning: Stochastic Optimizer: Maximum iterations (200) reached and the optimization hasn't converged yet.\n",
      "  warnings.warn(\n",
      "C:\\Users\\tpooz\\anaconda3\\lib\\site-packages\\sklearn\\neural_network\\_multilayer_perceptron.py:684: ConvergenceWarning: Stochastic Optimizer: Maximum iterations (200) reached and the optimization hasn't converged yet.\n",
      "  warnings.warn(\n",
      "C:\\Users\\tpooz\\anaconda3\\lib\\site-packages\\sklearn\\neural_network\\_multilayer_perceptron.py:684: ConvergenceWarning: Stochastic Optimizer: Maximum iterations (200) reached and the optimization hasn't converged yet.\n",
      "  warnings.warn(\n",
      "C:\\Users\\tpooz\\anaconda3\\lib\\site-packages\\sklearn\\neural_network\\_multilayer_perceptron.py:684: ConvergenceWarning: Stochastic Optimizer: Maximum iterations (200) reached and the optimization hasn't converged yet.\n",
      "  warnings.warn(\n",
      "C:\\Users\\tpooz\\anaconda3\\lib\\site-packages\\sklearn\\neural_network\\_multilayer_perceptron.py:684: ConvergenceWarning: Stochastic Optimizer: Maximum iterations (200) reached and the optimization hasn't converged yet.\n",
      "  warnings.warn(\n",
      "C:\\Users\\tpooz\\anaconda3\\lib\\site-packages\\sklearn\\neural_network\\_multilayer_perceptron.py:684: ConvergenceWarning: Stochastic Optimizer: Maximum iterations (200) reached and the optimization hasn't converged yet.\n",
      "  warnings.warn(\n",
      "C:\\Users\\tpooz\\anaconda3\\lib\\site-packages\\sklearn\\neural_network\\_multilayer_perceptron.py:684: ConvergenceWarning: Stochastic Optimizer: Maximum iterations (200) reached and the optimization hasn't converged yet.\n",
      "  warnings.warn(\n",
      "C:\\Users\\tpooz\\anaconda3\\lib\\site-packages\\sklearn\\neural_network\\_multilayer_perceptron.py:684: ConvergenceWarning: Stochastic Optimizer: Maximum iterations (200) reached and the optimization hasn't converged yet.\n",
      "  warnings.warn(\n",
      "C:\\Users\\tpooz\\anaconda3\\lib\\site-packages\\sklearn\\neural_network\\_multilayer_perceptron.py:684: ConvergenceWarning: Stochastic Optimizer: Maximum iterations (200) reached and the optimization hasn't converged yet.\n",
      "  warnings.warn(\n",
      "C:\\Users\\tpooz\\anaconda3\\lib\\site-packages\\sklearn\\neural_network\\_multilayer_perceptron.py:684: ConvergenceWarning: Stochastic Optimizer: Maximum iterations (200) reached and the optimization hasn't converged yet.\n",
      "  warnings.warn(\n",
      "C:\\Users\\tpooz\\anaconda3\\lib\\site-packages\\sklearn\\neural_network\\_multilayer_perceptron.py:684: ConvergenceWarning: Stochastic Optimizer: Maximum iterations (200) reached and the optimization hasn't converged yet.\n",
      "  warnings.warn(\n",
      "C:\\Users\\tpooz\\anaconda3\\lib\\site-packages\\sklearn\\neural_network\\_multilayer_perceptron.py:684: ConvergenceWarning: Stochastic Optimizer: Maximum iterations (200) reached and the optimization hasn't converged yet.\n",
      "  warnings.warn(\n",
      "C:\\Users\\tpooz\\anaconda3\\lib\\site-packages\\sklearn\\neural_network\\_multilayer_perceptron.py:684: ConvergenceWarning: Stochastic Optimizer: Maximum iterations (200) reached and the optimization hasn't converged yet.\n",
      "  warnings.warn(\n",
      "C:\\Users\\tpooz\\anaconda3\\lib\\site-packages\\sklearn\\neural_network\\_multilayer_perceptron.py:684: ConvergenceWarning: Stochastic Optimizer: Maximum iterations (200) reached and the optimization hasn't converged yet.\n",
      "  warnings.warn(\n",
      "C:\\Users\\tpooz\\anaconda3\\lib\\site-packages\\sklearn\\neural_network\\_multilayer_perceptron.py:684: ConvergenceWarning: Stochastic Optimizer: Maximum iterations (200) reached and the optimization hasn't converged yet.\n",
      "  warnings.warn(\n",
      "C:\\Users\\tpooz\\anaconda3\\lib\\site-packages\\sklearn\\neural_network\\_multilayer_perceptron.py:684: ConvergenceWarning: Stochastic Optimizer: Maximum iterations (200) reached and the optimization hasn't converged yet.\n",
      "  warnings.warn(\n"
     ]
    }
   ],
   "source": [
    "#Applied MLP Neural Network Classifier model to 'missing' bank churn X and y training data\n",
    "mlpmodelparams_missing , mlpmodelScore_missing, mlpmodelTime_missing = mlpmodel(X_train_missing, y_train_missing)"
   ]
  },
  {
   "cell_type": "code",
   "execution_count": 64,
   "metadata": {},
   "outputs": [
    {
     "name": "stdout",
     "output_type": "stream",
     "text": [
      "Approximate MLP Neural Network Classifier Model Build Time with GridSearchCV : 514.61 seconds\n",
      "MLP Neural Network Classifier Model Best Parameters given Missing Dataset: {'activation': 'logistic', 'alpha': 0.0001, 'beta_1': 0.9, 'beta_2': 0.999, 'hidden_layer_sizes': (100,), 'learning_rate': 'constant', 'learning_rate_init': 0.001, 'power_t': 0.1, 'solver': 'adam'}\n",
      "MLP Neural Network Classifier Model Best Parameter Score given Missing Dataset: 0.928042328042328\n"
     ]
    }
   ],
   "source": [
    "print(f\"Approximate MLP Neural Network Classifier Model Build Time with GridSearchCV : {round(mlpmodelTime_missing , 2)} seconds\")\n",
    "print(f\"MLP Neural Network Classifier Model Best Parameters given Missing Dataset: {mlpmodelparams_missing}\")\n",
    "print(f\"MLP Neural Network Classifier Model Best Parameter Score given Missing Dataset: {mlpmodelScore_missing}\")"
   ]
  },
  {
   "cell_type": "code",
   "execution_count": 65,
   "metadata": {},
   "outputs": [
    {
     "name": "stdout",
     "output_type": "stream",
     "text": [
      "0.9337721102426985\n",
      "              precision    recall  f1-score   support\n",
      "\n",
      "       churn       0.81      0.73      0.76       360\n",
      " not_churned       0.95      0.97      0.96      2071\n",
      "\n",
      "    accuracy                           0.93      2431\n",
      "   macro avg       0.88      0.85      0.86      2431\n",
      "weighted avg       0.93      0.93      0.93      2431\n",
      "\n"
     ]
    },
    {
     "name": "stderr",
     "output_type": "stream",
     "text": [
      "C:\\Users\\tpooz\\anaconda3\\lib\\site-packages\\sklearn\\neural_network\\_multilayer_perceptron.py:684: ConvergenceWarning: Stochastic Optimizer: Maximum iterations (200) reached and the optimization hasn't converged yet.\n",
      "  warnings.warn(\n"
     ]
    }
   ],
   "source": [
    "#Applying best params for MLP Neural Network model model for X_train_missing and y_train_missing\n",
    "mlpmodel_missing = MLPClassifier(hidden_layer_sizes = (100,), activation='logistic', alpha=0.0001, beta_1=0.9, beta_2=0.999, learning_rate='constant', learning_rate_init =0.001, power_t=0.1, solver='adam', random_state=random_state)\n",
    "mlpmodel_missing.fit(X_train_missing, y_train_missing.values.ravel())\n",
    "y_pred_mlpmodel_missing = mlpmodel_missing.predict(X_test_missing)\n",
    "\n",
    "print(accuracy_score(y_test_missing, y_pred_mlpmodel_missing))\n",
    "print(classification_report(y_test_missing, y_pred_mlpmodel_missing, target_names=['churn', 'not_churned']))"
   ]
  },
  {
   "cell_type": "code",
   "execution_count": 66,
   "metadata": {
    "scrolled": true
   },
   "outputs": [
    {
     "name": "stderr",
     "output_type": "stream",
     "text": [
      "C:\\Users\\tpooz\\anaconda3\\lib\\site-packages\\sklearn\\neural_network\\_multilayer_perceptron.py:684: ConvergenceWarning: Stochastic Optimizer: Maximum iterations (200) reached and the optimization hasn't converged yet.\n",
      "  warnings.warn(\n",
      "C:\\Users\\tpooz\\anaconda3\\lib\\site-packages\\sklearn\\neural_network\\_multilayer_perceptron.py:684: ConvergenceWarning: Stochastic Optimizer: Maximum iterations (200) reached and the optimization hasn't converged yet.\n",
      "  warnings.warn(\n",
      "C:\\Users\\tpooz\\anaconda3\\lib\\site-packages\\sklearn\\neural_network\\_multilayer_perceptron.py:684: ConvergenceWarning: Stochastic Optimizer: Maximum iterations (200) reached and the optimization hasn't converged yet.\n",
      "  warnings.warn(\n",
      "C:\\Users\\tpooz\\anaconda3\\lib\\site-packages\\sklearn\\neural_network\\_multilayer_perceptron.py:684: ConvergenceWarning: Stochastic Optimizer: Maximum iterations (200) reached and the optimization hasn't converged yet.\n",
      "  warnings.warn(\n",
      "C:\\Users\\tpooz\\anaconda3\\lib\\site-packages\\sklearn\\neural_network\\_multilayer_perceptron.py:684: ConvergenceWarning: Stochastic Optimizer: Maximum iterations (200) reached and the optimization hasn't converged yet.\n",
      "  warnings.warn(\n",
      "C:\\Users\\tpooz\\anaconda3\\lib\\site-packages\\sklearn\\neural_network\\_multilayer_perceptron.py:684: ConvergenceWarning: Stochastic Optimizer: Maximum iterations (200) reached and the optimization hasn't converged yet.\n",
      "  warnings.warn(\n",
      "C:\\Users\\tpooz\\anaconda3\\lib\\site-packages\\sklearn\\neural_network\\_multilayer_perceptron.py:684: ConvergenceWarning: Stochastic Optimizer: Maximum iterations (200) reached and the optimization hasn't converged yet.\n",
      "  warnings.warn(\n",
      "C:\\Users\\tpooz\\anaconda3\\lib\\site-packages\\sklearn\\neural_network\\_multilayer_perceptron.py:684: ConvergenceWarning: Stochastic Optimizer: Maximum iterations (200) reached and the optimization hasn't converged yet.\n",
      "  warnings.warn(\n",
      "C:\\Users\\tpooz\\anaconda3\\lib\\site-packages\\sklearn\\neural_network\\_multilayer_perceptron.py:684: ConvergenceWarning: Stochastic Optimizer: Maximum iterations (200) reached and the optimization hasn't converged yet.\n",
      "  warnings.warn(\n",
      "C:\\Users\\tpooz\\anaconda3\\lib\\site-packages\\sklearn\\neural_network\\_multilayer_perceptron.py:684: ConvergenceWarning: Stochastic Optimizer: Maximum iterations (200) reached and the optimization hasn't converged yet.\n",
      "  warnings.warn(\n",
      "C:\\Users\\tpooz\\anaconda3\\lib\\site-packages\\sklearn\\neural_network\\_multilayer_perceptron.py:684: ConvergenceWarning: Stochastic Optimizer: Maximum iterations (200) reached and the optimization hasn't converged yet.\n",
      "  warnings.warn(\n",
      "C:\\Users\\tpooz\\anaconda3\\lib\\site-packages\\sklearn\\neural_network\\_multilayer_perceptron.py:684: ConvergenceWarning: Stochastic Optimizer: Maximum iterations (200) reached and the optimization hasn't converged yet.\n",
      "  warnings.warn(\n",
      "C:\\Users\\tpooz\\anaconda3\\lib\\site-packages\\sklearn\\neural_network\\_multilayer_perceptron.py:684: ConvergenceWarning: Stochastic Optimizer: Maximum iterations (200) reached and the optimization hasn't converged yet.\n",
      "  warnings.warn(\n",
      "C:\\Users\\tpooz\\anaconda3\\lib\\site-packages\\sklearn\\neural_network\\_multilayer_perceptron.py:684: ConvergenceWarning: Stochastic Optimizer: Maximum iterations (200) reached and the optimization hasn't converged yet.\n",
      "  warnings.warn(\n",
      "C:\\Users\\tpooz\\anaconda3\\lib\\site-packages\\sklearn\\neural_network\\_multilayer_perceptron.py:684: ConvergenceWarning: Stochastic Optimizer: Maximum iterations (200) reached and the optimization hasn't converged yet.\n",
      "  warnings.warn(\n",
      "C:\\Users\\tpooz\\anaconda3\\lib\\site-packages\\sklearn\\neural_network\\_multilayer_perceptron.py:684: ConvergenceWarning: Stochastic Optimizer: Maximum iterations (200) reached and the optimization hasn't converged yet.\n",
      "  warnings.warn(\n",
      "C:\\Users\\tpooz\\anaconda3\\lib\\site-packages\\sklearn\\neural_network\\_multilayer_perceptron.py:684: ConvergenceWarning: Stochastic Optimizer: Maximum iterations (200) reached and the optimization hasn't converged yet.\n",
      "  warnings.warn(\n",
      "C:\\Users\\tpooz\\anaconda3\\lib\\site-packages\\sklearn\\neural_network\\_multilayer_perceptron.py:684: ConvergenceWarning: Stochastic Optimizer: Maximum iterations (200) reached and the optimization hasn't converged yet.\n",
      "  warnings.warn(\n",
      "C:\\Users\\tpooz\\anaconda3\\lib\\site-packages\\sklearn\\neural_network\\_multilayer_perceptron.py:684: ConvergenceWarning: Stochastic Optimizer: Maximum iterations (200) reached and the optimization hasn't converged yet.\n",
      "  warnings.warn(\n",
      "C:\\Users\\tpooz\\anaconda3\\lib\\site-packages\\sklearn\\neural_network\\_multilayer_perceptron.py:684: ConvergenceWarning: Stochastic Optimizer: Maximum iterations (200) reached and the optimization hasn't converged yet.\n",
      "  warnings.warn(\n",
      "C:\\Users\\tpooz\\anaconda3\\lib\\site-packages\\sklearn\\neural_network\\_multilayer_perceptron.py:684: ConvergenceWarning: Stochastic Optimizer: Maximum iterations (200) reached and the optimization hasn't converged yet.\n",
      "  warnings.warn(\n",
      "C:\\Users\\tpooz\\anaconda3\\lib\\site-packages\\sklearn\\neural_network\\_multilayer_perceptron.py:684: ConvergenceWarning: Stochastic Optimizer: Maximum iterations (200) reached and the optimization hasn't converged yet.\n",
      "  warnings.warn(\n",
      "C:\\Users\\tpooz\\anaconda3\\lib\\site-packages\\sklearn\\neural_network\\_multilayer_perceptron.py:684: ConvergenceWarning: Stochastic Optimizer: Maximum iterations (200) reached and the optimization hasn't converged yet.\n",
      "  warnings.warn(\n",
      "C:\\Users\\tpooz\\anaconda3\\lib\\site-packages\\sklearn\\neural_network\\_multilayer_perceptron.py:684: ConvergenceWarning: Stochastic Optimizer: Maximum iterations (200) reached and the optimization hasn't converged yet.\n",
      "  warnings.warn(\n",
      "C:\\Users\\tpooz\\anaconda3\\lib\\site-packages\\sklearn\\neural_network\\_multilayer_perceptron.py:684: ConvergenceWarning: Stochastic Optimizer: Maximum iterations (200) reached and the optimization hasn't converged yet.\n",
      "  warnings.warn(\n",
      "C:\\Users\\tpooz\\anaconda3\\lib\\site-packages\\sklearn\\neural_network\\_multilayer_perceptron.py:684: ConvergenceWarning: Stochastic Optimizer: Maximum iterations (200) reached and the optimization hasn't converged yet.\n",
      "  warnings.warn(\n",
      "C:\\Users\\tpooz\\anaconda3\\lib\\site-packages\\sklearn\\neural_network\\_multilayer_perceptron.py:684: ConvergenceWarning: Stochastic Optimizer: Maximum iterations (200) reached and the optimization hasn't converged yet.\n",
      "  warnings.warn(\n",
      "C:\\Users\\tpooz\\anaconda3\\lib\\site-packages\\sklearn\\neural_network\\_multilayer_perceptron.py:684: ConvergenceWarning: Stochastic Optimizer: Maximum iterations (200) reached and the optimization hasn't converged yet.\n",
      "  warnings.warn(\n",
      "C:\\Users\\tpooz\\anaconda3\\lib\\site-packages\\sklearn\\neural_network\\_multilayer_perceptron.py:684: ConvergenceWarning: Stochastic Optimizer: Maximum iterations (200) reached and the optimization hasn't converged yet.\n",
      "  warnings.warn(\n",
      "C:\\Users\\tpooz\\anaconda3\\lib\\site-packages\\sklearn\\neural_network\\_multilayer_perceptron.py:684: ConvergenceWarning: Stochastic Optimizer: Maximum iterations (200) reached and the optimization hasn't converged yet.\n",
      "  warnings.warn(\n",
      "C:\\Users\\tpooz\\anaconda3\\lib\\site-packages\\sklearn\\neural_network\\_multilayer_perceptron.py:684: ConvergenceWarning: Stochastic Optimizer: Maximum iterations (200) reached and the optimization hasn't converged yet.\n",
      "  warnings.warn(\n",
      "C:\\Users\\tpooz\\anaconda3\\lib\\site-packages\\sklearn\\neural_network\\_multilayer_perceptron.py:684: ConvergenceWarning: Stochastic Optimizer: Maximum iterations (200) reached and the optimization hasn't converged yet.\n",
      "  warnings.warn(\n",
      "C:\\Users\\tpooz\\anaconda3\\lib\\site-packages\\sklearn\\neural_network\\_multilayer_perceptron.py:684: ConvergenceWarning: Stochastic Optimizer: Maximum iterations (200) reached and the optimization hasn't converged yet.\n",
      "  warnings.warn(\n",
      "C:\\Users\\tpooz\\anaconda3\\lib\\site-packages\\sklearn\\neural_network\\_multilayer_perceptron.py:684: ConvergenceWarning: Stochastic Optimizer: Maximum iterations (200) reached and the optimization hasn't converged yet.\n",
      "  warnings.warn(\n",
      "C:\\Users\\tpooz\\anaconda3\\lib\\site-packages\\sklearn\\neural_network\\_multilayer_perceptron.py:684: ConvergenceWarning: Stochastic Optimizer: Maximum iterations (200) reached and the optimization hasn't converged yet.\n",
      "  warnings.warn(\n",
      "C:\\Users\\tpooz\\anaconda3\\lib\\site-packages\\sklearn\\neural_network\\_multilayer_perceptron.py:684: ConvergenceWarning: Stochastic Optimizer: Maximum iterations (200) reached and the optimization hasn't converged yet.\n",
      "  warnings.warn(\n"
     ]
    },
    {
     "name": "stderr",
     "output_type": "stream",
     "text": [
      "C:\\Users\\tpooz\\anaconda3\\lib\\site-packages\\sklearn\\neural_network\\_multilayer_perceptron.py:684: ConvergenceWarning: Stochastic Optimizer: Maximum iterations (200) reached and the optimization hasn't converged yet.\n",
      "  warnings.warn(\n",
      "C:\\Users\\tpooz\\anaconda3\\lib\\site-packages\\sklearn\\neural_network\\_multilayer_perceptron.py:684: ConvergenceWarning: Stochastic Optimizer: Maximum iterations (200) reached and the optimization hasn't converged yet.\n",
      "  warnings.warn(\n",
      "C:\\Users\\tpooz\\anaconda3\\lib\\site-packages\\sklearn\\neural_network\\_multilayer_perceptron.py:684: ConvergenceWarning: Stochastic Optimizer: Maximum iterations (200) reached and the optimization hasn't converged yet.\n",
      "  warnings.warn(\n",
      "C:\\Users\\tpooz\\anaconda3\\lib\\site-packages\\sklearn\\neural_network\\_multilayer_perceptron.py:684: ConvergenceWarning: Stochastic Optimizer: Maximum iterations (200) reached and the optimization hasn't converged yet.\n",
      "  warnings.warn(\n",
      "C:\\Users\\tpooz\\anaconda3\\lib\\site-packages\\sklearn\\neural_network\\_multilayer_perceptron.py:684: ConvergenceWarning: Stochastic Optimizer: Maximum iterations (200) reached and the optimization hasn't converged yet.\n",
      "  warnings.warn(\n",
      "C:\\Users\\tpooz\\anaconda3\\lib\\site-packages\\sklearn\\neural_network\\_multilayer_perceptron.py:684: ConvergenceWarning: Stochastic Optimizer: Maximum iterations (200) reached and the optimization hasn't converged yet.\n",
      "  warnings.warn(\n",
      "C:\\Users\\tpooz\\anaconda3\\lib\\site-packages\\sklearn\\neural_network\\_multilayer_perceptron.py:684: ConvergenceWarning: Stochastic Optimizer: Maximum iterations (200) reached and the optimization hasn't converged yet.\n",
      "  warnings.warn(\n",
      "C:\\Users\\tpooz\\anaconda3\\lib\\site-packages\\sklearn\\neural_network\\_multilayer_perceptron.py:684: ConvergenceWarning: Stochastic Optimizer: Maximum iterations (200) reached and the optimization hasn't converged yet.\n",
      "  warnings.warn(\n",
      "C:\\Users\\tpooz\\anaconda3\\lib\\site-packages\\sklearn\\neural_network\\_multilayer_perceptron.py:684: ConvergenceWarning: Stochastic Optimizer: Maximum iterations (200) reached and the optimization hasn't converged yet.\n",
      "  warnings.warn(\n",
      "C:\\Users\\tpooz\\anaconda3\\lib\\site-packages\\sklearn\\neural_network\\_multilayer_perceptron.py:684: ConvergenceWarning: Stochastic Optimizer: Maximum iterations (200) reached and the optimization hasn't converged yet.\n",
      "  warnings.warn(\n",
      "C:\\Users\\tpooz\\anaconda3\\lib\\site-packages\\sklearn\\neural_network\\_multilayer_perceptron.py:684: ConvergenceWarning: Stochastic Optimizer: Maximum iterations (200) reached and the optimization hasn't converged yet.\n",
      "  warnings.warn(\n",
      "C:\\Users\\tpooz\\anaconda3\\lib\\site-packages\\sklearn\\neural_network\\_multilayer_perceptron.py:684: ConvergenceWarning: Stochastic Optimizer: Maximum iterations (200) reached and the optimization hasn't converged yet.\n",
      "  warnings.warn(\n",
      "C:\\Users\\tpooz\\anaconda3\\lib\\site-packages\\sklearn\\neural_network\\_multilayer_perceptron.py:684: ConvergenceWarning: Stochastic Optimizer: Maximum iterations (200) reached and the optimization hasn't converged yet.\n",
      "  warnings.warn(\n",
      "C:\\Users\\tpooz\\anaconda3\\lib\\site-packages\\sklearn\\neural_network\\_multilayer_perceptron.py:684: ConvergenceWarning: Stochastic Optimizer: Maximum iterations (200) reached and the optimization hasn't converged yet.\n",
      "  warnings.warn(\n",
      "C:\\Users\\tpooz\\anaconda3\\lib\\site-packages\\sklearn\\neural_network\\_multilayer_perceptron.py:684: ConvergenceWarning: Stochastic Optimizer: Maximum iterations (200) reached and the optimization hasn't converged yet.\n",
      "  warnings.warn(\n",
      "C:\\Users\\tpooz\\anaconda3\\lib\\site-packages\\sklearn\\neural_network\\_multilayer_perceptron.py:684: ConvergenceWarning: Stochastic Optimizer: Maximum iterations (200) reached and the optimization hasn't converged yet.\n",
      "  warnings.warn(\n",
      "C:\\Users\\tpooz\\anaconda3\\lib\\site-packages\\sklearn\\neural_network\\_multilayer_perceptron.py:684: ConvergenceWarning: Stochastic Optimizer: Maximum iterations (200) reached and the optimization hasn't converged yet.\n",
      "  warnings.warn(\n",
      "C:\\Users\\tpooz\\anaconda3\\lib\\site-packages\\sklearn\\neural_network\\_multilayer_perceptron.py:684: ConvergenceWarning: Stochastic Optimizer: Maximum iterations (200) reached and the optimization hasn't converged yet.\n",
      "  warnings.warn(\n",
      "C:\\Users\\tpooz\\anaconda3\\lib\\site-packages\\sklearn\\neural_network\\_multilayer_perceptron.py:684: ConvergenceWarning: Stochastic Optimizer: Maximum iterations (200) reached and the optimization hasn't converged yet.\n",
      "  warnings.warn(\n",
      "C:\\Users\\tpooz\\anaconda3\\lib\\site-packages\\sklearn\\neural_network\\_multilayer_perceptron.py:684: ConvergenceWarning: Stochastic Optimizer: Maximum iterations (200) reached and the optimization hasn't converged yet.\n",
      "  warnings.warn(\n",
      "C:\\Users\\tpooz\\anaconda3\\lib\\site-packages\\sklearn\\neural_network\\_multilayer_perceptron.py:684: ConvergenceWarning: Stochastic Optimizer: Maximum iterations (200) reached and the optimization hasn't converged yet.\n",
      "  warnings.warn(\n",
      "C:\\Users\\tpooz\\anaconda3\\lib\\site-packages\\sklearn\\neural_network\\_multilayer_perceptron.py:684: ConvergenceWarning: Stochastic Optimizer: Maximum iterations (200) reached and the optimization hasn't converged yet.\n",
      "  warnings.warn(\n",
      "C:\\Users\\tpooz\\anaconda3\\lib\\site-packages\\sklearn\\neural_network\\_multilayer_perceptron.py:684: ConvergenceWarning: Stochastic Optimizer: Maximum iterations (200) reached and the optimization hasn't converged yet.\n",
      "  warnings.warn(\n",
      "C:\\Users\\tpooz\\anaconda3\\lib\\site-packages\\sklearn\\neural_network\\_multilayer_perceptron.py:684: ConvergenceWarning: Stochastic Optimizer: Maximum iterations (200) reached and the optimization hasn't converged yet.\n",
      "  warnings.warn(\n",
      "C:\\Users\\tpooz\\anaconda3\\lib\\site-packages\\sklearn\\neural_network\\_multilayer_perceptron.py:684: ConvergenceWarning: Stochastic Optimizer: Maximum iterations (200) reached and the optimization hasn't converged yet.\n",
      "  warnings.warn(\n",
      "C:\\Users\\tpooz\\anaconda3\\lib\\site-packages\\sklearn\\neural_network\\_multilayer_perceptron.py:684: ConvergenceWarning: Stochastic Optimizer: Maximum iterations (200) reached and the optimization hasn't converged yet.\n",
      "  warnings.warn(\n",
      "C:\\Users\\tpooz\\anaconda3\\lib\\site-packages\\sklearn\\neural_network\\_multilayer_perceptron.py:684: ConvergenceWarning: Stochastic Optimizer: Maximum iterations (200) reached and the optimization hasn't converged yet.\n",
      "  warnings.warn(\n",
      "C:\\Users\\tpooz\\anaconda3\\lib\\site-packages\\sklearn\\neural_network\\_multilayer_perceptron.py:684: ConvergenceWarning: Stochastic Optimizer: Maximum iterations (200) reached and the optimization hasn't converged yet.\n",
      "  warnings.warn(\n",
      "C:\\Users\\tpooz\\anaconda3\\lib\\site-packages\\sklearn\\neural_network\\_multilayer_perceptron.py:684: ConvergenceWarning: Stochastic Optimizer: Maximum iterations (200) reached and the optimization hasn't converged yet.\n",
      "  warnings.warn(\n",
      "C:\\Users\\tpooz\\anaconda3\\lib\\site-packages\\sklearn\\neural_network\\_multilayer_perceptron.py:684: ConvergenceWarning: Stochastic Optimizer: Maximum iterations (200) reached and the optimization hasn't converged yet.\n",
      "  warnings.warn(\n",
      "C:\\Users\\tpooz\\anaconda3\\lib\\site-packages\\sklearn\\neural_network\\_multilayer_perceptron.py:684: ConvergenceWarning: Stochastic Optimizer: Maximum iterations (200) reached and the optimization hasn't converged yet.\n",
      "  warnings.warn(\n",
      "C:\\Users\\tpooz\\anaconda3\\lib\\site-packages\\sklearn\\neural_network\\_multilayer_perceptron.py:684: ConvergenceWarning: Stochastic Optimizer: Maximum iterations (200) reached and the optimization hasn't converged yet.\n",
      "  warnings.warn(\n",
      "C:\\Users\\tpooz\\anaconda3\\lib\\site-packages\\sklearn\\neural_network\\_multilayer_perceptron.py:684: ConvergenceWarning: Stochastic Optimizer: Maximum iterations (200) reached and the optimization hasn't converged yet.\n",
      "  warnings.warn(\n",
      "C:\\Users\\tpooz\\anaconda3\\lib\\site-packages\\sklearn\\neural_network\\_multilayer_perceptron.py:684: ConvergenceWarning: Stochastic Optimizer: Maximum iterations (200) reached and the optimization hasn't converged yet.\n",
      "  warnings.warn(\n",
      "C:\\Users\\tpooz\\anaconda3\\lib\\site-packages\\sklearn\\neural_network\\_multilayer_perceptron.py:684: ConvergenceWarning: Stochastic Optimizer: Maximum iterations (200) reached and the optimization hasn't converged yet.\n",
      "  warnings.warn(\n",
      "C:\\Users\\tpooz\\anaconda3\\lib\\site-packages\\sklearn\\neural_network\\_multilayer_perceptron.py:684: ConvergenceWarning: Stochastic Optimizer: Maximum iterations (200) reached and the optimization hasn't converged yet.\n",
      "  warnings.warn(\n"
     ]
    },
    {
     "name": "stderr",
     "output_type": "stream",
     "text": [
      "C:\\Users\\tpooz\\anaconda3\\lib\\site-packages\\sklearn\\neural_network\\_multilayer_perceptron.py:684: ConvergenceWarning: Stochastic Optimizer: Maximum iterations (200) reached and the optimization hasn't converged yet.\n",
      "  warnings.warn(\n",
      "C:\\Users\\tpooz\\anaconda3\\lib\\site-packages\\sklearn\\neural_network\\_multilayer_perceptron.py:684: ConvergenceWarning: Stochastic Optimizer: Maximum iterations (200) reached and the optimization hasn't converged yet.\n",
      "  warnings.warn(\n",
      "C:\\Users\\tpooz\\anaconda3\\lib\\site-packages\\sklearn\\neural_network\\_multilayer_perceptron.py:684: ConvergenceWarning: Stochastic Optimizer: Maximum iterations (200) reached and the optimization hasn't converged yet.\n",
      "  warnings.warn(\n",
      "C:\\Users\\tpooz\\anaconda3\\lib\\site-packages\\sklearn\\neural_network\\_multilayer_perceptron.py:684: ConvergenceWarning: Stochastic Optimizer: Maximum iterations (200) reached and the optimization hasn't converged yet.\n",
      "  warnings.warn(\n",
      "C:\\Users\\tpooz\\anaconda3\\lib\\site-packages\\sklearn\\neural_network\\_multilayer_perceptron.py:684: ConvergenceWarning: Stochastic Optimizer: Maximum iterations (200) reached and the optimization hasn't converged yet.\n",
      "  warnings.warn(\n",
      "C:\\Users\\tpooz\\anaconda3\\lib\\site-packages\\sklearn\\neural_network\\_multilayer_perceptron.py:684: ConvergenceWarning: Stochastic Optimizer: Maximum iterations (200) reached and the optimization hasn't converged yet.\n",
      "  warnings.warn(\n",
      "C:\\Users\\tpooz\\anaconda3\\lib\\site-packages\\sklearn\\neural_network\\_multilayer_perceptron.py:684: ConvergenceWarning: Stochastic Optimizer: Maximum iterations (200) reached and the optimization hasn't converged yet.\n",
      "  warnings.warn(\n",
      "C:\\Users\\tpooz\\anaconda3\\lib\\site-packages\\sklearn\\neural_network\\_multilayer_perceptron.py:684: ConvergenceWarning: Stochastic Optimizer: Maximum iterations (200) reached and the optimization hasn't converged yet.\n",
      "  warnings.warn(\n",
      "C:\\Users\\tpooz\\anaconda3\\lib\\site-packages\\sklearn\\neural_network\\_multilayer_perceptron.py:684: ConvergenceWarning: Stochastic Optimizer: Maximum iterations (200) reached and the optimization hasn't converged yet.\n",
      "  warnings.warn(\n",
      "C:\\Users\\tpooz\\anaconda3\\lib\\site-packages\\sklearn\\neural_network\\_multilayer_perceptron.py:684: ConvergenceWarning: Stochastic Optimizer: Maximum iterations (200) reached and the optimization hasn't converged yet.\n",
      "  warnings.warn(\n",
      "C:\\Users\\tpooz\\anaconda3\\lib\\site-packages\\sklearn\\neural_network\\_multilayer_perceptron.py:684: ConvergenceWarning: Stochastic Optimizer: Maximum iterations (200) reached and the optimization hasn't converged yet.\n",
      "  warnings.warn(\n",
      "C:\\Users\\tpooz\\anaconda3\\lib\\site-packages\\sklearn\\neural_network\\_multilayer_perceptron.py:684: ConvergenceWarning: Stochastic Optimizer: Maximum iterations (200) reached and the optimization hasn't converged yet.\n",
      "  warnings.warn(\n",
      "C:\\Users\\tpooz\\anaconda3\\lib\\site-packages\\sklearn\\neural_network\\_multilayer_perceptron.py:684: ConvergenceWarning: Stochastic Optimizer: Maximum iterations (200) reached and the optimization hasn't converged yet.\n",
      "  warnings.warn(\n",
      "C:\\Users\\tpooz\\anaconda3\\lib\\site-packages\\sklearn\\neural_network\\_multilayer_perceptron.py:684: ConvergenceWarning: Stochastic Optimizer: Maximum iterations (200) reached and the optimization hasn't converged yet.\n",
      "  warnings.warn(\n",
      "C:\\Users\\tpooz\\anaconda3\\lib\\site-packages\\sklearn\\neural_network\\_multilayer_perceptron.py:684: ConvergenceWarning: Stochastic Optimizer: Maximum iterations (200) reached and the optimization hasn't converged yet.\n",
      "  warnings.warn(\n",
      "C:\\Users\\tpooz\\anaconda3\\lib\\site-packages\\sklearn\\neural_network\\_multilayer_perceptron.py:684: ConvergenceWarning: Stochastic Optimizer: Maximum iterations (200) reached and the optimization hasn't converged yet.\n",
      "  warnings.warn(\n",
      "C:\\Users\\tpooz\\anaconda3\\lib\\site-packages\\sklearn\\neural_network\\_multilayer_perceptron.py:684: ConvergenceWarning: Stochastic Optimizer: Maximum iterations (200) reached and the optimization hasn't converged yet.\n",
      "  warnings.warn(\n",
      "C:\\Users\\tpooz\\anaconda3\\lib\\site-packages\\sklearn\\neural_network\\_multilayer_perceptron.py:684: ConvergenceWarning: Stochastic Optimizer: Maximum iterations (200) reached and the optimization hasn't converged yet.\n",
      "  warnings.warn(\n",
      "C:\\Users\\tpooz\\anaconda3\\lib\\site-packages\\sklearn\\neural_network\\_multilayer_perceptron.py:684: ConvergenceWarning: Stochastic Optimizer: Maximum iterations (200) reached and the optimization hasn't converged yet.\n",
      "  warnings.warn(\n"
     ]
    }
   ],
   "source": [
    "#Applied MLP Neural Network Classifier model to 'dropped' bank churn X and y training data\n",
    "mlpmodelparams_dropped , mlpmodelScore_dropped, mlpmodelTime_dropped = mlpmodel(X_train_dropped, y_train_dropped)"
   ]
  },
  {
   "cell_type": "code",
   "execution_count": 67,
   "metadata": {},
   "outputs": [
    {
     "name": "stdout",
     "output_type": "stream",
     "text": [
      "Approximate MLP Neural Network Classifier Model Build Time with GridSearchCV : 351.12 seconds\n",
      "MLP Neural Network Classifier Model Best Parameters given Dropped Dataset: {'activation': 'logistic', 'alpha': 0.0001, 'beta_1': 0.9, 'beta_2': 0.999, 'hidden_layer_sizes': (100,), 'learning_rate': 'constant', 'learning_rate_init': 0.001, 'power_t': 0.1, 'solver': 'adam'}\n",
      "MLP Neural Network Classifier Model Best Parameter Score given Dropped Dataset: 0.9163959698114159\n"
     ]
    }
   ],
   "source": [
    "print(f\"Approximate MLP Neural Network Classifier Model Build Time with GridSearchCV : {round(mlpmodelTime_dropped , 2)} seconds\")\n",
    "print(f\"MLP Neural Network Classifier Model Best Parameters given Dropped Dataset: {mlpmodelparams_dropped}\")\n",
    "print(f\"MLP Neural Network Classifier Model Best Parameter Score given Dropped Dataset: {mlpmodelScore_dropped}\")"
   ]
  },
  {
   "cell_type": "code",
   "execution_count": 68,
   "metadata": {},
   "outputs": [
    {
     "name": "stdout",
     "output_type": "stream",
     "text": [
      "0.9373169302870533\n",
      "              precision    recall  f1-score   support\n",
      "\n",
      "       churn       0.83      0.71      0.76       244\n",
      " not_churned       0.95      0.98      0.96      1463\n",
      "\n",
      "    accuracy                           0.94      1707\n",
      "   macro avg       0.89      0.84      0.86      1707\n",
      "weighted avg       0.93      0.94      0.94      1707\n",
      "\n"
     ]
    },
    {
     "name": "stderr",
     "output_type": "stream",
     "text": [
      "C:\\Users\\tpooz\\anaconda3\\lib\\site-packages\\sklearn\\neural_network\\_multilayer_perceptron.py:684: ConvergenceWarning: Stochastic Optimizer: Maximum iterations (200) reached and the optimization hasn't converged yet.\n",
      "  warnings.warn(\n"
     ]
    }
   ],
   "source": [
    "#Applying best params for MLP Neural Network model model for X_train_dropped and y_train_dropped\n",
    "mlpmodel_dropped = MLPClassifier(hidden_layer_sizes = (100,), activation='logistic', alpha=0.0001, beta_1 = 0.9, beta_2=0.999, learning_rate='constant', learning_rate_init=0.001, power_t=0.1, solver='adam', random_state=random_state)\n",
    "mlpmodel_dropped.fit(X_train_dropped, y_train_dropped.values.ravel())\n",
    "y_pred_mlpmodel_dropped = mlpmodel_dropped.predict(X_test_dropped)\n",
    "\n",
    "print(accuracy_score(y_test_dropped, y_pred_mlpmodel_dropped))\n",
    "print(classification_report(y_test_dropped, y_pred_mlpmodel_dropped, target_names=['churn', 'not_churned']))"
   ]
  },
  {
   "cell_type": "markdown",
   "metadata": {},
   "source": [
    "A note to mention regarding apply the MLP Neural Network model, it seems further tuning needs to be implemented in order to further optimized predictability of the model, however this will be noted down in future work in terms of potentially returning a more fine tuned Neural Network model for assessing predictability for bank churn datasets."
   ]
  },
  {
   "cell_type": "markdown",
   "metadata": {},
   "source": [
    "## 5.6 Compile and Assess Model Performance"
   ]
  },
  {
   "cell_type": "markdown",
   "metadata": {},
   "source": [
    "### 5.6.1 Retrieve ROC AUC Scores and Plot Curves"
   ]
  },
  {
   "cell_type": "markdown",
   "metadata": {},
   "source": [
    "To further assess each model's performance, the ROC AUC scores as well as plotted curves will be produced. This will provide another metric to assess overall model performing predictibility power regarding the specified test datasets."
   ]
  },
  {
   "cell_type": "code",
   "execution_count": 177,
   "metadata": {},
   "outputs": [
    {
     "data": {
      "text/plain": [
       "array([1, 1, 1, ..., 1, 1, 1], dtype=int64)"
      ]
     },
     "execution_count": 177,
     "metadata": {},
     "output_type": "execute_result"
    }
   ],
   "source": [
    "#Retreiving each model's predicted values given associated test values compared to.\n",
    "y_pred_log_missing\n",
    "y_pred_log_dropped\n",
    "y_pred_randForest_missing\n",
    "y_pred_randForest_dropped\n",
    "y_pred_gradBoost_missing\n",
    "y_pred_gradBoost_dropped\n",
    "y_pred_svc_missing\n",
    "y_pred_svc_dropped\n",
    "y_pred_adaBoost_decision_missing\n",
    "y_pred_adaBoost_decision_dropped\n",
    "y_pred_adaBoost_gradient_missing\n",
    "y_pred_adaBoost_gradient_dropped\n",
    "y_pred_mlpmodel_missing\n",
    "y_pred_mlpmodel_dropped"
   ]
  },
  {
   "cell_type": "code",
   "execution_count": 69,
   "metadata": {},
   "outputs": [],
   "source": [
    "#Designed function from sklearn documentation to retrieve ROC AUC value and Curve\n",
    "def roccurveplot(y_true , y_predict, name):\n",
    "    fpr, tpr, thresholds = roc_curve(y_true , y_predict)\n",
    "    roc_auc = auc(fpr, tpr)\n",
    "    display = RocCurveDisplay(fpr=fpr, tpr=tpr, roc_auc=roc_auc , estimator_name=name)\n",
    "    display.plot()\n",
    "    plt.show()\n",
    "    return roc_auc"
   ]
  },
  {
   "cell_type": "code",
   "execution_count": 100,
   "metadata": {},
   "outputs": [
    {
     "data": {
      "image/png": "[encoded data removed]",
      "text/plain": [
       "<Figure size 640x480 with 1 Axes>"
      ]
     },
     "metadata": {},
     "output_type": "display_data"
    },
    {
     "name": "stdout",
     "output_type": "stream",
     "text": [
      "0.7716877246633403\n"
     ]
    }
   ],
   "source": [
    "#Plot ROC curve for Logistic Regression Model for missing and dropped datasets\n",
    "roc_auc_log_missing = roccurveplot(y_test_missing,y_pred_log_missing, 'Logistic Regression w/ Missing Dataset')\n",
    "print(roc_auc_log_missing)"
   ]
  },
  {
   "cell_type": "code",
   "execution_count": 101,
   "metadata": {},
   "outputs": [
    {
     "data": {
      "image/png": "[encoded data removed]",
      "text/plain": [
       "<Figure size 640x480 with 1 Axes>"
      ]
     },
     "metadata": {},
     "output_type": "display_data"
    },
    {
     "name": "stdout",
     "output_type": "stream",
     "text": [
      "0.7776534294006253\n"
     ]
    }
   ],
   "source": [
    "roc_auc_log_dropped = roccurveplot(y_test_dropped,y_pred_log_dropped, 'Logistic Regression w/ Dropped Dataset')\n",
    "print(roc_auc_log_dropped)"
   ]
  },
  {
   "cell_type": "code",
   "execution_count": 102,
   "metadata": {},
   "outputs": [
    {
     "data": {
      "image/png": "[encoded data removed]",
      "text/plain": [
       "<Figure size 640x480 with 1 Axes>"
      ]
     },
     "metadata": {},
     "output_type": "display_data"
    },
    {
     "name": "stdout",
     "output_type": "stream",
     "text": [
      "0.8300156929019797\n"
     ]
    }
   ],
   "source": [
    "roc_auc_randForest_missing = roccurveplot(y_test_missing,y_pred_randForest_missing, 'Random Forest Classifier w/ Missing Dataset')\n",
    "print(roc_auc_randForest_missing)"
   ]
  },
  {
   "cell_type": "code",
   "execution_count": 103,
   "metadata": {},
   "outputs": [
    {
     "data": {
      "image/png": "[encoded data removed]",
      "text/plain": [
       "<Figure size 640x480 with 1 Axes>"
      ]
     },
     "metadata": {},
     "output_type": "display_data"
    },
    {
     "name": "stdout",
     "output_type": "stream",
     "text": [
      "0.835722409600753\n"
     ]
    }
   ],
   "source": [
    "roc_auc_randForest_dropped = roccurveplot(y_test_dropped,y_pred_randForest_dropped, 'Random Forest Classifier w/ Dropped Dataset')\n",
    "print(roc_auc_randForest_dropped)"
   ]
  },
  {
   "cell_type": "code",
   "execution_count": 104,
   "metadata": {},
   "outputs": [
    {
     "data": {
      "image/png": "[encoded data removed]",
      "text/plain": [
       "<Figure size 640x480 with 1 Axes>"
      ]
     },
     "metadata": {},
     "output_type": "display_data"
    },
    {
     "name": "stdout",
     "output_type": "stream",
     "text": [
      "0.9192056977305649\n"
     ]
    }
   ],
   "source": [
    "roc_auc_gradBoost_missing = roccurveplot(y_test_missing,y_pred_gradBoost_missing, 'Gradient Boosting Classifier w/ Missing Dataset')\n",
    "print(roc_auc_gradBoost_missing)"
   ]
  },
  {
   "cell_type": "code",
   "execution_count": 105,
   "metadata": {},
   "outputs": [
    {
     "data": {
      "image/png": "[encoded data removed]",
      "text/plain": [
       "<Figure size 640x480 with 1 Axes>"
      ]
     },
     "metadata": {},
     "output_type": "display_data"
    },
    {
     "name": "stdout",
     "output_type": "stream",
     "text": [
      "0.9132480978900307\n"
     ]
    }
   ],
   "source": [
    "roc_auc_gradBoost_dropped = roccurveplot(y_test_dropped,y_pred_gradBoost_dropped, 'Gradient Boosting Classifier w/ Dropped Dataset')\n",
    "print(roc_auc_gradBoost_dropped)"
   ]
  },
  {
   "cell_type": "code",
   "execution_count": 91,
   "metadata": {},
   "outputs": [
    {
     "data": {
      "image/png": "[encoded data removed]",
      "text/plain": [
       "<Figure size 640x480 with 1 Axes>"
      ]
     },
     "metadata": {},
     "output_type": "display_data"
    },
    {
     "name": "stdout",
     "output_type": "stream",
     "text": [
      "0.8231389827780461\n"
     ]
    }
   ],
   "source": [
    "roc_auc_svc_missing = roccurveplot(y_test_missing,y_pred_svc_missing, 'Support Vector Classifier w/ Missing Dataset')\n",
    "print(roc_auc_svc_missing)"
   ]
  },
  {
   "cell_type": "code",
   "execution_count": 92,
   "metadata": {},
   "outputs": [
    {
     "data": {
      "image/png": "[encoded data removed]",
      "text/plain": [
       "<Figure size 640x480 with 1 Axes>"
      ]
     },
     "metadata": {},
     "output_type": "display_data"
    },
    {
     "name": "stdout",
     "output_type": "stream",
     "text": [
      "0.8295664645966631\n"
     ]
    }
   ],
   "source": [
    "roc_auc_svc_dropped = roccurveplot(y_test_dropped,y_pred_svc_dropped, 'Support Vector Classifier w/ Dropped Dataset')\n",
    "print(roc_auc_svc_dropped)"
   ]
  },
  {
   "cell_type": "code",
   "execution_count": 93,
   "metadata": {},
   "outputs": [
    {
     "data": {
      "image/png": "[encoded data removed]",
      "text/plain": [
       "<Figure size 640x480 with 1 Axes>"
      ]
     },
     "metadata": {},
     "output_type": "display_data"
    },
    {
     "name": "stdout",
     "output_type": "stream",
     "text": [
      "0.8972845914480391\n"
     ]
    }
   ],
   "source": [
    "roc_auc_adaBoost_randForest_missing = roccurveplot(y_test_missing,y_pred_adaBoost_decision_missing, 'AdaBoost RandomForest w/ Missing Dataset')\n",
    "print(roc_auc_adaBoost_randForest_missing)"
   ]
  },
  {
   "cell_type": "code",
   "execution_count": 94,
   "metadata": {},
   "outputs": [
    {
     "data": {
      "image/png": "[encoded data removed]",
      "text/plain": [
       "<Figure size 640x480 with 1 Axes>"
      ]
     },
     "metadata": {},
     "output_type": "display_data"
    },
    {
     "name": "stdout",
     "output_type": "stream",
     "text": [
      "0.878755196485999\n"
     ]
    }
   ],
   "source": [
    "roc_auc_adaBoost_randForest_dropped = roccurveplot(y_test_dropped,y_pred_adaBoost_decision_dropped, 'AdaBoost RandomForest w/ Dropped Dataset')\n",
    "print(roc_auc_adaBoost_randForest_dropped)"
   ]
  },
  {
   "cell_type": "code",
   "execution_count": 95,
   "metadata": {},
   "outputs": [
    {
     "data": {
      "image/png": "[encoded data removed]",
      "text/plain": [
       "<Figure size 640x480 with 1 Axes>"
      ]
     },
     "metadata": {},
     "output_type": "display_data"
    },
    {
     "name": "stdout",
     "output_type": "stream",
     "text": [
      "0.9222249047695692\n"
     ]
    }
   ],
   "source": [
    "roc_auc_adaBoost_gradBoost_missing = roccurveplot(y_test_missing,y_pred_adaBoost_gradient_missing, 'AdaBoost GradientBoost w/ Missing Dataset')\n",
    "print(roc_auc_adaBoost_gradBoost_missing)"
   ]
  },
  {
   "cell_type": "code",
   "execution_count": 96,
   "metadata": {},
   "outputs": [
    {
     "data": {
      "image/png": "[encoded data removed]",
      "text/plain": [
       "<Figure size 640x480 with 1 Axes>"
      ]
     },
     "metadata": {},
     "output_type": "display_data"
    },
    {
     "name": "stdout",
     "output_type": "stream",
     "text": [
      "0.9221283462008225\n"
     ]
    }
   ],
   "source": [
    "roc_auc_adaBoost_gradBoost_dropped = roccurveplot(y_test_dropped,y_pred_adaBoost_gradient_dropped, 'AdaBoost GradientBoost w/ Dropped Dataset')\n",
    "print(roc_auc_adaBoost_gradBoost_dropped)"
   ]
  },
  {
   "cell_type": "code",
   "execution_count": 99,
   "metadata": {},
   "outputs": [
    {
     "data": {
      "image/png": "[encoded data removed]",
      "text/plain": [
       "<Figure size 640x480 with 1 Axes>"
      ]
     },
     "metadata": {},
     "output_type": "display_data"
    },
    {
     "name": "stdout",
     "output_type": "stream",
     "text": [
      "0.8486788454316219\n"
     ]
    }
   ],
   "source": [
    "roc_auc_mlpmodel_missing = roccurveplot(y_test_missing,y_pred_mlpmodel_missing, 'MLP Neural Network Model w/ Missing Dataset')\n",
    "print(roc_auc_mlpmodel_missing)"
   ]
  },
  {
   "cell_type": "code",
   "execution_count": 98,
   "metadata": {},
   "outputs": [
    {
     "data": {
      "image/png": "[encoded data removed]",
      "text/plain": [
       "<Figure size 640x480 with 1 Axes>"
      ]
     },
     "metadata": {},
     "output_type": "display_data"
    },
    {
     "name": "stdout",
     "output_type": "stream",
     "text": [
      "0.842204710733615\n"
     ]
    }
   ],
   "source": [
    "roc_auc_mlpmodel_dropped = roccurveplot(y_test_dropped,y_pred_mlpmodel_dropped, 'MLP Neural Network Model w/ Dropped Dataset')\n",
    "print(roc_auc_mlpmodel_dropped)"
   ]
  },
  {
   "cell_type": "markdown",
   "metadata": {},
   "source": [
    "### 5.6.2 Create and Compare Results DataFrame"
   ]
  },
  {
   "cell_type": "markdown",
   "metadata": {},
   "source": [
    "Now compiling all the metrics used in order to adequantely compare each one of the predictive models created for each missing and dropped dataset trained dataset values."
   ]
  },
  {
   "cell_type": "code",
   "execution_count": 84,
   "metadata": {},
   "outputs": [],
   "source": [
    "#Creating Missing Dataframe to compare results of precision, recall, f1 score, accuracy, and roc_auc scores for each model.\n",
    "missing_results = {'Model Name':['Logistic Regression', 'Random Forest Classifier', 'Gradient Boosting Classifier', 'Support Vector Classifier', 'AdaBoost w/ Random Forest Classifier', 'AdaBoost w/ Gradient Boosting Classifier', 'MLP Neural Network Classifier'], 'Accuracy_score':[accuracy_score(y_test_missing , y_pred_log_missing), accuracy_score(y_test_missing , y_pred_randForest_missing), accuracy_score(y_test_missing , y_pred_gradBoost_missing), accuracy_score(y_test_missing , y_pred_svc_missing), accuracy_score(y_test_missing , y_pred_adaBoost_decision_missing), accuracy_score(y_test_missing , y_pred_adaBoost_gradient_missing), accuracy_score(y_test_missing, y_pred_mlpmodel_missing)] , 'Precision_score': [precision_score(y_test_missing, y_pred_log_missing, pos_label=0) , precision_score(y_test_missing, y_pred_randForest_missing, pos_label=0) , precision_score(y_test_missing, y_pred_gradBoost_missing, pos_label=0) , precision_score(y_test_missing, y_pred_svc_missing, pos_label=0) , precision_score(y_test_missing, y_pred_adaBoost_decision_missing, pos_label=0), precision_score(y_test_missing, y_pred_adaBoost_gradient_missing, pos_label=0), precision_score(y_test_missing,y_pred_mlpmodel_missing, pos_label=0)] , 'Recall_score':[recall_score(y_test_missing, y_pred_log_missing, pos_label=0), recall_score(y_test_missing, y_pred_randForest_missing, pos_label=0), recall_score(y_test_missing, y_pred_gradBoost_missing, pos_label=0), recall_score(y_test_missing, y_pred_svc_missing, pos_label=0), recall_score(y_test_missing, y_pred_adaBoost_decision_missing, pos_label=0), recall_score(y_test_missing, y_pred_adaBoost_gradient_missing, pos_label=0), recall_score(y_test_missing,y_pred_mlpmodel_missing, pos_label=0)], 'f1_score':[f1_score(y_test_missing, y_pred_log_missing, pos_label=0), f1_score(y_test_missing, y_pred_randForest_missing, pos_label=0), f1_score(y_test_missing, y_pred_gradBoost_missing, pos_label=0) , f1_score(y_test_missing, y_pred_svc_missing, pos_label=0), f1_score(y_test_missing, y_pred_adaBoost_decision_missing, pos_label=0), f1_score(y_test_missing, y_pred_adaBoost_gradient_missing, pos_label=0), f1_score(y_test_missing,y_pred_mlpmodel_missing)], 'ROC_AUC_score':[roc_auc_log_missing, roc_auc_randForest_missing, roc_auc_gradBoost_missing, roc_auc_svc_missing, roc_auc_adaBoost_randForest_missing, roc_auc_adaBoost_gradBoost_missing, roc_auc_mlpmodel_missing], 'Training Time (Sec)': [round(time_log_missing,2), round(randForestTime_missing,2), round(gradBoostTime_missing,2), round(svcTime_missing , 2) , round(adaBoostTime_decision_missing , 2) , round(adaBoostTime_gradient_missing , 2), round(mlpmodelTime_missing, 2)]}"
   ]
  },
  {
   "cell_type": "code",
   "execution_count": 85,
   "metadata": {},
   "outputs": [
    {
     "data": {
      "text/html": [
       "<div>\n",
       "<style scoped>\n",
       "    .dataframe tbody tr th:only-of-type {\n",
       "        vertical-align: middle;\n",
       "    }\n",
       "\n",
       "    .dataframe tbody tr th {\n",
       "        vertical-align: top;\n",
       "    }\n",
       "\n",
       "    .dataframe thead th {\n",
       "        text-align: right;\n",
       "    }\n",
       "</style>\n",
       "<table border=\"1\" class=\"dataframe\">\n",
       "  <thead>\n",
       "    <tr style=\"text-align: right;\">\n",
       "      <th></th>\n",
       "      <th>Model Name</th>\n",
       "      <th>Accuracy_score</th>\n",
       "      <th>Precision_score</th>\n",
       "      <th>Recall_score</th>\n",
       "      <th>f1_score</th>\n",
       "      <th>ROC_AUC_score</th>\n",
       "      <th>Training Time (Sec)</th>\n",
       "    </tr>\n",
       "  </thead>\n",
       "  <tbody>\n",
       "    <tr>\n",
       "      <th>0</th>\n",
       "      <td>Logistic Regression</td>\n",
       "      <td>0.906211</td>\n",
       "      <td>0.730769</td>\n",
       "      <td>0.580556</td>\n",
       "      <td>0.647059</td>\n",
       "      <td>0.771688</td>\n",
       "      <td>15.40</td>\n",
       "    </tr>\n",
       "    <tr>\n",
       "      <th>1</th>\n",
       "      <td>Random Forest Classifier</td>\n",
       "      <td>0.939120</td>\n",
       "      <td>0.886861</td>\n",
       "      <td>0.675000</td>\n",
       "      <td>0.766562</td>\n",
       "      <td>0.830016</td>\n",
       "      <td>62.87</td>\n",
       "    </tr>\n",
       "    <tr>\n",
       "      <th>2</th>\n",
       "      <td>Gradient Boosting Classifier</td>\n",
       "      <td>0.967914</td>\n",
       "      <td>0.927273</td>\n",
       "      <td>0.850000</td>\n",
       "      <td>0.886957</td>\n",
       "      <td>0.919206</td>\n",
       "      <td>846.87</td>\n",
       "    </tr>\n",
       "    <tr>\n",
       "      <th>3</th>\n",
       "      <td>Support Vector Classifier</td>\n",
       "      <td>0.915673</td>\n",
       "      <td>0.725948</td>\n",
       "      <td>0.691667</td>\n",
       "      <td>0.708393</td>\n",
       "      <td>0.823139</td>\n",
       "      <td>80.43</td>\n",
       "    </tr>\n",
       "    <tr>\n",
       "      <th>4</th>\n",
       "      <td>AdaBoost w/ Random Forest Classifier</td>\n",
       "      <td>0.963801</td>\n",
       "      <td>0.944444</td>\n",
       "      <td>0.802778</td>\n",
       "      <td>0.867868</td>\n",
       "      <td>0.897285</td>\n",
       "      <td>1535.73</td>\n",
       "    </tr>\n",
       "    <tr>\n",
       "      <th>5</th>\n",
       "      <td>AdaBoost w/ Gradient Boosting Classifier</td>\n",
       "      <td>0.969148</td>\n",
       "      <td>0.930514</td>\n",
       "      <td>0.855556</td>\n",
       "      <td>0.891462</td>\n",
       "      <td>0.922225</td>\n",
       "      <td>213.50</td>\n",
       "    </tr>\n",
       "    <tr>\n",
       "      <th>6</th>\n",
       "      <td>MLP Neural Network Classifier</td>\n",
       "      <td>0.933772</td>\n",
       "      <td>0.806154</td>\n",
       "      <td>0.727778</td>\n",
       "      <td>0.961456</td>\n",
       "      <td>0.848679</td>\n",
       "      <td>514.61</td>\n",
       "    </tr>\n",
       "  </tbody>\n",
       "</table>\n",
       "</div>"
      ],
      "text/plain": [
       "                                 Model Name  Accuracy_score  Precision_score  \\\n",
       "0                       Logistic Regression        0.906211         0.730769   \n",
       "1                  Random Forest Classifier        0.939120         0.886861   \n",
       "2              Gradient Boosting Classifier        0.967914         0.927273   \n",
       "3                 Support Vector Classifier        0.915673         0.725948   \n",
       "4      AdaBoost w/ Random Forest Classifier        0.963801         0.944444   \n",
       "5  AdaBoost w/ Gradient Boosting Classifier        0.969148         0.930514   \n",
       "6             MLP Neural Network Classifier        0.933772         0.806154   \n",
       "\n",
       "   Recall_score  f1_score  ROC_AUC_score  Training Time (Sec)  \n",
       "0      0.580556  0.647059       0.771688                15.40  \n",
       "1      0.675000  0.766562       0.830016                62.87  \n",
       "2      0.850000  0.886957       0.919206               846.87  \n",
       "3      0.691667  0.708393       0.823139                80.43  \n",
       "4      0.802778  0.867868       0.897285              1535.73  \n",
       "5      0.855556  0.891462       0.922225               213.50  \n",
       "6      0.727778  0.961456       0.848679               514.61  "
      ]
     },
     "execution_count": 85,
     "metadata": {},
     "output_type": "execute_result"
    }
   ],
   "source": [
    "missing_results_df = pd.DataFrame(missing_results)\n",
    "missing_results_df"
   ]
  },
  {
   "cell_type": "code",
   "execution_count": 86,
   "metadata": {},
   "outputs": [],
   "source": [
    "#Creating Dropped Dataframe to compare results of precision, recall, f1 score, accuracy, and roc_auc scores for each model.\n",
    "dropped_results = {'Model Name':['Logistic Regression', 'Random Forest Classifier', 'Gradient Boosting Classifier', 'Support Vector Classifier', 'AdaBoost w/ Random Forest Classifier', 'AdaBoost w/ Gradient Boosting Classifier','MLP Neural Network Classifier'], 'Accuracy_score':[accuracy_score(y_test_dropped , y_pred_log_dropped), accuracy_score(y_test_dropped , y_pred_randForest_dropped), accuracy_score(y_test_dropped , y_pred_gradBoost_dropped), accuracy_score(y_test_dropped , y_pred_svc_dropped), accuracy_score(y_test_dropped , y_pred_adaBoost_decision_dropped), accuracy_score(y_test_dropped , y_pred_adaBoost_gradient_dropped), accuracy_score(y_test_dropped, y_pred_mlpmodel_dropped) ] , 'Precision_score': [precision_score(y_test_dropped, y_pred_log_dropped, pos_label=0) , precision_score(y_test_dropped, y_pred_randForest_dropped, pos_label=0) , precision_score(y_test_dropped, y_pred_gradBoost_dropped, pos_label=0) , precision_score(y_test_dropped, y_pred_svc_dropped, pos_label=0) , precision_score(y_test_dropped, y_pred_adaBoost_decision_dropped, pos_label=0), precision_score(y_test_dropped, y_pred_adaBoost_gradient_dropped, pos_label=0),  precision_score(y_test_dropped,y_pred_mlpmodel_dropped, pos_label=0)] , 'Recall_score':[recall_score(y_test_dropped, y_pred_log_dropped, pos_label=0), recall_score(y_test_dropped, y_pred_randForest_dropped, pos_label=0), recall_score(y_test_dropped, y_pred_gradBoost_dropped, pos_label=0), recall_score(y_test_dropped, y_pred_svc_dropped, pos_label=0), recall_score(y_test_dropped, y_pred_adaBoost_decision_dropped, pos_label=0), recall_score(y_test_dropped, y_pred_adaBoost_gradient_dropped, pos_label=0), recall_score(y_test_dropped,y_pred_mlpmodel_dropped, pos_label=0) ], 'f1_score':[f1_score(y_test_dropped, y_pred_log_dropped, pos_label=0), f1_score(y_test_dropped, y_pred_randForest_dropped, pos_label=0), f1_score(y_test_dropped, y_pred_gradBoost_dropped, pos_label=0) , f1_score(y_test_dropped, y_pred_svc_dropped, pos_label=0), f1_score(y_test_dropped, y_pred_adaBoost_decision_dropped, pos_label=0), f1_score(y_test_dropped, y_pred_adaBoost_gradient_dropped, pos_label=0), f1_score(y_test_dropped,y_pred_mlpmodel_dropped) ], 'ROC_AUC_score':[roc_auc_log_dropped, roc_auc_randForest_dropped, roc_auc_gradBoost_dropped, roc_auc_svc_dropped, roc_auc_adaBoost_randForest_dropped, roc_auc_adaBoost_gradBoost_dropped, roc_auc_mlpmodel_dropped], 'Training Time (Sec)': [round(time_log_dropped,2), round(randForestTime_dropped,2), round(gradBoostTime_dropped,2), round(svcTime_dropped, 2) , round(adaBoostTime_decision_dropped, 2) , round(adaBoostTime_gradient_dropped, 2), round(mlpmodelTime_dropped, 2)]}"
   ]
  },
  {
   "cell_type": "code",
   "execution_count": 87,
   "metadata": {},
   "outputs": [
    {
     "data": {
      "text/html": [
       "<div>\n",
       "<style scoped>\n",
       "    .dataframe tbody tr th:only-of-type {\n",
       "        vertical-align: middle;\n",
       "    }\n",
       "\n",
       "    .dataframe tbody tr th {\n",
       "        vertical-align: top;\n",
       "    }\n",
       "\n",
       "    .dataframe thead th {\n",
       "        text-align: right;\n",
       "    }\n",
       "</style>\n",
       "<table border=\"1\" class=\"dataframe\">\n",
       "  <thead>\n",
       "    <tr style=\"text-align: right;\">\n",
       "      <th></th>\n",
       "      <th>Model Name</th>\n",
       "      <th>Accuracy_score</th>\n",
       "      <th>Precision_score</th>\n",
       "      <th>Recall_score</th>\n",
       "      <th>f1_score</th>\n",
       "      <th>ROC_AUC_score</th>\n",
       "      <th>Training Time (Sec)</th>\n",
       "    </tr>\n",
       "  </thead>\n",
       "  <tbody>\n",
       "    <tr>\n",
       "      <th>0</th>\n",
       "      <td>Logistic Regression</td>\n",
       "      <td>0.914470</td>\n",
       "      <td>0.760638</td>\n",
       "      <td>0.586066</td>\n",
       "      <td>0.662037</td>\n",
       "      <td>0.777653</td>\n",
       "      <td>14.31</td>\n",
       "    </tr>\n",
       "    <tr>\n",
       "      <th>1</th>\n",
       "      <td>Random Forest Classifier</td>\n",
       "      <td>0.949619</td>\n",
       "      <td>0.959302</td>\n",
       "      <td>0.676230</td>\n",
       "      <td>0.793269</td>\n",
       "      <td>0.835722</td>\n",
       "      <td>52.23</td>\n",
       "    </tr>\n",
       "    <tr>\n",
       "      <th>2</th>\n",
       "      <td>Gradient Boosting Classifier</td>\n",
       "      <td>0.968366</td>\n",
       "      <td>0.935780</td>\n",
       "      <td>0.836066</td>\n",
       "      <td>0.883117</td>\n",
       "      <td>0.913248</td>\n",
       "      <td>603.65</td>\n",
       "    </tr>\n",
       "    <tr>\n",
       "      <th>3</th>\n",
       "      <td>Support Vector Classifier</td>\n",
       "      <td>0.930287</td>\n",
       "      <td>0.796209</td>\n",
       "      <td>0.688525</td>\n",
       "      <td>0.738462</td>\n",
       "      <td>0.829566</td>\n",
       "      <td>40.19</td>\n",
       "    </tr>\n",
       "    <tr>\n",
       "      <th>4</th>\n",
       "      <td>AdaBoost w/ Random Forest Classifier</td>\n",
       "      <td>0.961921</td>\n",
       "      <td>0.963731</td>\n",
       "      <td>0.762295</td>\n",
       "      <td>0.851259</td>\n",
       "      <td>0.878755</td>\n",
       "      <td>1171.65</td>\n",
       "    </tr>\n",
       "    <tr>\n",
       "      <th>5</th>\n",
       "      <td>AdaBoost w/ Gradient Boosting Classifier</td>\n",
       "      <td>0.971880</td>\n",
       "      <td>0.945455</td>\n",
       "      <td>0.852459</td>\n",
       "      <td>0.896552</td>\n",
       "      <td>0.922128</td>\n",
       "      <td>926.41</td>\n",
       "    </tr>\n",
       "    <tr>\n",
       "      <th>6</th>\n",
       "      <td>MLP Neural Network Classifier</td>\n",
       "      <td>0.937317</td>\n",
       "      <td>0.827751</td>\n",
       "      <td>0.709016</td>\n",
       "      <td>0.963864</td>\n",
       "      <td>0.842205</td>\n",
       "      <td>351.12</td>\n",
       "    </tr>\n",
       "  </tbody>\n",
       "</table>\n",
       "</div>"
      ],
      "text/plain": [
       "                                 Model Name  Accuracy_score  Precision_score  \\\n",
       "0                       Logistic Regression        0.914470         0.760638   \n",
       "1                  Random Forest Classifier        0.949619         0.959302   \n",
       "2              Gradient Boosting Classifier        0.968366         0.935780   \n",
       "3                 Support Vector Classifier        0.930287         0.796209   \n",
       "4      AdaBoost w/ Random Forest Classifier        0.961921         0.963731   \n",
       "5  AdaBoost w/ Gradient Boosting Classifier        0.971880         0.945455   \n",
       "6             MLP Neural Network Classifier        0.937317         0.827751   \n",
       "\n",
       "   Recall_score  f1_score  ROC_AUC_score  Training Time (Sec)  \n",
       "0      0.586066  0.662037       0.777653                14.31  \n",
       "1      0.676230  0.793269       0.835722                52.23  \n",
       "2      0.836066  0.883117       0.913248               603.65  \n",
       "3      0.688525  0.738462       0.829566                40.19  \n",
       "4      0.762295  0.851259       0.878755              1171.65  \n",
       "5      0.852459  0.896552       0.922128               926.41  \n",
       "6      0.709016  0.963864       0.842205               351.12  "
      ]
     },
     "execution_count": 87,
     "metadata": {},
     "output_type": "execute_result"
    }
   ],
   "source": [
    "dropped_results_df = pd.DataFrame(dropped_results)\n",
    "dropped_results_df"
   ]
  },
  {
   "cell_type": "markdown",
   "metadata": {},
   "source": [
    "Looking the above comprehensive results, it seems that Logistic Regression though had the shortest training time, turned to be the worst performer for both the missing and dropped valued datasets as per predicting label of churn or '0'. The best performer overall for both the dropped and missing datasets seems to be Gradient Boosting Classifer when applied with the AdaBoost Classifier model. However, the steps involved in terms of reiterating the results will involve also retreiving the best hyperparameters for the base Gradient Boosting model so this might not be the best intuitive model in order to reproduce. However, once finding the best hyperparameters for the base Gradient Boosting model, the AdaBoost Classifier slighlty improves its prior sole Gradient Boosting counterpart as per predicting values of churn within the datasets. Though in terms of ease of reproducibility and scale, just accessing the individual Gradient Boosting Model seems sufficient for prediciting churn for the bank churn datasets. \n",
    "\n",
    "Some notes to mention, the AdaBoost Classifier with the Gradient Boosting Base model in the missing dataset seemed to take less training time as compared to its individual counterpart; however in the dropped dataset, the training time was higher than its individual Gradient Boosting base model counterpart which might be due to the AdaBoost needing to correct more values in the dropped versus in the missing dataset. Also it seemed the Random Forest Classifier had better performance when the values of the missing data were dropped as compared to imputing them with the categorical variable of 'missing'. This same phenomena is seen as well with the Logistic Regression and Support Vector Classifier models. It seems as well looking at the data for the MLP Neural Network Classifier models, that there needs to be further tuning potentially to test all factors for the model in order to potentially increase performance. However given the time constraints and only really allowing the model to make 200 iterations in order to create its solution, it seems sufficient to move forward with just the individual Gradient Boosting Model for predicting churn for the bank churn datasets. "
   ]
  },
  {
   "cell_type": "markdown",
   "metadata": {},
   "source": [
    "## 5.7 Save Data & Summary"
   ]
  },
  {
   "cell_type": "code",
   "execution_count": 88,
   "metadata": {},
   "outputs": [],
   "source": [
    "# save the missing and dropped results dataframe to file\n",
    "datapath = 'C:/Users/tpooz/OneDrive/Desktop/Data_Science_BootCamp_2023/SpringBoard_Github/Bank-Churnrate/0_Datasets'\n",
    "missing_results_df.to_csv('C:/Users/tpooz/OneDrive/Desktop/Data_Science_BootCamp_2023/SpringBoard_Github/Bank-Churnrate/0_Datasets/bank_churn_missing_results.csv') \n",
    "dropped_results_df.to_csv('C:/Users/tpooz/OneDrive/Desktop/Data_Science_BootCamp_2023/SpringBoard_Github/Bank-Churnrate/0_Datasets/bank_churn_dropped_results.csv') "
   ]
  },
  {
   "cell_type": "markdown",
   "metadata": {},
   "source": [
    "After developing different models (Logistic Regression, Random Forest, Gradient Boosting, Support Vector Classifier, AdaBoost Classifier with RandomForest Base and AdaBoost Classifier with Gradient Boosting Base, and Neural Network with Multi-Layer Perceptron classifier) and comparing each of the models results with the associated true test value sets, it seems the best performer for both the missing and dropped datasets is AdaBoost Classifier model with a Hyperparameterized Gradient Boosting model base, though this model is only slightly better performer than its individual Gradient Boosting Base. Therefore, in terms of ease of reproducibility and scale, having just the Gradient Boosting Model might be sufficient to offer generalizable predictability of churn for the bank churn datasets.\n",
    "\n",
    "However, potential future work will be to further fine tune the Multi-Layer Perceptron Neural Network Classifier model in order to see if the model with further tuned hyperparameters can outperform the Gradient Boosting model with the Ada Boost Classifier. But for the case of moving forward with a model to place into production, the individual Gradient Boosting classifier model again seems sufficient in terms of predictability for the bank churn datasets. Additional efforts would be to retrieve the feature importances of the Gradient Boosting model to gather more insight as per what features significantly affect the model.\n",
    "\n",
    "In terms of differences between whether dropping the null values or imputing the null values with the categorical variable 'missing', the training time overall was shorter in the dropped dataset versus the missing except for the AdaBoost Classifier with Gradient Boosting Base model. It seems there is a mixed response as per effectiveness of dropping versus imputing the missing values. Dropping the rows lead to Logistic Regression, Random Forest, and Support Vector Classifier models having slightly better performance than its imputed counterpart, however performance slightly suffered in terms of dropped versus missing for Gradient Boosting, and the AdaBoost Classifiers counterpart where missing dataset had a better performance in terms of recall in predicting 0 label or churn, f1_score, and ROC_AUC_score. Therefore, imputing 'missing' values with a categorical variable of 'missing' will be added as well for future datasets prior to prediction."
   ]
  }
 ],
 "metadata": {
  "kernelspec": {
   "display_name": "Python 3 (ipykernel)",
   "language": "python",
   "name": "python3"
  },
  "language_info": {
   "codemirror_mode": {
    "name": "ipython",
    "version": 3
   },
   "file_extension": ".py",
   "mimetype": "text/x-python",
   "name": "python",
   "nbconvert_exporter": "python",
   "pygments_lexer": "ipython3",
   "version": "3.10.9"
  },
  "toc": {
   "base_numbering": 1,
   "nav_menu": {},
   "number_sections": true,
   "sideBar": true,
   "skip_h1_title": false,
   "title_cell": "Table of Contents",
   "title_sidebar": "Contents",
   "toc_cell": false,
   "toc_position": {},
   "toc_section_display": true,
   "toc_window_display": true
  },
  "varInspector": {
   "cols": {
    "lenName": 16,
    "lenType": 16,
    "lenVar": 40
   },
   "kernels_config": {
    "python": {
     "delete_cmd_postfix": "",
     "delete_cmd_prefix": "del ",
     "library": "var_list.py",
     "varRefreshCmd": "print(var_dic_list())"
    },
    "r": {
     "delete_cmd_postfix": ") ",
     "delete_cmd_prefix": "rm(",
     "library": "var_list.r",
     "varRefreshCmd": "cat(var_dic_list()) "
    }
   },
   "types_to_exclude": [
    "module",
    "function",
    "builtin_function_or_method",
    "instance",
    "_Feature"
   ],
   "window_display": false
  }
 },
 "nbformat": 4,
 "nbformat_minor": 4
}
